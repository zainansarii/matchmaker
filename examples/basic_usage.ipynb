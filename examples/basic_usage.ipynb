{
 "cells": [
  {
   "cell_type": "markdown",
   "id": "228ad5cf",
   "metadata": {},
   "source": [
    "### ⚠️ Note: NVIDIA Driver Installation Required ⚠️\n",
    "\n",
    "Verify with: ```nvidia-smi```"
   ]
  },
  {
   "cell_type": "code",
   "execution_count": 21,
   "id": "52162fdc",
   "metadata": {},
   "outputs": [],
   "source": [
    "from matchmaker import matchmaker\n",
    "import cudf\n"
   ]
  },
  {
   "cell_type": "code",
   "execution_count": 2,
   "id": "d10ed8b7",
   "metadata": {},
   "outputs": [],
   "source": [
    "raw = cudf.read_csv(\"data/swipes_clean.csv\")"
   ]
  },
  {
   "cell_type": "code",
   "execution_count": 3,
   "id": "f5bbd151",
   "metadata": {},
   "outputs": [
    {
     "name": "stdout",
     "output_type": "stream",
     "text": [
      "✅ GPU acceleration enabled\n"
     ]
    }
   ],
   "source": [
    "engine = matchmaker.MatchingEngine()"
   ]
  },
  {
   "cell_type": "code",
   "execution_count": 4,
   "id": "a8296c41",
   "metadata": {},
   "outputs": [
    {
     "name": "stdout",
     "output_type": "stream",
     "text": [
      "Reading data... ✅\n",
      "Constructing graph...✅\n",
      "Fitting ALS... 🚀 Starting collaborative filtering training...\n",
      "📊 Detected cuDF DataFrame, converting to pandas...\n",
      "📊 Creating user mappings...\n",
      "📈 49,602 users in square matrix\n",
      "💾 4,964,736 unique interactions\n",
      "🔨 Building square sparse matrix...\n",
      "📊 Matrix density: 0.2018%\n",
      "🎯 Training ALS model...\n"
     ]
    },
    {
     "name": "stderr",
     "output_type": "stream",
     "text": [
      "100%|██████████| 15/15 [00:01<00:00, 13.94it/s]"
     ]
    },
    {
     "name": "stdout",
     "output_type": "stream",
     "text": [
      "🔄 Converting factors to numpy arrays...\n",
      "✅ Model trained in 1.33s\n",
      "⏱️ Total processing time: 4.72s\n",
      "📋 Factor arrays: user_factors (49602, 64), item_factors (49602, 64)\n",
      "Complete! ✅\n"
     ]
    },
    {
     "name": "stderr",
     "output_type": "stream",
     "text": [
      "\n"
     ]
    }
   ],
   "source": [
    "engine.load_interactions(\"data/swipes_clean.csv\", \n",
    "  decider_col='decidermemberid',\n",
    "  other_col='othermemberid', \n",
    "  like_col='like', \n",
    "  timestamp_col='timestamp',\n",
    "  gender_col='decidergender')"
   ]
  },
  {
   "cell_type": "code",
   "execution_count": null,
   "id": "1443299b",
   "metadata": {},
   "outputs": [],
   "source": [
    "engine.run_engagement()"
   ]
  },
  {
   "cell_type": "code",
   "execution_count": 6,
   "id": "d6ff5720",
   "metadata": {},
   "outputs": [
    {
     "data": {
      "text/html": [
       "<div>\n",
       "<style scoped>\n",
       "    .dataframe tbody tr th:only-of-type {\n",
       "        vertical-align: middle;\n",
       "    }\n",
       "\n",
       "    .dataframe tbody tr th {\n",
       "        vertical-align: top;\n",
       "    }\n",
       "\n",
       "    .dataframe thead th {\n",
       "        text-align: right;\n",
       "    }\n",
       "</style>\n",
       "<table border=\"1\" class=\"dataframe\">\n",
       "  <thead>\n",
       "    <tr style=\"text-align: right;\">\n",
       "      <th></th>\n",
       "      <th>user_id</th>\n",
       "      <th>gender</th>\n",
       "      <th>weighted_swipes</th>\n",
       "      <th>weighted_likes</th>\n",
       "      <th>total_swipes</th>\n",
       "      <th>total_likes</th>\n",
       "      <th>like_rate_raw</th>\n",
       "      <th>like_rate_weighted</th>\n",
       "      <th>like_rate_smoothed</th>\n",
       "      <th>decision_confidence</th>\n",
       "      <th>activity_score</th>\n",
       "      <th>intentionality_score</th>\n",
       "      <th>engagement_score</th>\n",
       "    </tr>\n",
       "  </thead>\n",
       "  <tbody>\n",
       "    <tr>\n",
       "      <th>0</th>\n",
       "      <td>722571</td>\n",
       "      <td>M</td>\n",
       "      <td>58.848001</td>\n",
       "      <td>34.714383</td>\n",
       "      <td>63</td>\n",
       "      <td>37.0</td>\n",
       "      <td>0.587302</td>\n",
       "      <td>0.589899</td>\n",
       "      <td>0.457369</td>\n",
       "      <td>0.568585</td>\n",
       "      <td>0.996699</td>\n",
       "      <td>0.389659</td>\n",
       "      <td>0.753883</td>\n",
       "    </tr>\n",
       "    <tr>\n",
       "      <th>1</th>\n",
       "      <td>143883</td>\n",
       "      <td>M</td>\n",
       "      <td>61.032454</td>\n",
       "      <td>60.074962</td>\n",
       "      <td>64</td>\n",
       "      <td>63.0</td>\n",
       "      <td>0.984375</td>\n",
       "      <td>0.984312</td>\n",
       "      <td>0.643289</td>\n",
       "      <td>0.581840</td>\n",
       "      <td>0.998284</td>\n",
       "      <td>0.008404</td>\n",
       "      <td>0.602332</td>\n",
       "    </tr>\n",
       "    <tr>\n",
       "      <th>2</th>\n",
       "      <td>3002422</td>\n",
       "      <td>M</td>\n",
       "      <td>167.083976</td>\n",
       "      <td>138.889596</td>\n",
       "      <td>174</td>\n",
       "      <td>144.0</td>\n",
       "      <td>0.827586</td>\n",
       "      <td>0.831256</td>\n",
       "      <td>0.687969</td>\n",
       "      <td>0.908087</td>\n",
       "      <td>0.848858</td>\n",
       "      <td>0.004325</td>\n",
       "      <td>0.511045</td>\n",
       "    </tr>\n",
       "    <tr>\n",
       "      <th>3</th>\n",
       "      <td>1290883</td>\n",
       "      <td>M</td>\n",
       "      <td>178.001112</td>\n",
       "      <td>44.940749</td>\n",
       "      <td>187</td>\n",
       "      <td>47.0</td>\n",
       "      <td>0.251337</td>\n",
       "      <td>0.252475</td>\n",
       "      <td>0.278860</td>\n",
       "      <td>0.921360</td>\n",
       "      <td>0.829058</td>\n",
       "      <td>0.869073</td>\n",
       "      <td>0.845064</td>\n",
       "    </tr>\n",
       "    <tr>\n",
       "      <th>4</th>\n",
       "      <td>3659612</td>\n",
       "      <td>M</td>\n",
       "      <td>1409.380163</td>\n",
       "      <td>48.592051</td>\n",
       "      <td>1486</td>\n",
       "      <td>51.0</td>\n",
       "      <td>0.034320</td>\n",
       "      <td>0.034478</td>\n",
       "      <td>0.049216</td>\n",
       "      <td>1.000000</td>\n",
       "      <td>0.158552</td>\n",
       "      <td>0.233351</td>\n",
       "      <td>0.188471</td>\n",
       "    </tr>\n",
       "  </tbody>\n",
       "</table>\n",
       "</div>"
      ],
      "text/plain": [
       "   user_id gender  weighted_swipes  weighted_likes  total_swipes  total_likes  \\\n",
       "0   722571      M        58.848001       34.714383            63         37.0   \n",
       "1   143883      M        61.032454       60.074962            64         63.0   \n",
       "2  3002422      M       167.083976      138.889596           174        144.0   \n",
       "3  1290883      M       178.001112       44.940749           187         47.0   \n",
       "4  3659612      M      1409.380163       48.592051          1486         51.0   \n",
       "\n",
       "   like_rate_raw  like_rate_weighted  like_rate_smoothed  decision_confidence  \\\n",
       "0       0.587302            0.589899            0.457369             0.568585   \n",
       "1       0.984375            0.984312            0.643289             0.581840   \n",
       "2       0.827586            0.831256            0.687969             0.908087   \n",
       "3       0.251337            0.252475            0.278860             0.921360   \n",
       "4       0.034320            0.034478            0.049216             1.000000   \n",
       "\n",
       "   activity_score  intentionality_score  engagement_score  \n",
       "0        0.996699              0.389659          0.753883  \n",
       "1        0.998284              0.008404          0.602332  \n",
       "2        0.848858              0.004325          0.511045  \n",
       "3        0.829058              0.869073          0.845064  \n",
       "4        0.158552              0.233351          0.188471  "
      ]
     },
     "execution_count": 6,
     "metadata": {},
     "output_type": "execute_result"
    }
   ],
   "source": [
    "engine.user_df.head()"
   ]
  },
  {
   "cell_type": "code",
   "execution_count": 7,
   "id": "b41b839a",
   "metadata": {},
   "outputs": [],
   "source": [
    "engine.run_popularity()"
   ]
  },
  {
   "cell_type": "code",
   "execution_count": 8,
   "id": "e3e6c321",
   "metadata": {},
   "outputs": [],
   "source": [
    "user_df = engine.user_df\n",
    "interaction_df = engine.interaction_df\n",
    "interaction_graph = engine.interaction_graph\n",
    "als_model = engine.als_model"
   ]
  },
  {
   "cell_type": "code",
   "execution_count": null,
   "id": "32d8c3c1",
   "metadata": {},
   "outputs": [],
   "source": []
  }
 ],
 "metadata": {
  "kernelspec": {
   "display_name": "matchmaker-dev",
   "language": "python",
   "name": "python3"
  },
  "language_info": {
   "codemirror_mode": {
    "name": "ipython",
    "version": 3
   },
   "file_extension": ".py",
   "mimetype": "text/x-python",
   "name": "python",
   "nbconvert_exporter": "python",
   "pygments_lexer": "ipython3",
   "version": "3.10.18"
  }
 },
 "nbformat": 4,
 "nbformat_minor": 5
}
