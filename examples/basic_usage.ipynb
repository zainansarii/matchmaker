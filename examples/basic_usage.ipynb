{
 "cells": [
  {
   "cell_type": "markdown",
   "id": "228ad5cf",
   "metadata": {},
   "source": [
    "# NVIDIA Driver Installation Required\n",
    "\n",
    "**⚠️ IMPORTANT: You need to install NVIDIA drivers first!**\n",
    "\n",
    "Your system shows an NVIDIA L4 GPU but no drivers are installed. Run these commands in a terminal:\n",
    "\n",
    "```bash\n",
    "# Install the recommended NVIDIA driver\n",
    "sudo apt update\n",
    "sudo apt install nvidia-driver-580-open\n",
    "\n",
    "# Reboot system (required!)\n",
    "sudo reboot\n",
    "```\n",
    "\n",
    "After reboot, verify with:\n",
    "```bash\n",
    "nvidia-smi\n",
    "```\n",
    "\n",
    "Then you can proceed with the matchmaker setup."
   ]
  },
  {
   "cell_type": "code",
   "execution_count": null,
   "id": "52162fdc",
   "metadata": {},
   "outputs": [],
   "source": [
    "from matchmaker import matchmaker"
   ]
  },
  {
   "cell_type": "code",
   "execution_count": null,
   "id": "09f180bb",
   "metadata": {},
   "outputs": [],
   "source": [
    "engine = matchmaker.MatchingEngine()\n",
    "engine.load_interactions(\"data/swipes.csv\", \n",
    "  decider_col='decidermemberid', \n",
    "  other_col='othermemberid', \n",
    "  like_col='like', \n",
    "  timestamp_col='timestamp')"
   ]
  },
  {
   "cell_type": "code",
   "execution_count": null,
   "id": "993f90e1",
   "metadata": {},
   "outputs": [],
   "source": [
    "engine.interactions_df.head()"
   ]
  }
 ],
 "metadata": {
  "kernelspec": {
   "display_name": "matchmaker-dev",
   "language": "python",
   "name": "python3"
  },
  "language_info": {
   "codemirror_mode": {
    "name": "ipython",
    "version": 3
   },
   "file_extension": ".py",
   "mimetype": "text/x-python",
   "name": "python",
   "nbconvert_exporter": "python",
   "pygments_lexer": "ipython3",
   "version": "3.10.18"
  }
 },
 "nbformat": 4,
 "nbformat_minor": 5
}
