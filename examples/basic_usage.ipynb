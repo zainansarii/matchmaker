{
 "cells": [
  {
   "cell_type": "markdown",
   "id": "228ad5cf",
   "metadata": {},
   "source": [
    "### ⚠️ Note: NVIDIA Driver Installation Required ⚠️\n",
    "\n",
    "Verify with: ```nvidia-smi```"
   ]
  },
  {
   "cell_type": "code",
   "execution_count": 1,
   "id": "52162fdc",
   "metadata": {},
   "outputs": [],
   "source": [
    "from matchmaker import matchmaker"
   ]
  },
  {
   "cell_type": "code",
   "execution_count": 2,
   "id": "09f180bb",
   "metadata": {},
   "outputs": [],
   "source": [
    "engine = matchmaker.MatchingEngine()"
   ]
  },
  {
   "cell_type": "code",
   "execution_count": 3,
   "id": "c2154604",
   "metadata": {},
   "outputs": [
    {
     "name": "stdout",
     "output_type": "stream",
     "text": [
      "Data Loaded ✅\n"
     ]
    }
   ],
   "source": [
    "engine.load_interactions(\"data/swipes.csv\", \n",
    "  decider_col='decidermemberid', \n",
    "  other_col='othermemberid', \n",
    "  like_col='like', \n",
    "  timestamp_col='timestamp')"
   ]
  },
  {
   "cell_type": "code",
   "execution_count": 4,
   "id": "993f90e1",
   "metadata": {},
   "outputs": [
    {
     "name": "stdout",
     "output_type": "stream",
     "text": [
      "Popularity features added to User DF ✅\n"
     ]
    }
   ],
   "source": [
    "engine.run_popularity()"
   ]
  },
  {
   "cell_type": "code",
   "execution_count": null,
   "id": "b23f9d79",
   "metadata": {},
   "outputs": [],
   "source": []
  },
  {
   "cell_type": "code",
   "execution_count": 5,
   "id": "8b0ccb7b",
   "metadata": {},
   "outputs": [
    {
     "data": {
      "text/html": [
       "<div>\n",
       "<style scoped>\n",
       "    .dataframe tbody tr th:only-of-type {\n",
       "        vertical-align: middle;\n",
       "    }\n",
       "\n",
       "    .dataframe tbody tr th {\n",
       "        vertical-align: top;\n",
       "    }\n",
       "\n",
       "    .dataframe thead th {\n",
       "        text-align: right;\n",
       "    }\n",
       "</style>\n",
       "<table border=\"1\" class=\"dataframe\">\n",
       "  <thead>\n",
       "    <tr style=\"text-align: right;\">\n",
       "      <th></th>\n",
       "      <th>user_id</th>\n",
       "      <th>pagerank</th>\n",
       "      <th>likes_received</th>\n",
       "      <th>likes_given</th>\n",
       "      <th>like_ratio</th>\n",
       "    </tr>\n",
       "  </thead>\n",
       "  <tbody>\n",
       "    <tr>\n",
       "      <th>0</th>\n",
       "      <td>242983</td>\n",
       "      <td>0.000009</td>\n",
       "      <td>6</td>\n",
       "      <td>251</td>\n",
       "      <td>0.023904</td>\n",
       "    </tr>\n",
       "    <tr>\n",
       "      <th>1</th>\n",
       "      <td>185416</td>\n",
       "      <td>0.000004</td>\n",
       "      <td>1</td>\n",
       "      <td>64</td>\n",
       "      <td>0.015625</td>\n",
       "    </tr>\n",
       "    <tr>\n",
       "      <th>2</th>\n",
       "      <td>1605941</td>\n",
       "      <td>0.000042</td>\n",
       "      <td>28</td>\n",
       "      <td>84</td>\n",
       "      <td>0.333333</td>\n",
       "    </tr>\n",
       "    <tr>\n",
       "      <th>3</th>\n",
       "      <td>1505651</td>\n",
       "      <td>0.000018</td>\n",
       "      <td>11</td>\n",
       "      <td>1029</td>\n",
       "      <td>0.010690</td>\n",
       "    </tr>\n",
       "    <tr>\n",
       "      <th>4</th>\n",
       "      <td>43214</td>\n",
       "      <td>0.000006</td>\n",
       "      <td>4</td>\n",
       "      <td>122</td>\n",
       "      <td>0.032787</td>\n",
       "    </tr>\n",
       "  </tbody>\n",
       "</table>\n",
       "</div>"
      ],
      "text/plain": [
       "   user_id  pagerank  likes_received  likes_given  like_ratio\n",
       "0   242983  0.000009               6          251    0.023904\n",
       "1   185416  0.000004               1           64    0.015625\n",
       "2  1605941  0.000042              28           84    0.333333\n",
       "3  1505651  0.000018              11         1029    0.010690\n",
       "4    43214  0.000006               4          122    0.032787"
      ]
     },
     "execution_count": 5,
     "metadata": {},
     "output_type": "execute_result"
    }
   ],
   "source": [
    "engine.user_df.head()"
   ]
  },
  {
   "cell_type": "code",
   "execution_count": 6,
   "id": "c9ffd275",
   "metadata": {},
   "outputs": [
    {
     "data": {
      "text/html": [
       "<div>\n",
       "<style scoped>\n",
       "    .dataframe tbody tr th:only-of-type {\n",
       "        vertical-align: middle;\n",
       "    }\n",
       "\n",
       "    .dataframe tbody tr th {\n",
       "        vertical-align: top;\n",
       "    }\n",
       "\n",
       "    .dataframe thead th {\n",
       "        text-align: right;\n",
       "    }\n",
       "</style>\n",
       "<table border=\"1\" class=\"dataframe\">\n",
       "  <thead>\n",
       "    <tr style=\"text-align: right;\">\n",
       "      <th></th>\n",
       "      <th>decidermemberid</th>\n",
       "      <th>othermemberid</th>\n",
       "      <th>like</th>\n",
       "      <th>timestamp</th>\n",
       "    </tr>\n",
       "  </thead>\n",
       "  <tbody>\n",
       "    <tr>\n",
       "      <th>0</th>\n",
       "      <td>3847776</td>\n",
       "      <td>3227524</td>\n",
       "      <td>1</td>\n",
       "      <td>2021-01-01 00:00:06</td>\n",
       "    </tr>\n",
       "    <tr>\n",
       "      <th>1</th>\n",
       "      <td>608590</td>\n",
       "      <td>519321</td>\n",
       "      <td>0</td>\n",
       "      <td>2021-01-01 00:00:06</td>\n",
       "    </tr>\n",
       "    <tr>\n",
       "      <th>2</th>\n",
       "      <td>397116</td>\n",
       "      <td>453914</td>\n",
       "      <td>0</td>\n",
       "      <td>2021-01-01 00:00:06</td>\n",
       "    </tr>\n",
       "    <tr>\n",
       "      <th>3</th>\n",
       "      <td>3847776</td>\n",
       "      <td>1269455</td>\n",
       "      <td>1</td>\n",
       "      <td>2021-01-01 00:00:06</td>\n",
       "    </tr>\n",
       "    <tr>\n",
       "      <th>4</th>\n",
       "      <td>1630969</td>\n",
       "      <td>347909</td>\n",
       "      <td>0</td>\n",
       "      <td>2021-01-01 00:00:23</td>\n",
       "    </tr>\n",
       "  </tbody>\n",
       "</table>\n",
       "</div>"
      ],
      "text/plain": [
       "   decidermemberid  othermemberid  like           timestamp\n",
       "0          3847776        3227524     1 2021-01-01 00:00:06\n",
       "1           608590         519321     0 2021-01-01 00:00:06\n",
       "2           397116         453914     0 2021-01-01 00:00:06\n",
       "3          3847776        1269455     1 2021-01-01 00:00:06\n",
       "4          1630969         347909     0 2021-01-01 00:00:23"
      ]
     },
     "execution_count": 6,
     "metadata": {},
     "output_type": "execute_result"
    }
   ],
   "source": [
    "engine.interactions_df.head()"
   ]
  }
 ],
 "metadata": {
  "kernelspec": {
   "display_name": "matchmaker",
   "language": "python",
   "name": "python3"
  },
  "language_info": {
   "codemirror_mode": {
    "name": "ipython",
    "version": 3
   },
   "file_extension": ".py",
   "mimetype": "text/x-python",
   "name": "python",
   "nbconvert_exporter": "python",
   "pygments_lexer": "ipython3",
   "version": "3.10.18"
  }
 },
 "nbformat": 4,
 "nbformat_minor": 5
}
