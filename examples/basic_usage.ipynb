{
 "cells": [
  {
   "cell_type": "markdown",
   "id": "228ad5cf",
   "metadata": {},
   "source": [
    "### ⚠️ Note: NVIDIA Driver Installation Required ⚠️\n",
    "\n",
    "Verify with: ```nvidia-smi```"
   ]
  },
  {
   "cell_type": "code",
   "execution_count": 1,
   "id": "52162fdc",
   "metadata": {},
   "outputs": [
    {
     "name": "stderr",
     "output_type": "stream",
     "text": [
      "/home/zainansari/miniforge3/envs/matchmaker-dev/lib/python3.10/site-packages/tqdm/auto.py:21: TqdmWarning: IProgress not found. Please update jupyter and ipywidgets. See https://ipywidgets.readthedocs.io/en/stable/user_install.html\n",
      "  from .autonotebook import tqdm as notebook_tqdm\n"
     ]
    }
   ],
   "source": [
    "from matchmaker import matchmaker"
   ]
  },
  {
   "cell_type": "code",
   "execution_count": 2,
   "id": "09f180bb",
   "metadata": {},
   "outputs": [
    {
     "name": "stdout",
     "output_type": "stream",
     "text": [
      "✅ GPU acceleration enabled\n"
     ]
    }
   ],
   "source": [
    "engine = matchmaker.MatchingEngine()"
   ]
  },
  {
   "cell_type": "code",
   "execution_count": 3,
   "id": "c2154604",
   "metadata": {},
   "outputs": [
    {
     "name": "stdout",
     "output_type": "stream",
     "text": [
      "Reading data... ✅\n",
      "Constructing graph...✅\n",
      "Fitting ALS... 🚀 Starting collaborative filtering training...\n",
      "📊 Detected cuDF DataFrame, converting to pandas...\n",
      "📊 Creating user mappings...\n",
      "📈 49,676 users in square matrix\n",
      "💾 4,985,185 unique interactions\n",
      "🔨 Building square sparse matrix...\n",
      "📊 Matrix density: 0.2020%\n",
      "🎯 Training ALS model...\n"
     ]
    },
    {
     "name": "stderr",
     "output_type": "stream",
     "text": [
      "100%|██████████| 15/15 [00:00<00:00, 20.07it/s]"
     ]
    },
    {
     "name": "stdout",
     "output_type": "stream",
     "text": [
      "🔄 Converting factors to numpy arrays...\n",
      "✅ Model trained in 1.00s\n",
      "⏱️ Total processing time: 5.57s\n",
      "📋 Factor arrays: user_factors (49676, 64), item_factors (49676, 64)\n",
      "Complete! ✅\n"
     ]
    },
    {
     "name": "stderr",
     "output_type": "stream",
     "text": [
      "\n"
     ]
    }
   ],
   "source": [
    "engine.load_interactions(\"data/swipes.csv\", \n",
    "  decider_col='decidermemberid', \n",
    "  other_col='othermemberid', \n",
    "  like_col='like', \n",
    "  timestamp_col='timestamp')"
   ]
  },
  {
   "cell_type": "code",
   "execution_count": 4,
   "id": "e3e6c321",
   "metadata": {},
   "outputs": [],
   "source": [
    "user_df = engine.user_df\n",
    "interaction_df = engine.interaction_df\n",
    "interaction_graph = engine.interaction_graph\n",
    "als_model = engine.als_model"
   ]
  }
 ],
 "metadata": {
  "kernelspec": {
   "display_name": "matchmaker-dev",
   "language": "python",
   "name": "python3"
  },
  "language_info": {
   "codemirror_mode": {
    "name": "ipython",
    "version": 3
   },
   "file_extension": ".py",
   "mimetype": "text/x-python",
   "name": "python",
   "nbconvert_exporter": "python",
   "pygments_lexer": "ipython3",
   "version": "3.10.18"
  }
 },
 "nbformat": 4,
 "nbformat_minor": 5
}
