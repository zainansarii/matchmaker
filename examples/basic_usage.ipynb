{
 "cells": [
  {
   "cell_type": "markdown",
   "id": "d86a9e29",
   "metadata": {},
   "source": [
    "# Matchmaker Basic Usage\n",
    "\n",
    "This notebook demonstrates the core matchmaker library functionality:\n",
    "- Loading interaction data with gender support\n",
    "- Computing engagement scores\n",
    "- Computing popularity metrics and leagues\n",
    "- Training ALS models for recommendations"
   ]
  },
  {
   "cell_type": "markdown",
   "id": "228ad5cf",
   "metadata": {},
   "source": [
    "### ⚠️ Note: NVIDIA Driver Installation Required ⚠️\n",
    "\n",
    "Verify with: ```nvidia-smi```"
   ]
  },
  {
   "cell_type": "code",
   "execution_count": null,
   "id": "52162fdc",
   "metadata": {},
   "outputs": [],
   "source": [
    "from matchmaker import matchmaker\n",
    "import cudf"
   ]
  },
  {
   "cell_type": "code",
   "execution_count": null,
   "id": "d10ed8b7",
   "metadata": {},
   "outputs": [],
   "source": [
    "raw = cudf.read_csv(\"data/swipes_clean.csv\")"
   ]
  },
  {
   "cell_type": "code",
   "execution_count": null,
   "id": "f5bbd151",
   "metadata": {},
   "outputs": [],
   "source": [
    "engine = matchmaker.MatchingEngine()"
   ]
  },
  {
   "cell_type": "code",
   "execution_count": null,
   "id": "a8296c41",
   "metadata": {},
   "outputs": [],
   "source": [
    "engine.load_interactions(\"data/swipes_clean.csv\", \n",
    "  decider_col='decidermemberid',\n",
    "  other_col='othermemberid', \n",
    "  like_col='like', \n",
    "  timestamp_col='timestamp',\n",
    "  gender_col='decidergender')"
   ]
  },
  {
   "cell_type": "code",
   "execution_count": null,
   "id": "1443299b",
   "metadata": {},
   "outputs": [],
   "source": [
    "engine.run_engagement()"
   ]
  },
  {
   "cell_type": "code",
   "execution_count": null,
   "id": "b41b839a",
   "metadata": {},
   "outputs": [],
   "source": [
    "engine.run_popularity()"
   ]
  },
  {
   "cell_type": "code",
   "execution_count": null,
   "id": "7284cbb5",
   "metadata": {},
   "outputs": [],
   "source": [
    "engine.build_recommender()"
   ]
  },
  {
   "cell_type": "code",
   "execution_count": null,
   "id": "d4c92eb4",
   "metadata": {},
   "outputs": [],
   "source": [
    "user_df = engine.user_df\n",
    "interaction_df = engine.interaction_df\n",
    "interaction_graph = engine.interaction_graph\n",
    "als_model = engine.als_model"
   ]
  },
  {
   "cell_type": "markdown",
   "id": "e3d2d34f",
   "metadata": {},
   "source": [
    "---"
   ]
  },
  {
   "cell_type": "code",
   "execution_count": null,
   "id": "d23bdbba",
   "metadata": {},
   "outputs": [],
   "source": [
    "# Test batch performance\n",
    "import time\n",
    "t = user_df.dropna()\n",
    "t = t[t.gender=='M'].sample(20_000).user_id.to_arrow().to_pylist()\n",
    "\n",
    "start = time.time()\n",
    "results = engine.recommend_batch(t, k=200)\n",
    "elapsed = time.time() - start\n",
    "\n",
    "print(f\"✅ Batch recommended for {len(t)} users in {elapsed:.2f} seconds\")\n",
    "print(f\"   ({elapsed*1000/len(t):.1f} ms per user)\")\n",
    "print(f\"   Sample result for user {t[0]}: {len(results[t[0]])} recommendations\")"
   ]
  }
 ],
 "metadata": {
  "kernelspec": {
   "display_name": "matchmaker-dev",
   "language": "python",
   "name": "python3"
  },
  "language_info": {
   "codemirror_mode": {
    "name": "ipython",
    "version": 3
   },
   "file_extension": ".py",
   "mimetype": "text/x-python",
   "name": "python",
   "nbconvert_exporter": "python",
   "pygments_lexer": "ipython3",
   "version": "3.10.18"
  }
 },
 "nbformat": 4,
 "nbformat_minor": 5
}
