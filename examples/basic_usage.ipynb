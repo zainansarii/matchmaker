{
 "cells": [
  {
   "cell_type": "markdown",
   "id": "228ad5cf",
   "metadata": {},
   "source": [
    "### ⚠️ Note: NVIDIA Driver Installation Required ⚠️\n",
    "\n",
    "Verify with: ```nvidia-smi```"
   ]
  },
  {
   "cell_type": "code",
   "execution_count": null,
   "id": "52162fdc",
   "metadata": {},
   "outputs": [],
   "source": [
    "from matchmaker import matchmaker\n",
    "import cudf\n"
   ]
  },
  {
   "cell_type": "code",
   "execution_count": null,
   "id": "d10ed8b7",
   "metadata": {},
   "outputs": [],
   "source": [
    "raw = cudf.read_csv(\"data/swipes_clean.csv\")"
   ]
  },
  {
   "cell_type": "code",
   "execution_count": null,
   "id": "f5bbd151",
   "metadata": {},
   "outputs": [],
   "source": [
    "engine = matchmaker.MatchingEngine()"
   ]
  },
  {
   "cell_type": "code",
   "execution_count": null,
   "id": "a8296c41",
   "metadata": {},
   "outputs": [],
   "source": [
    "engine.load_interactions(\"data/swipes_clean.csv\", \n",
    "  decider_col='decidermemberid',\n",
    "  other_col='othermemberid', \n",
    "  like_col='like', \n",
    "  timestamp_col='timestamp',\n",
    "  gender_col='decidergender')"
   ]
  },
  {
   "cell_type": "code",
   "execution_count": null,
   "id": "7b30413c",
   "metadata": {},
   "outputs": [],
   "source": [
    "interaction_df.head()"
   ]
  },
  {
   "cell_type": "code",
   "execution_count": null,
   "id": "1443299b",
   "metadata": {},
   "outputs": [],
   "source": [
    "engine.run_engagement()"
   ]
  },
  {
   "cell_type": "code",
   "execution_count": null,
   "id": "d6ff5720",
   "metadata": {},
   "outputs": [],
   "source": [
    "engine.user_df.head()"
   ]
  },
  {
   "cell_type": "code",
   "execution_count": null,
   "id": "b41b839a",
   "metadata": {},
   "outputs": [],
   "source": [
    "engine.run_popularity()"
   ]
  },
  {
   "cell_type": "code",
   "execution_count": null,
   "id": "e3e6c321",
   "metadata": {},
   "outputs": [],
   "source": [
    "user_df = engine.user_df\n",
    "interaction_df = engine.interaction_df\n",
    "interaction_graph = engine.interaction_graph\n",
    "als_model = engine.als_model"
   ]
  }
 ],
 "metadata": {
  "kernelspec": {
   "display_name": "matchmaker-dev",
   "language": "python",
   "name": "python3"
  },
  "language_info": {
   "codemirror_mode": {
    "name": "ipython",
    "version": 3
   },
   "file_extension": ".py",
   "mimetype": "text/x-python",
   "name": "python",
   "nbconvert_exporter": "python",
   "pygments_lexer": "ipython3",
   "version": "3.10.18"
  }
 },
 "nbformat": 4,
 "nbformat_minor": 5
}
