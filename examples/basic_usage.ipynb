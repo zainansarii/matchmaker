{
 "cells": [
  {
   "cell_type": "markdown",
   "id": "d86a9e29",
   "metadata": {},
   "source": [
    "# Matchmaker Basic Usage\n",
    "\n",
    "This notebook demonstrates the core matchmaker library functionality:\n",
    "- Loading interaction data with gender support\n",
    "- Computing engagement scores\n",
    "- Computing popularity metrics and leagues\n",
    "- Training ALS models for recommendations"
   ]
  },
  {
   "cell_type": "markdown",
   "id": "228ad5cf",
   "metadata": {},
   "source": [
    "### ⚠️ Note: NVIDIA Driver Installation Required ⚠️\n",
    "\n",
    "Verify with: ```nvidia-smi```"
   ]
  },
  {
   "cell_type": "code",
   "execution_count": 1,
   "id": "52162fdc",
   "metadata": {},
   "outputs": [
    {
     "name": "stderr",
     "output_type": "stream",
     "text": [
      "/home/zain/anaconda3/envs/matchmaker-dev/lib/python3.10/site-packages/tqdm/auto.py:21: TqdmWarning: IProgress not found. Please update jupyter and ipywidgets. See https://ipywidgets.readthedocs.io/en/stable/user_install.html\n",
      "  from .autonotebook import tqdm as notebook_tqdm\n"
     ]
    }
   ],
   "source": [
    "from matchmaker import MatchingEngine\n",
    "import cudf"
   ]
  },
  {
   "cell_type": "code",
   "execution_count": 2,
   "id": "d10ed8b7",
   "metadata": {},
   "outputs": [],
   "source": [
    "raw = cudf.read_csv(\"data/swipes_clean.csv\")"
   ]
  },
  {
   "cell_type": "code",
   "execution_count": 3,
   "id": "f5bbd151",
   "metadata": {},
   "outputs": [],
   "source": [
    "engine = MatchingEngine()"
   ]
  },
  {
   "cell_type": "code",
   "execution_count": 5,
   "id": "8c084fa0",
   "metadata": {},
   "outputs": [
    {
     "name": "stdout",
     "output_type": "stream",
     "text": [
      "Reading data... ✅\n",
      "Constructing graph... ✅\n",
      "Fitting ALS... \n",
      "🚀 Preparing data...\n",
      "✅\n",
      "Constructing graph... ✅\n",
      "Fitting ALS... \n",
      "🚀 Preparing data...\n",
      "🎯 Training male→female ALS...\n",
      "🎯 Training male→female ALS...\n"
     ]
    },
    {
     "name": "stderr",
     "output_type": "stream",
     "text": [
      "100%|██████████| 15/15 [00:00<00:00, 17.66it/s]\n",
      "100%|██████████| 15/15 [00:00<00:00, 17.66it/s]\n"
     ]
    },
    {
     "name": "stdout",
     "output_type": "stream",
     "text": [
      "🎯 Training female→male ALS...\n"
     ]
    },
    {
     "name": "stderr",
     "output_type": "stream",
     "text": [
      "100%|██████████| 15/15 [00:00<00:00, 239.77it/s]"
     ]
    },
    {
     "name": "stdout",
     "output_type": "stream",
     "text": [
      "🔄 Converting factors to CuPy arrays...\n",
      "✅ Trained M2F ALS with 33173 males × 33358 females\n",
      "✅ Trained F2M ALS with 10882 females × 44241 males\n",
      "Complete! ✅\n"
     ]
    },
    {
     "name": "stderr",
     "output_type": "stream",
     "text": [
      "\n"
     ]
    }
   ],
   "source": [
    "engine.load_interactions(\"data/swipes_clean.csv\", \n",
    "  decider_col='decidermemberid',\n",
    "  other_col='othermemberid', \n",
    "  like_col='like', \n",
    "  timestamp_col='timestamp',\n",
    "  gender_col='decidergender')"
   ]
  },
  {
   "cell_type": "code",
   "execution_count": 6,
   "id": "1443299b",
   "metadata": {},
   "outputs": [
    {
     "name": "stdout",
     "output_type": "stream",
     "text": [
      "User DF updated ✅\n"
     ]
    }
   ],
   "source": [
    "engine.run_engagement()"
   ]
  },
  {
   "cell_type": "code",
   "execution_count": 7,
   "id": "b41b839a",
   "metadata": {},
   "outputs": [
    {
     "name": "stdout",
     "output_type": "stream",
     "text": [
      "User DF updated ✅\n"
     ]
    }
   ],
   "source": [
    "engine.run_popularity()"
   ]
  },
  {
   "cell_type": "code",
   "execution_count": 8,
   "id": "7284cbb5",
   "metadata": {},
   "outputs": [
    {
     "name": "stdout",
     "output_type": "stream",
     "text": [
      "Building FAISS recommender... ✅\n",
      "✅\n"
     ]
    }
   ],
   "source": [
    "engine.build_recommender()"
   ]
  },
  {
   "cell_type": "code",
   "execution_count": 9,
   "id": "d4c92eb4",
   "metadata": {},
   "outputs": [],
   "source": [
    "user_df = engine.user_df\n",
    "interaction_df = engine.interaction_df\n",
    "interaction_graph = engine.interaction_graph\n",
    "als_model = engine.als_model"
   ]
  },
  {
   "cell_type": "markdown",
   "id": "e3d2d34f",
   "metadata": {},
   "source": [
    "---"
   ]
  },
  {
   "cell_type": "code",
   "execution_count": null,
   "id": "d23bdbba",
   "metadata": {},
   "outputs": [],
   "source": [
    "# Test batch performance\n",
    "import time\n",
    "t = user_df.dropna()\n",
    "t = t[t.gender=='M'].sample(20_000).user_id.to_arrow().to_pylist()\n",
    "\n",
    "start = time.time()\n",
    "results = engine.recommend_batch(t, k=200)\n",
    "elapsed = time.time() - start\n",
    "\n",
    "print(f\"✅ Batch recommended for {len(t)} users in {elapsed:.2f} seconds\")\n",
    "print(f\"   ({elapsed*1000/len(t):.1f} ms per user)\")\n",
    "print(f\"   Sample result for user {t[0]}: {len(results[t[0]])} recommendations\")"
   ]
  }
 ],
 "metadata": {
  "kernelspec": {
   "display_name": "matchmaker-dev",
   "language": "python",
   "name": "python3"
  },
  "language_info": {
   "codemirror_mode": {
    "name": "ipython",
    "version": 3
   },
   "file_extension": ".py",
   "mimetype": "text/x-python",
   "name": "python",
   "nbconvert_exporter": "python",
   "pygments_lexer": "ipython3",
   "version": "3.10.18"
  }
 },
 "nbformat": 4,
 "nbformat_minor": 5
}
