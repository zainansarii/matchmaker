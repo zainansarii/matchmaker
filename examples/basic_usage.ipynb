{
 "cells": [
  {
   "cell_type": "code",
   "execution_count": 1,
   "id": "52162fdc",
   "metadata": {},
   "outputs": [],
   "source": [
    "from matchmaker import matchmaker"
   ]
  },
  {
   "cell_type": "code",
   "execution_count": null,
   "id": "09f180bb",
   "metadata": {},
   "outputs": [],
   "source": [
    "engine = matchmaker.MatchingEngine()\n",
    "engine.load_interactions(\"data/swipes.csv\", \n",
    "  decider_col='decidermemberid', \n",
    "  other_col='othermemberid', \n",
    "  like_col='like', \n",
    "  timestamp_col='timestamp')"
   ]
  },
  {
   "cell_type": "code",
   "execution_count": 3,
   "id": "993f90e1",
   "metadata": {},
   "outputs": [
    {
     "data": {
      "text/html": [
       "<div>\n",
       "<style scoped>\n",
       "    .dataframe tbody tr th:only-of-type {\n",
       "        vertical-align: middle;\n",
       "    }\n",
       "\n",
       "    .dataframe tbody tr th {\n",
       "        vertical-align: top;\n",
       "    }\n",
       "\n",
       "    .dataframe thead th {\n",
       "        text-align: right;\n",
       "    }\n",
       "</style>\n",
       "<table border=\"1\" class=\"dataframe\">\n",
       "  <thead>\n",
       "    <tr style=\"text-align: right;\">\n",
       "      <th></th>\n",
       "      <th>decider_id</th>\n",
       "      <th>other_id</th>\n",
       "      <th>interaction_type</th>\n",
       "      <th>timestamp</th>\n",
       "    </tr>\n",
       "  </thead>\n",
       "  <tbody>\n",
       "    <tr>\n",
       "      <th>0</th>\n",
       "      <td>3847776</td>\n",
       "      <td>3227524</td>\n",
       "      <td>1</td>\n",
       "      <td>2021-01-01 00:00:06</td>\n",
       "    </tr>\n",
       "    <tr>\n",
       "      <th>1</th>\n",
       "      <td>608590</td>\n",
       "      <td>519321</td>\n",
       "      <td>0</td>\n",
       "      <td>2021-01-01 00:00:06</td>\n",
       "    </tr>\n",
       "    <tr>\n",
       "      <th>2</th>\n",
       "      <td>397116</td>\n",
       "      <td>453914</td>\n",
       "      <td>0</td>\n",
       "      <td>2021-01-01 00:00:06</td>\n",
       "    </tr>\n",
       "    <tr>\n",
       "      <th>3</th>\n",
       "      <td>3847776</td>\n",
       "      <td>1269455</td>\n",
       "      <td>1</td>\n",
       "      <td>2021-01-01 00:00:06</td>\n",
       "    </tr>\n",
       "    <tr>\n",
       "      <th>4</th>\n",
       "      <td>1630969</td>\n",
       "      <td>347909</td>\n",
       "      <td>0</td>\n",
       "      <td>2021-01-01 00:00:23</td>\n",
       "    </tr>\n",
       "  </tbody>\n",
       "</table>\n",
       "</div>"
      ],
      "text/plain": [
       "   decider_id  other_id  interaction_type           timestamp\n",
       "0     3847776   3227524                 1 2021-01-01 00:00:06\n",
       "1      608590    519321                 0 2021-01-01 00:00:06\n",
       "2      397116    453914                 0 2021-01-01 00:00:06\n",
       "3     3847776   1269455                 1 2021-01-01 00:00:06\n",
       "4     1630969    347909                 0 2021-01-01 00:00:23"
      ]
     },
     "execution_count": 3,
     "metadata": {},
     "output_type": "execute_result"
    }
   ],
   "source": [
    "engine.interactions_df.head()"
   ]
  }
 ],
 "metadata": {
  "kernelspec": {
   "display_name": "matchmaker",
   "language": "python",
   "name": "python3"
  },
  "language_info": {
   "codemirror_mode": {
    "name": "ipython",
    "version": 3
   },
   "file_extension": ".py",
   "mimetype": "text/x-python",
   "name": "python",
   "nbconvert_exporter": "python",
   "pygments_lexer": "ipython3",
   "version": "3.10.18"
  }
 },
 "nbformat": 4,
 "nbformat_minor": 5
}
