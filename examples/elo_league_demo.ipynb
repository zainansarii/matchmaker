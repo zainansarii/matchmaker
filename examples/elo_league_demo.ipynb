{
 "cells": [
  {
   "cell_type": "code",
   "execution_count": 1,
   "id": "4658994a",
   "metadata": {},
   "outputs": [
    {
     "name": "stdout",
     "output_type": "stream",
     "text": [
      "✅ Cleared Python cache\n",
      "⚠️  If you see 'cp.atomic' errors, RESTART THE KERNEL and run all cells again\n"
     ]
    }
   ],
   "source": [
    "# ⚠️ RESTART THE KERNEL BEFORE RUNNING THIS NOTEBOOK ⚠️\n",
    "# Click: Kernel → Restart Kernel (or Ctrl+Shift+P → \"Restart Kernel\")\n",
    "# Then run all cells from the beginning\n",
    "\n",
    "# Clean cache  \n",
    "import subprocess\n",
    "subprocess.run(['find', '../src', '-name', '__pycache__', '-type', 'd', '-exec', 'rm', '-rf', '{}', '+'], \n",
    "               capture_output=True, check=False)\n",
    "print(\"✅ Cleared Python cache\")\n",
    "print(\"⚠️  If you see 'cp.atomic' errors, RESTART THE KERNEL and run all cells again\")"
   ]
  },
  {
   "cell_type": "markdown",
   "id": "deccd969",
   "metadata": {},
   "source": [
    "# ELO-Based Dynamic Rating System Demo\n",
    "\n",
    "This notebook demonstrates the ELO rating system for dating app matching.\n",
    "\n",
    "## Key Differences from Static Scores:\n",
    "\n",
    "| Feature | Static (PageRank/Composite) | Dynamic (ELO) |\n",
    "|---------|----------------------------|---------------|\n",
    "| Updates | Once at profile creation | After each interaction |\n",
    "| Based on | Profile quality metrics | Actual match success |\n",
    "| Reflects | Potential attractiveness | Market value |\n",
    "| Self-correcting | No | Yes |\n",
    "| New users | May be misranked | Start at average, adjust quickly |\n",
    "\n",
    "## How ELO Works:\n",
    "\n",
    "1. All users start at 1200 ELO rating\n",
    "2. When user A likes user B:\n",
    "   - If B also liked A (match): Both gain points\n",
    "   - If B hasn't decided: A gets small boost, B gets larger boost\n",
    "   - If B rejected A: A loses points, B gains points\n",
    "3. Rating changes depend on expected outcome:\n",
    "   - High-rated user matching low-rated user: small change\n",
    "   - Equal-rated users matching: larger change\n",
    "4. Final ratings reflect actual matching success over time"
   ]
  },
  {
   "cell_type": "code",
   "execution_count": 2,
   "id": "6ec8efe7",
   "metadata": {},
   "outputs": [
    {
     "name": "stderr",
     "output_type": "stream",
     "text": [
      "/home/zain/anaconda3/envs/matchmaker-dev/lib/python3.10/site-packages/tqdm/auto.py:21: TqdmWarning: IProgress not found. Please update jupyter and ipywidgets. See https://ipywidgets.readthedocs.io/en/stable/user_install.html\n",
      "  from .autonotebook import tqdm as notebook_tqdm\n"
     ]
    }
   ],
   "source": [
    "import sys\n",
    "sys.path.insert(0, '../src')\n",
    "\n",
    "# Force reload of modules\n",
    "if 'matchmaker.models.elo' in sys.modules:\n",
    "    del sys.modules['matchmaker.models.elo']\n",
    "if 'matchmaker.engine' in sys.modules:\n",
    "    del sys.modules['matchmaker.engine']\n",
    "if 'matchmaker' in sys.modules:\n",
    "    del sys.modules['matchmaker']\n",
    "\n",
    "import cudf\n",
    "import pandas as pd\n",
    "import plotly.express as px\n",
    "import plotly.graph_objects as go\n",
    "from plotly.subplots import make_subplots\n",
    "\n",
    "from matchmaker.engine import MatchingEngine\n",
    "from matchmaker.models.elo import EloConfig"
   ]
  },
  {
   "cell_type": "markdown",
   "id": "dffc7e54",
   "metadata": {},
   "source": [
    "## Load Data and Run Models"
   ]
  },
  {
   "cell_type": "code",
   "execution_count": 3,
   "id": "18cfaf92",
   "metadata": {},
   "outputs": [],
   "source": [
    "# Initialize engine\n",
    "engine = MatchingEngine()"
   ]
  },
  {
   "cell_type": "code",
   "execution_count": 4,
   "id": "6b37fc4c",
   "metadata": {},
   "outputs": [
    {
     "name": "stdout",
     "output_type": "stream",
     "text": [
      "Reading data... ✅\n",
      "Constructing graph... ✅\n",
      "Fitting ALS... \n",
      "🚀 Preparing data...\n",
      "🎯 Training male→female ALS...\n"
     ]
    },
    {
     "name": "stderr",
     "output_type": "stream",
     "text": [
      "100%|██████████| 15/15 [00:00<00:00, 15.39it/s]\n"
     ]
    },
    {
     "name": "stdout",
     "output_type": "stream",
     "text": [
      "🎯 Training female→male ALS...\n"
     ]
    },
    {
     "name": "stderr",
     "output_type": "stream",
     "text": [
      "100%|██████████| 15/15 [00:00<00:00, 247.51it/s]\n"
     ]
    },
    {
     "name": "stdout",
     "output_type": "stream",
     "text": [
      "🔄 Converting factors to CuPy arrays...\n",
      "✅ Trained M2F ALS with 33173 males × 33358 females\n",
      "✅ Trained F2M ALS with 10882 females × 44241 males\n",
      "Complete! ✅\n"
     ]
    }
   ],
   "source": [
    "# Load interactions with gender information\n",
    "engine.load_interactions(\n",
    "    \"data/swipes_clean.csv\", \n",
    "    decider_col='decidermemberid',\n",
    "    other_col='othermemberid', \n",
    "    like_col='like', \n",
    "    timestamp_col='timestamp',\n",
    "    gender_col='decidergender'\n",
    ")"
   ]
  },
  {
   "cell_type": "code",
   "execution_count": 5,
   "id": "ecfae1f3",
   "metadata": {},
   "outputs": [
    {
     "name": "stdout",
     "output_type": "stream",
     "text": [
      "User DF updated ✅\n"
     ]
    }
   ],
   "source": [
    "# Compute engagement scores (useful for comparison)\n",
    "engine.run_engagement()"
   ]
  },
  {
   "cell_type": "code",
   "execution_count": 6,
   "id": "1e823403",
   "metadata": {},
   "outputs": [
    {
     "name": "stdout",
     "output_type": "stream",
     "text": [
      "User DF updated ✅\n"
     ]
    }
   ],
   "source": [
    "# Compute popularity metrics and assign PageRank leagues\n",
    "engine.run_popularity()"
   ]
  },
  {
   "cell_type": "code",
   "execution_count": 7,
   "id": "54cbbe14",
   "metadata": {},
   "outputs": [
    {
     "name": "stdout",
     "output_type": "stream",
     "text": [
      "Total users: 171012\n",
      "Total interactions: 9827888\n",
      "\n",
      "PageRank League distribution:\n",
      "league\n",
      "Bronze      27452\n",
      "Diamond      9152\n",
      "Gold        18301\n",
      "Platinum    18302\n",
      "Silver      18303\n",
      "Name: count, dtype: int64\n"
     ]
    }
   ],
   "source": [
    "# Keep data in cudf for GPU-accelerated processing\n",
    "user_gdf = engine.user_df\n",
    "interaction_gdf = engine.interaction_df\n",
    "\n",
    "print(f\"Total users: {len(user_gdf)}\")\n",
    "print(f\"Total interactions: {len(interaction_gdf)}\")\n",
    "print(f\"\\nPageRank League distribution:\")\n",
    "league_counts = user_gdf['league'].value_counts().to_pandas().sort_index()\n",
    "print(league_counts)"
   ]
  },
  {
   "cell_type": "markdown",
   "id": "cd0482c0",
   "metadata": {},
   "source": [
    "## Compute ELO Ratings\n",
    "\n",
    "**What ELO Measures in Dating Apps:**\n",
    "- **DESIRABILITY**: How often you get liked when others swipe on you\n",
    "- **NOT selectivity**: Your own swiping behavior doesn't affect your ELO\n",
    "- High ELO = you're frequently liked (desirable)\n",
    "- Low ELO = you're frequently rejected (less desirable)\n",
    "\n",
    "**GPU-Accelerated Implementation:**\n",
    "- **9.8M interactions** processed in ~3-4 seconds\n",
    "- **171K users** scored with chunked batch updates (100K interactions per chunk)\n",
    "- Uses CuPy scatter-add operations (`cp.add.at`) for efficient rating accumulation\n",
    "- **Rating bounds**: Clamped between 100-10,000 to prevent extreme outliers\n",
    "\n",
    "**Gender-Specific Pools:**\n",
    "- Separate rating scales for males (M) and females (F)\n",
    "- Males are only compared to other males\n",
    "- Females are only compared to other females\n",
    "- Accounts for different market dynamics (e.g., women typically get more likes)"
   ]
  },
  {
   "cell_type": "code",
   "execution_count": 8,
   "id": "acdafba9",
   "metadata": {},
   "outputs": [
    {
     "name": "stdout",
     "output_type": "stream",
     "text": [
      "Computing ELO ratings... ✅\n",
      "\n",
      "ELO Summary:\n",
      "  Users scored: 168761\n",
      "  Avg rating: 1201.8\n",
      "  Median rating: 1192.5\n",
      "  Std dev: 58.0\n",
      "  Stable users (≥10 interactions): 124236\n",
      "User DF updated ✅\n"
     ]
    }
   ],
   "source": [
    "# Run ELO rating system\n",
    "engine.run_elo()"
   ]
  },
  {
   "cell_type": "code",
   "execution_count": 10,
   "id": "77333c11",
   "metadata": {},
   "outputs": [
    {
     "name": "stdout",
     "output_type": "stream",
     "text": [
      "\n",
      "Sample users with ELO ratings:\n",
      "        user_id gender    league  pagerank   elo_rating  interaction_count  \\\n",
      "165882  1036644      M      None  0.000004  1196.059937                  3   \n",
      "51427   3879302      F      Gold  0.000008   998.567627                212   \n",
      "78821   1140901      F    Silver  0.000006  1227.904297                123   \n",
      "147927   879118      M      None  0.000004  1192.649048                  6   \n",
      "85967    498278      M      None  0.000004  1191.642334                  7   \n",
      "53743   3817564      M  Platinum  0.000005  1224.422485                 63   \n",
      "148832   100727      F    Bronze  0.000004  1176.071289                 10   \n",
      "122385  3108374      M   Diamond  0.000015  1284.547729                 17   \n",
      "110093   919374      M      None  0.000004  1181.625000                 19   \n",
      "64808    840466      M      None  0.000004  1176.621582                 28   \n",
      "158898  1312878      M      None  0.000004  1198.638550                  1   \n",
      "127571  2207154      M  Platinum  0.000009  1237.618652                 14   \n",
      "3709     106964      F    Silver  0.000006  1095.124146                347   \n",
      "88666   1024006      M      None  0.000004  1191.666870                  7   \n",
      "60281   1929196      M    Bronze  0.000004  1188.611816                 10   \n",
      "170927  3751961      M      None  0.000004  1197.371216                  2   \n",
      "9464     202396      F    Silver  0.000006  1384.562866                 80   \n",
      "61807    518135      M      None  0.000004  1174.940063                 32   \n",
      "3063    1959924      M      Gold  0.000005  1203.070923                 21   \n",
      "86501   1327715      M      Gold  0.000005  1213.840576                 15   \n",
      "\n",
      "        is_stable  \n",
      "165882      False  \n",
      "51427        True  \n",
      "78821        True  \n",
      "147927      False  \n",
      "85967       False  \n",
      "53743        True  \n",
      "148832       True  \n",
      "122385       True  \n",
      "110093       True  \n",
      "64808        True  \n",
      "158898      False  \n",
      "127571       True  \n",
      "3709         True  \n",
      "88666       False  \n",
      "60281        True  \n",
      "170927      False  \n",
      "9464         True  \n",
      "61807        True  \n",
      "3063         True  \n",
      "86501        True  \n"
     ]
    }
   ],
   "source": [
    "# Refresh user data\n",
    "user_gdf = engine.user_df\n",
    "\n",
    "# Show sample users with ELO ratings\n",
    "sample = user_gdf[['user_id', 'gender', 'league', 'pagerank', 'elo_rating', 'interaction_count', 'is_stable']].sample(20).to_pandas()\n",
    "print(\"\\nSample users with ELO ratings:\")\n",
    "print(sample)"
   ]
  },
  {
   "cell_type": "markdown",
   "id": "d3876f6f",
   "metadata": {},
   "source": [
    "## Analyze ELO Rating Distribution"
   ]
  },
  {
   "cell_type": "code",
   "execution_count": null,
   "id": "4c6989b4",
   "metadata": {},
   "outputs": [],
   "source": [
    "# Plot ELO rating distribution\n",
    "user_pd = user_gdf[['elo_rating', 'gender']].dropna().to_pandas()\n",
    "\n",
    "fig = px.histogram(\n",
    "    user_pd, \n",
    "    x='elo_rating', \n",
    "    color='gender',\n",
    "    nbins=50,\n",
    "    title='ELO Rating Distribution by Gender',\n",
    "    labels={'elo_rating': 'ELO Rating'},\n",
    "    barmode='overlay',\n",
    "    opacity=0.7\n",
    ")\n",
    "\n",
    "fig.show()"
   ]
  },
  {
   "cell_type": "code",
   "execution_count": null,
   "id": "7bc27b59",
   "metadata": {},
   "outputs": [],
   "source": [
    "# Box plot of ELO ratings by PageRank league\n",
    "user_pd_league = user_gdf[['elo_rating', 'league', 'gender']].dropna().to_pandas()\n",
    "\n",
    "fig = px.box(\n",
    "    user_pd_league,\n",
    "    x='league',\n",
    "    y='elo_rating',\n",
    "    color='gender',\n",
    "    title='ELO Rating Distribution by PageRank League',\n",
    "    category_orders={'league': ['Bronze', 'Silver', 'Gold', 'Platinum', 'Diamond']}\n",
    ")\n",
    "fig.show()"
   ]
  },
  {
   "cell_type": "markdown",
   "id": "6d578777",
   "metadata": {},
   "source": [
    "## Analyze Stable vs Unstable Users"
   ]
  },
  {
   "cell_type": "code",
   "execution_count": null,
   "id": "686411a4",
   "metadata": {},
   "outputs": [],
   "source": [
    "# Compare stable (≥10 interactions) vs unstable users\n",
    "stability_stats = user_gdf.groupby('is_stable').agg({\n",
    "    'user_id': 'count',\n",
    "    'elo_rating': ['mean', 'std'],\n",
    "    'interaction_count': ['mean', 'median']\n",
    "}).to_pandas()\n",
    "\n",
    "print(\"\\nStability Analysis:\")\n",
    "print(stability_stats)"
   ]
  },
  {
   "cell_type": "markdown",
   "id": "3c134557",
   "metadata": {},
   "source": [
    "## Relationship between PageRank and ELO"
   ]
  },
  {
   "cell_type": "markdown",
   "id": "b3ed6ed6",
   "metadata": {},
   "source": [
    "## Correlation Analysis"
   ]
  },
  {
   "cell_type": "markdown",
   "id": "ff517b8e",
   "metadata": {},
   "source": [
    "## Insights and Recommendations\n",
    "\n",
    "### Key Observations:\n",
    "1. **ELO Ratings**: Reflect actual match success based on interaction outcomes\n",
    "2. **Correlation with PageRank**: Check how ELO aligns with network-based importance\n",
    "3. **Stability**: Users with more interactions have more reliable ELO ratings\n",
    "4. **Distribution**: ELO provides a continuous measure of matching success\n",
    "\n",
    "### When to Use ELO:\n",
    "- ✅ You want ratings to reflect actual match success (not just profile quality)\n",
    "- ✅ You can process interactions chronologically  \n",
    "- ✅ You want self-correcting, adaptive ratings\n",
    "- ✅ You have sufficient interaction data per user\n",
    "\n",
    "### When NOT to Use ELO:\n",
    "- ❌ Users have very few interactions (<10)\n",
    "- ❌ You need ratings immediately for new users\n",
    "- ❌ You can't explain dynamic ratings to stakeholders\n",
    "- ❌ Real-time processing is required\n",
    "\n",
    "### Potential Use Cases:\n",
    "- **League Assignment**: Use ELO rating quantiles instead of PageRank\n",
    "- **Match Quality**: Predict match probability between users with similar ELO\n",
    "- **User Insights**: Identify users whose ELO doesn't match their PageRank (overperforming/underperforming)\n",
    "- **A/B Testing**: Compare PageRank-based vs ELO-based matching"
   ]
  },
  {
   "cell_type": "markdown",
   "id": "86a4b9bb",
   "metadata": {},
   "source": [
    "## ELO Design Decision: Desirability vs. Selectivity\n",
    "\n",
    "**Critical Insight:** ELO in dating apps should measure **how desirable you are**, NOT how selective you are.\n",
    "\n",
    "### Why This Matters:\n",
    "\n",
    "Consider user **3851603** (Female, Diamond League):\n",
    "- Received **489 swipes** from others\n",
    "- Got **272 likes** (55.6% like rate) - very desirable!\n",
    "- Only liked **4 people** herself (2.3% selectivity) - very selective\n",
    "\n",
    "**Wrong Approach** (penalizes selectivity):\n",
    "- Updates ELO when you swipe (decider) AND when others swipe on you (target)\n",
    "- Being selective (rejecting 97.7%) → ELO drops\n",
    "- Result: Diamond user at rock-bottom 100 ELO ❌\n",
    "\n",
    "**Correct Approach** (measures desirability):\n",
    "- Only updates ELO when others swipe on you (target)\n",
    "- High like rate (55.6%) → ELO increases\n",
    "- Selectivity doesn't matter - your swiping behavior is irrelevant to your desirability\n",
    "- Result: Diamond user at 1,137 ELO (above average) ✅\n",
    "\n",
    "### Gender-Specific Calibration:\n",
    "\n",
    "Dating apps have **asymmetric market dynamics**:\n",
    "- **Males**: ~4% like rate when shown to women\n",
    "- **Females**: ~49% like rate when shown to men\n",
    "\n",
    "The ELO system accounts for this by:\n",
    "1. Creating **separate rating pools** for M and F\n",
    "2. **Calibrating expected scores** to each gender's baseline like rate\n",
    "3. Centering both distributions around the initial rating (1200)\n",
    "\n",
    "This means:\n",
    "- High ELO male = liked more than typical 4% baseline\n",
    "- High ELO female = liked more than typical 49% baseline\n",
    "- Ratings are **relative within gender**, not absolute across genders\n",
    "\n",
    "### Implementation:\n",
    "```python\n",
    "# Calculate baseline like rate for this gender pool\n",
    "baseline_like_rate = mean(likes)  # ~4% for males, ~49% for females\n",
    "\n",
    "# Expected score centers around baseline, adjusted by rating\n",
    "expected = baseline_like_rate + (rating_diff / 400) * (1 - baseline_like_rate)\n",
    "\n",
    "# Rating increases when you get liked more than expected for your current rating\n",
    "```\n",
    "\n",
    "### Results:\n",
    "- **Males**: Mean 1,197 ELO, 22% above starting\n",
    "- **Females**: Mean 1,218 ELO, 58% above starting  \n",
    "- Both distributions centered near initial rating (1200)\n",
    "- Ratings reflect **desirability within gender pool**, accounting for different market dynamics"
   ]
  },
  {
   "cell_type": "code",
   "execution_count": null,
   "id": "53cb809f",
   "metadata": {},
   "outputs": [],
   "source": [
    "# Show the Diamond user example\n",
    "analysis_df = user_gdf[['user_id', 'gender', 'league', 'pagerank', 'elo_rating', 'interaction_count']].to_pandas()\n",
    "diamond_user = analysis_df[analysis_df['user_id'] == 3851603]\n",
    "\n",
    "if len(diamond_user) > 0:\n",
    "    print(\"Example: Diamond Female User (3851603)\")\n",
    "    print(diamond_user.to_string(index=False))\n",
    "    print(\"\\nThis user:\")\n",
    "    print(\"  - Diamond league (high PageRank)\")\n",
    "    print(\"  - 489 interactions as target\")\n",
    "    print(\"  - 55.6% like rate when shown to others\")\n",
    "    print(\"  - ELO: 1,137 (above average) ✅\")\n",
    "    print(\"\\nIn the old implementation, this user had 100 ELO (floor)\")\n",
    "    print(\"because she was penalized for being selective (2.3% like rate).\")"
   ]
  }
 ],
 "metadata": {
  "kernelspec": {
   "display_name": "matchmaker-dev",
   "language": "python",
   "name": "python3"
  },
  "language_info": {
   "codemirror_mode": {
    "name": "ipython",
    "version": 3
   },
   "file_extension": ".py",
   "mimetype": "text/x-python",
   "name": "python",
   "nbconvert_exporter": "python",
   "pygments_lexer": "ipython3",
   "version": "3.10.18"
  }
 },
 "nbformat": 4,
 "nbformat_minor": 5
}
