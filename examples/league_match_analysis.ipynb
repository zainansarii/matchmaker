{
 "cells": [
  {
   "cell_type": "markdown",
   "id": "6a190ae5",
   "metadata": {},
   "source": [
    "# League Match Rate Analysis\n",
    "\n",
    "This notebook analyzes match rates across different leagues in the matchmaker system. We'll explore:\n",
    "- How women in each league match with men across different leagues\n",
    "- How men in each league match with women across different leagues\n",
    "- Cross-league matching patterns and visualizations\n",
    "\n",
    "**Note:** Uses GPU-accelerated cudf for fast processing. A match is defined as a **reciprocal like** (both users like each other)."
   ]
  },
  {
   "cell_type": "markdown",
   "id": "72a8db6c",
   "metadata": {},
   "source": [
    "### Setup and Data Loading"
   ]
  },
  {
   "cell_type": "code",
   "execution_count": 1,
   "id": "ac240363",
   "metadata": {},
   "outputs": [
    {
     "name": "stderr",
     "output_type": "stream",
     "text": [
      "/home/zainansari/miniforge3/envs/matchmaker-dev/lib/python3.10/site-packages/tqdm/auto.py:21: TqdmWarning: IProgress not found. Please update jupyter and ipywidgets. See https://ipywidgets.readthedocs.io/en/stable/user_install.html\n",
      "  from .autonotebook import tqdm as notebook_tqdm\n"
     ]
    }
   ],
   "source": [
    "from matchmaker import MatchingEngine\n",
    "import cudf\n",
    "import pandas as pd\n",
    "import numpy as np\n",
    "import plotly.graph_objects as go\n",
    "import plotly.express as px\n",
    "from plotly.subplots import make_subplots"
   ]
  },
  {
   "cell_type": "code",
   "execution_count": 2,
   "id": "f93e524a",
   "metadata": {},
   "outputs": [],
   "source": [
    "# Initialize the matching engine\n",
    "engine = MatchingEngine()"
   ]
  },
  {
   "cell_type": "code",
   "execution_count": 3,
   "id": "963f46c4",
   "metadata": {},
   "outputs": [
    {
     "name": "stdout",
     "output_type": "stream",
     "text": [
      "Reading data... ✅\n",
      "Constructing graph... ✅\n",
      "Constructing graph... ✅\n",
      "Fitting ALS... \n",
      "🚀 Preparing data...\n",
      "✅\n",
      "Fitting ALS... \n",
      "🚀 Preparing data...\n",
      "🎯 Training male→female ALS...\n",
      "🎯 Training male→female ALS...\n"
     ]
    },
    {
     "name": "stderr",
     "output_type": "stream",
     "text": [
      "100%|██████████| 15/15 [00:00<00:00, 20.02it/s]\n",
      "100%|██████████| 15/15 [00:00<00:00, 20.02it/s]\n"
     ]
    },
    {
     "name": "stdout",
     "output_type": "stream",
     "text": [
      "🎯 Training female→male ALS...\n"
     ]
    },
    {
     "name": "stderr",
     "output_type": "stream",
     "text": [
      "100%|██████████| 15/15 [00:00<00:00, 280.42it/s]\n",
      "\n"
     ]
    },
    {
     "name": "stdout",
     "output_type": "stream",
     "text": [
      "🔄 Converting factors to CuPy arrays...\n",
      "✅ Trained M2F ALS with 33173 males × 33358 females\n",
      "✅ Trained F2M ALS with 10882 females × 44241 males\n",
      "Complete! ✅\n"
     ]
    }
   ],
   "source": [
    "# Load interactions with gender information\n",
    "engine.load_interactions(\n",
    "    \"data/swipes_clean.csv\", \n",
    "    decider_col='decidermemberid',\n",
    "    other_col='othermemberid', \n",
    "    like_col='like', \n",
    "    timestamp_col='timestamp',\n",
    "    gender_col='decidergender'\n",
    ")"
   ]
  },
  {
   "cell_type": "code",
   "execution_count": 4,
   "id": "fc73cab3",
   "metadata": {},
   "outputs": [
    {
     "name": "stdout",
     "output_type": "stream",
     "text": [
      "User DF updated ✅\n"
     ]
    }
   ],
   "source": [
    "# Compute engagement scores\n",
    "engine.run_engagement()"
   ]
  },
  {
   "cell_type": "code",
   "execution_count": 5,
   "id": "a887932e",
   "metadata": {},
   "outputs": [
    {
     "name": "stdout",
     "output_type": "stream",
     "text": [
      "User DF updated ✅\n"
     ]
    }
   ],
   "source": [
    "# Compute popularity metrics and assign leagues\n",
    "engine.run_popularity()"
   ]
  },
  {
   "cell_type": "code",
   "execution_count": 6,
   "id": "9583e3ab",
   "metadata": {},
   "outputs": [
    {
     "name": "stdout",
     "output_type": "stream",
     "text": [
      "Total users: 171012\n",
      "Total interactions: 9827888\n",
      "\n",
      "League distribution:\n",
      "league\n",
      "Bronze      27452\n",
      "Diamond      9152\n",
      "Gold        18301\n",
      "Platinum    18302\n",
      "Silver      18303\n",
      "Name: count, dtype: int64\n"
     ]
    }
   ],
   "source": [
    "# Keep data in cudf for GPU-accelerated processing\n",
    "user_gdf = engine.user_df\n",
    "interaction_gdf = engine.interaction_df\n",
    "\n",
    "print(f\"Total users: {len(user_gdf)}\")\n",
    "print(f\"Total interactions: {len(interaction_gdf)}\")\n",
    "print(f\"\\nLeague distribution:\")\n",
    "league_counts = user_gdf['league'].value_counts().to_pandas().sort_index()\n",
    "print(league_counts)"
   ]
  },
  {
   "cell_type": "markdown",
   "id": "71c5c434",
   "metadata": {},
   "source": [
    "### Prepare Match Data\n",
    "\n",
    "A \"match\" occurs when both users **reciprocally like** each other. We'll identify all matches using GPU-accelerated cudf operations."
   ]
  },
  {
   "cell_type": "code",
   "execution_count": 7,
   "id": "3b29069a",
   "metadata": {},
   "outputs": [
    {
     "name": "stdout",
     "output_type": "stream",
     "text": [
      "Total likes: 3399637\n",
      "Total reciprocal matches: 29774\n",
      "Match rate: 0.88%\n"
     ]
    }
   ],
   "source": [
    "# Filter to likes only (using cudf for speed)\n",
    "likes_gdf = interaction_gdf[interaction_gdf['like'] == 1][['decidermemberid', 'othermemberid']].copy()\n",
    "\n",
    "# A match occurs when:\n",
    "# - User A likes User B (decidermemberid=A, othermemberid=B)\n",
    "# - User B likes User A (decidermemberid=B, othermemberid=A)\n",
    "\n",
    "# Self-join to find reciprocal likes\n",
    "matches_gdf = likes_gdf.merge(\n",
    "    likes_gdf,\n",
    "    left_on=['decidermemberid', 'othermemberid'],\n",
    "    right_on=['othermemberid', 'decidermemberid'],\n",
    "    how='inner',\n",
    "    suffixes=('_1', '_2')\n",
    ")\n",
    "\n",
    "# Keep only unique pairs (avoid counting A->B and B->A as separate matches)\n",
    "# Always put the smaller user_id first\n",
    "matches_gdf['user1'] = cudf.Series.min(\n",
    "    cudf.concat([matches_gdf['decidermemberid_1'], matches_gdf['othermemberid_1']], axis=1),\n",
    "    axis=1\n",
    ")\n",
    "matches_gdf['user2'] = cudf.Series.max(\n",
    "    cudf.concat([matches_gdf['decidermemberid_1'], matches_gdf['othermemberid_1']], axis=1),\n",
    "    axis=1\n",
    ")\n",
    "\n",
    "# Remove duplicates\n",
    "matches_gdf = matches_gdf[['user1', 'user2']].drop_duplicates()\n",
    "\n",
    "total_unique_likes = len(likes_gdf)\n",
    "print(f\"Total likes: {total_unique_likes}\")\n",
    "print(f\"Total reciprocal matches: {len(matches_gdf)}\")\n",
    "print(f\"Match rate: {len(matches_gdf) / total_unique_likes * 100:.2f}%\")"
   ]
  },
  {
   "cell_type": "code",
   "execution_count": 8,
   "id": "0979db7e",
   "metadata": {},
   "outputs": [
    {
     "name": "stdout",
     "output_type": "stream",
     "text": [
      "Matches with league information: 29772\n",
      "\n",
      "Gender combinations in matches:\n",
      "gender_combo\n",
      "M-F    15098\n",
      "F-M    14674\n",
      "Name: count, dtype: int64\n"
     ]
    }
   ],
   "source": [
    "# Merge with user data to get gender and league info (all in cudf)\n",
    "user_info_gdf = user_gdf[['user_id', 'gender', 'league']].dropna(subset=['league'])\n",
    "\n",
    "# Merge user1 info\n",
    "matches_gdf = matches_gdf.merge(\n",
    "    user_info_gdf.rename(columns={'user_id': 'user1', 'gender': 'gender1', 'league': 'league1'}),\n",
    "    on='user1',\n",
    "    how='inner'\n",
    ")\n",
    "\n",
    "# Merge user2 info\n",
    "matches_gdf = matches_gdf.merge(\n",
    "    user_info_gdf.rename(columns={'user_id': 'user2', 'gender': 'gender2', 'league': 'league2'}),\n",
    "    on='user2',\n",
    "    how='inner'\n",
    ")\n",
    "\n",
    "print(f\"Matches with league information: {len(matches_gdf)}\")\n",
    "print(f\"\\nGender combinations in matches:\")\n",
    "matches_gdf['gender_combo'] = matches_gdf['gender1'] + '-' + matches_gdf['gender2']\n",
    "gender_combo_counts = matches_gdf['gender_combo'].value_counts().to_pandas()\n",
    "print(gender_combo_counts)"
   ]
  },
  {
   "cell_type": "markdown",
   "id": "4b091876",
   "metadata": {},
   "source": [
    "### Cross-League Match Analysis\n",
    "\n",
    "Now let's analyze how different leagues match with each other, separated by gender."
   ]
  },
  {
   "cell_type": "code",
   "execution_count": 9,
   "id": "08361bad",
   "metadata": {},
   "outputs": [
    {
     "name": "stdout",
     "output_type": "stream",
     "text": [
      "Unique heterosexual matches: 25\n"
     ]
    }
   ],
   "source": [
    "# Define league order for consistent display\n",
    "league_order = ['Bronze', 'Silver', 'Gold', 'Platinum', 'Diamond']\n",
    "\n",
    "# Filter to heterosexual matches and create standardized format\n",
    "# Ensure we have female_league and male_league columns\n",
    "hetero_f_m = matches_gdf[(matches_gdf['gender1'] == 'F') & (matches_gdf['gender2'] == 'M')][['league1', 'league2']].copy()\n",
    "hetero_f_m.columns = ['female_league', 'male_league']\n",
    "\n",
    "hetero_m_f = matches_gdf[(matches_gdf['gender1'] == 'M') & (matches_gdf['gender2'] == 'F')][['league2', 'league1']].copy()\n",
    "hetero_m_f.columns = ['female_league', 'male_league']\n",
    "\n",
    "# Combine and deduplicate (still in cudf)\n",
    "all_hetero_gdf = cudf.concat([hetero_f_m, hetero_m_f], ignore_index=True).drop_duplicates()\n",
    "\n",
    "print(f\"Unique heterosexual matches: {len(all_hetero_gdf)}\")\n",
    "\n",
    "# Convert to pandas only for visualization (crosstab not in cudf)\n",
    "all_hetero_matches = all_hetero_gdf.to_pandas()"
   ]
  },
  {
   "cell_type": "code",
   "execution_count": 11,
   "id": "6205f23e",
   "metadata": {},
   "outputs": [
    {
     "name": "stdout",
     "output_type": "stream",
     "text": [
      "Men's Match Matrix (rows=male league, cols=female league):\n",
      "female_league  Bronze  Silver  Gold  Platinum  Diamond  Total\n",
      "male_league                                                  \n",
      "Bronze              1       1     1         1        1      5\n",
      "Silver              1       1     1         1        1      5\n",
      "Gold                1       1     1         1        1      5\n",
      "Platinum            1       1     1         1        1      5\n",
      "Diamond             1       1     1         1        1      5\n",
      "Total               5       5     5         5        5     25\n"
     ]
    }
   ],
   "source": [
    "# Men's perspective: Men in X league matched with women in Y league\n",
    "men_match_matrix = pd.crosstab(\n",
    "    all_hetero_matches['male_league'], \n",
    "    all_hetero_matches['female_league'],\n",
    "    margins=True,\n",
    "    margins_name='Total'\n",
    ")\n",
    "\n",
    "# Reorder to standard league order\n",
    "men_match_matrix = men_match_matrix.reindex(\n",
    "    index=league_order + ['Total'], \n",
    "    columns=league_order + ['Total'],\n",
    "    fill_value=0\n",
    ")\n",
    "\n",
    "print(\"Men's Match Matrix (rows=male league, cols=female league):\")\n",
    "print(men_match_matrix)"
   ]
  },
  {
   "cell_type": "code",
   "execution_count": null,
   "id": "38e90c80",
   "metadata": {},
   "outputs": [],
   "source": [
    "# Create cross-tabulation matrices for match counts\n",
    "\n",
    "# Women's perspective: Women in X league matched with men in Y league\n",
    "women_match_matrix = pd.crosstab(\n",
    "    all_hetero_matches['female_league'], \n",
    "    all_hetero_matches['male_league'],\n",
    "    margins=True,\n",
    "    margins_name='Total'\n",
    ")\n",
    "\n",
    "# Reorder to standard league order\n",
    "women_match_matrix = women_match_matrix.reindex(\n",
    "    index=league_order + ['Total'], \n",
    "    columns=league_order + ['Total'],\n",
    "    fill_value=0\n",
    ")\n",
    "\n",
    "print(\"Women's Match Matrix (rows=female league, cols=male league):\")\n",
    "print(women_match_matrix)"
   ]
  },
  {
   "cell_type": "code",
   "execution_count": null,
   "id": "4bf38f55",
   "metadata": {},
   "outputs": [],
   "source": [
    "# Calculate percentage distributions for women\n",
    "women_match_pct = women_match_matrix.iloc[:-1, :-1].div(\n",
    "    women_match_matrix.iloc[:-1, -1], \n",
    "    axis=0\n",
    ") * 100\n",
    "\n",
    "# Calculate percentage distributions for men\n",
    "men_match_pct = men_match_matrix.iloc[:-1, :-1].div(\n",
    "    men_match_matrix.iloc[:-1, -1], \n",
    "    axis=0\n",
    ") * 100\n",
    "\n",
    "print(\"Women's Match Distribution (% of matches for women in each league):\")\n",
    "print(women_match_pct.round(1))\n",
    "print(\"\\nMen's Match Distribution (% of matches for men in each league):\")\n",
    "print(men_match_pct.round(1))"
   ]
  },
  {
   "cell_type": "markdown",
   "id": "c056b527",
   "metadata": {},
   "source": [
    "### Percentage-based Analysis\n",
    "\n",
    "Convert counts to percentages to better understand the patterns."
   ]
  },
  {
   "cell_type": "markdown",
   "id": "9753899f",
   "metadata": {},
   "source": [
    "### Visualization 1: Heatmaps of Cross-League Matches"
   ]
  },
  {
   "cell_type": "code",
   "execution_count": null,
   "id": "f383a559",
   "metadata": {},
   "outputs": [],
   "source": [
    "# Create heatmap for women's matches\n",
    "fig_women = go.Figure(data=go.Heatmap(\n",
    "    z=women_match_pct.values,\n",
    "    x=league_order,\n",
    "    y=league_order,\n",
    "    colorscale='Viridis',\n",
    "    text=women_match_pct.round(1).values,\n",
    "    texttemplate='%{text}%',\n",
    "    textfont={\"size\": 12},\n",
    "    colorbar=dict(title=\"% of Matches\")\n",
    "))\n",
    "\n",
    "fig_women.update_layout(\n",
    "    title={\n",
    "        'text': 'Women\\'s Cross-League Match Distribution<br><sub>Percentage of matches by female league (rows) with male league (columns)</sub>',\n",
    "        'x': 0.5,\n",
    "        'xanchor': 'center'\n",
    "    },\n",
    "    xaxis_title=\"Male League\",\n",
    "    yaxis_title=\"Female League\",\n",
    "    width=700,\n",
    "    height=600,\n",
    "    font=dict(size=12)\n",
    ")\n",
    "\n",
    "fig_women.show()"
   ]
  },
  {
   "cell_type": "code",
   "execution_count": null,
   "id": "178c12c1",
   "metadata": {},
   "outputs": [],
   "source": [
    "# Create heatmap for men's matches\n",
    "fig_men = go.Figure(data=go.Heatmap(\n",
    "    z=men_match_pct.values,\n",
    "    x=league_order,\n",
    "    y=league_order,\n",
    "    colorscale='Plasma',\n",
    "    text=men_match_pct.round(1).values,\n",
    "    texttemplate='%{text}%',\n",
    "    textfont={\"size\": 12},\n",
    "    colorbar=dict(title=\"% of Matches\")\n",
    "))\n",
    "\n",
    "fig_men.update_layout(\n",
    "    title={\n",
    "        'text': 'Men\\'s Cross-League Match Distribution<br><sub>Percentage of matches by male league (rows) with female league (columns)</sub>',\n",
    "        'x': 0.5,\n",
    "        'xanchor': 'center'\n",
    "    },\n",
    "    xaxis_title=\"Female League\",\n",
    "    yaxis_title=\"Male League\",\n",
    "    width=700,\n",
    "    height=600,\n",
    "    font=dict(size=12)\n",
    ")\n",
    "\n",
    "fig_men.show()"
   ]
  },
  {
   "cell_type": "markdown",
   "id": "35ead408",
   "metadata": {},
   "source": [
    "### Visualization 2: Absolute Match Counts"
   ]
  },
  {
   "cell_type": "code",
   "execution_count": null,
   "id": "f86b1993",
   "metadata": {},
   "outputs": [],
   "source": [
    "# Heatmap with absolute counts for women\n",
    "fig_women_count = go.Figure(data=go.Heatmap(\n",
    "    z=women_match_matrix.iloc[:-1, :-1].values,\n",
    "    x=league_order,\n",
    "    y=league_order,\n",
    "    colorscale='Blues',\n",
    "    text=women_match_matrix.iloc[:-1, :-1].values,\n",
    "    texttemplate='%{text}',\n",
    "    textfont={\"size\": 12},\n",
    "    colorbar=dict(title=\"Match Count\")\n",
    "))\n",
    "\n",
    "fig_women_count.update_layout(\n",
    "    title={\n",
    "        'text': 'Women\\'s Cross-League Match Counts<br><sub>Number of matches by female league (rows) with male league (columns)</sub>',\n",
    "        'x': 0.5,\n",
    "        'xanchor': 'center'\n",
    "    },\n",
    "    xaxis_title=\"Male League\",\n",
    "    yaxis_title=\"Female League\",\n",
    "    width=700,\n",
    "    height=600,\n",
    "    font=dict(size=12)\n",
    ")\n",
    "\n",
    "fig_women_count.show()"
   ]
  },
  {
   "cell_type": "code",
   "execution_count": null,
   "id": "8109c102",
   "metadata": {},
   "outputs": [],
   "source": [
    "# Heatmap with absolute counts for men\n",
    "fig_men_count = go.Figure(data=go.Heatmap(\n",
    "    z=men_match_matrix.iloc[:-1, :-1].values,\n",
    "    x=league_order,\n",
    "    y=league_order,\n",
    "    colorscale='Oranges',\n",
    "    text=men_match_matrix.iloc[:-1, :-1].values,\n",
    "    texttemplate='%{text}',\n",
    "    textfont={\"size\": 12},\n",
    "    colorbar=dict(title=\"Match Count\")\n",
    "))\n",
    "\n",
    "fig_men_count.update_layout(\n",
    "    title={\n",
    "        'text': 'Men\\'s Cross-League Match Counts<br><sub>Number of matches by male league (rows) with female league (columns)</sub>',\n",
    "        'x': 0.5,\n",
    "        'xanchor': 'center'\n",
    "    },\n",
    "    xaxis_title=\"Female League\",\n",
    "    yaxis_title=\"Male League\",\n",
    "    width=700,\n",
    "    height=600,\n",
    "    font=dict(size=12)\n",
    ")\n",
    "\n",
    "fig_men_count.show()"
   ]
  },
  {
   "cell_type": "markdown",
   "id": "bc008b30",
   "metadata": {},
   "source": [
    "### Visualization 3: Stacked Bar Charts"
   ]
  },
  {
   "cell_type": "code",
   "execution_count": null,
   "id": "564b1780",
   "metadata": {},
   "outputs": [],
   "source": [
    "# Stacked bar chart for women\n",
    "fig_women_bar = go.Figure()\n",
    "\n",
    "for male_league in league_order:\n",
    "    fig_women_bar.add_trace(go.Bar(\n",
    "        name=f'Men: {male_league}',\n",
    "        x=league_order,\n",
    "        y=women_match_pct[male_league],\n",
    "        text=women_match_pct[male_league].round(1),\n",
    "        texttemplate='%{text}%',\n",
    "        textposition='inside'\n",
    "    ))\n",
    "\n",
    "fig_women_bar.update_layout(\n",
    "    barmode='stack',\n",
    "    title={\n",
    "        'text': 'Women\\'s Match Distribution by League<br><sub>How women in each league match with men across leagues</sub>',\n",
    "        'x': 0.5,\n",
    "        'xanchor': 'center'\n",
    "    },\n",
    "    xaxis_title=\"Female League\",\n",
    "    yaxis_title=\"Percentage of Matches (%)\",\n",
    "    width=900,\n",
    "    height=600,\n",
    "    legend_title=\"Male Partner League\"\n",
    ")\n",
    "\n",
    "fig_women_bar.show()"
   ]
  },
  {
   "cell_type": "code",
   "execution_count": null,
   "id": "8f2b4ef3",
   "metadata": {},
   "outputs": [],
   "source": [
    "# Stacked bar chart for men\n",
    "fig_men_bar = go.Figure()\n",
    "\n",
    "for female_league in league_order:\n",
    "    fig_men_bar.add_trace(go.Bar(\n",
    "        name=f'Women: {female_league}',\n",
    "        x=league_order,\n",
    "        y=men_match_pct[female_league],\n",
    "        text=men_match_pct[female_league].round(1),\n",
    "        texttemplate='%{text}%',\n",
    "        textposition='inside'\n",
    "    ))\n",
    "\n",
    "fig_men_bar.update_layout(\n",
    "    barmode='stack',\n",
    "    title={\n",
    "        'text': 'Men\\'s Match Distribution by League<br><sub>How men in each league match with women across leagues</sub>',\n",
    "        'x': 0.5,\n",
    "        'xanchor': 'center'\n",
    "    },\n",
    "    xaxis_title=\"Male League\",\n",
    "    yaxis_title=\"Percentage of Matches (%)\",\n",
    "    width=900,\n",
    "    height=600,\n",
    "    legend_title=\"Female Partner League\"\n",
    ")\n",
    "\n",
    "fig_men_bar.show()"
   ]
  },
  {
   "cell_type": "markdown",
   "id": "a9130903",
   "metadata": {},
   "source": [
    "### Visualization 4: Sankey Diagram - Flow of Matches"
   ]
  },
  {
   "cell_type": "code",
   "execution_count": null,
   "id": "18e89bce",
   "metadata": {},
   "outputs": [],
   "source": [
    "# Create Sankey diagram showing match flows between leagues\n",
    "# Prepare data for Sankey\n",
    "sankey_data = []\n",
    "\n",
    "for f_league in league_order:\n",
    "    for m_league in league_order:\n",
    "        count = women_match_matrix.loc[f_league, m_league]\n",
    "        if count > 0:\n",
    "            sankey_data.append({\n",
    "                'source': f'Women: {f_league}',\n",
    "                'target': f'Men: {m_league}',\n",
    "                'value': int(count)\n",
    "            })\n",
    "\n",
    "sankey_df = pd.DataFrame(sankey_data)\n",
    "\n",
    "# Create node labels\n",
    "source_nodes = [f'Women: {league}' for league in league_order]\n",
    "target_nodes = [f'Men: {league}' for league in league_order]\n",
    "all_nodes = source_nodes + target_nodes\n",
    "\n",
    "# Create node indices\n",
    "node_dict = {node: idx for idx, node in enumerate(all_nodes)}\n",
    "\n",
    "# Map sources and targets to indices\n",
    "sankey_df['source_idx'] = sankey_df['source'].map(node_dict)\n",
    "sankey_df['target_idx'] = sankey_df['target'].map(node_dict)\n",
    "\n",
    "# Create color mapping for leagues\n",
    "league_colors = {\n",
    "    'Bronze': 'rgba(205, 127, 50, 0.6)',\n",
    "    'Silver': 'rgba(192, 192, 192, 0.6)',\n",
    "    'Gold': 'rgba(255, 215, 0, 0.6)',\n",
    "    'Platinum': 'rgba(229, 228, 226, 0.6)',\n",
    "    'Diamond': 'rgba(185, 242, 255, 0.6)'\n",
    "}\n",
    "\n",
    "node_colors = [league_colors[league] for league in league_order] + \\\n",
    "              [league_colors[league] for league in league_order]\n",
    "\n",
    "# Create Sankey diagram\n",
    "fig_sankey = go.Figure(data=[go.Sankey(\n",
    "    node=dict(\n",
    "        pad=15,\n",
    "        thickness=20,\n",
    "        line=dict(color=\"black\", width=0.5),\n",
    "        label=all_nodes,\n",
    "        color=node_colors\n",
    "    ),\n",
    "    link=dict(\n",
    "        source=sankey_df['source_idx'],\n",
    "        target=sankey_df['target_idx'],\n",
    "        value=sankey_df['value'],\n",
    "        color='rgba(0,0,0,0.2)'\n",
    "    )\n",
    ")])\n",
    "\n",
    "fig_sankey.update_layout(\n",
    "    title={\n",
    "        'text': \"Cross-League Match Flow (Women → Men)<br><sub>Flow diagram showing how women in each league match with men across leagues</sub>\",\n",
    "        'x': 0.5,\n",
    "        'xanchor': 'center'\n",
    "    },\n",
    "    font=dict(size=12),\n",
    "    width=1000,\n",
    "    height=600\n",
    ")\n",
    "\n",
    "fig_sankey.show()"
   ]
  },
  {
   "cell_type": "markdown",
   "id": "4c82e6fb",
   "metadata": {},
   "source": [
    "### Visualization 5: League Preference Analysis"
   ]
  },
  {
   "cell_type": "code",
   "execution_count": null,
   "id": "68f7b98f",
   "metadata": {},
   "outputs": [],
   "source": [
    "# Calculate \"dating up/down\" statistics using cudf for performance\n",
    "# For each league, what % of matches are with same league, higher league, or lower league?\n",
    "\n",
    "def calculate_league_direction_cudf(gdf, user_league_col, partner_league_col):\n",
    "    \"\"\"Calculate whether matches are same league, up, or down using cudf.\"\"\"\n",
    "    league_rank = {league: i for i, league in enumerate(league_order)}\n",
    "    \n",
    "    # Add rank columns\n",
    "    gdf['user_rank'] = gdf[user_league_col].map(league_rank)\n",
    "    gdf['partner_rank'] = gdf[partner_league_col].map(league_rank)\n",
    "    \n",
    "    results = []\n",
    "    for user_league in league_order:\n",
    "        subset = gdf[gdf[user_league_col] == user_league]\n",
    "        if len(subset) == 0:\n",
    "            continue\n",
    "            \n",
    "        same = len(subset[subset['user_rank'] == subset['partner_rank']])\n",
    "        up = len(subset[subset['partner_rank'] > subset['user_rank']])\n",
    "        down = len(subset[subset['partner_rank'] < subset['user_rank']])\n",
    "        total = len(subset)\n",
    "        \n",
    "        results.append({\n",
    "            'league': user_league,\n",
    "            'Same League': same / total * 100,\n",
    "            'Dating Up': up / total * 100,\n",
    "            'Dating Down': down / total * 100\n",
    "        })\n",
    "    \n",
    "    return pd.DataFrame(results)\n",
    "\n",
    "# Process using cudf\n",
    "women_direction = calculate_league_direction_cudf(all_hetero_gdf.copy(), 'female_league', 'male_league')\n",
    "men_direction = calculate_league_direction_cudf(all_hetero_gdf.copy(), 'male_league', 'female_league')\n",
    "\n",
    "print(\"Women's match direction:\")\n",
    "print(women_direction.round(1))\n",
    "print(\"\\nMen's match direction:\")\n",
    "print(men_direction.round(1))"
   ]
  },
  {
   "cell_type": "code",
   "execution_count": null,
   "id": "d00a9517",
   "metadata": {},
   "outputs": [],
   "source": [
    "# Stacked bar chart for women's dating direction\n",
    "fig_women_dir = go.Figure()\n",
    "\n",
    "fig_women_dir.add_trace(go.Bar(\n",
    "    name='Dating Down',\n",
    "    x=women_direction['league'],\n",
    "    y=women_direction['Dating Down'],\n",
    "    marker_color='lightcoral'\n",
    "))\n",
    "\n",
    "fig_women_dir.add_trace(go.Bar(\n",
    "    name='Same League',\n",
    "    x=women_direction['league'],\n",
    "    y=women_direction['Same League'],\n",
    "    marker_color='lightblue'\n",
    "))\n",
    "\n",
    "fig_women_dir.add_trace(go.Bar(\n",
    "    name='Dating Up',\n",
    "    x=women_direction['league'],\n",
    "    y=women_direction['Dating Up'],\n",
    "    marker_color='lightgreen'\n",
    "))\n",
    "\n",
    "fig_women_dir.update_layout(\n",
    "    barmode='stack',\n",
    "    title={\n",
    "        'text': 'Women: Match Direction by League<br><sub>Percentage of matches with same league, higher league, or lower league partners</sub>',\n",
    "        'x': 0.5,\n",
    "        'xanchor': 'center'\n",
    "    },\n",
    "    xaxis_title=\"Female League\",\n",
    "    yaxis_title=\"Percentage of Matches (%)\",\n",
    "    width=900,\n",
    "    height=500\n",
    ")\n",
    "\n",
    "fig_women_dir.show()"
   ]
  },
  {
   "cell_type": "code",
   "execution_count": null,
   "id": "12711c2a",
   "metadata": {},
   "outputs": [],
   "source": [
    "# Stacked bar chart for men's dating direction\n",
    "fig_men_dir = go.Figure()\n",
    "\n",
    "fig_men_dir.add_trace(go.Bar(\n",
    "    name='Dating Down',\n",
    "    x=men_direction['league'],\n",
    "    y=men_direction['Dating Down'],\n",
    "    marker_color='lightcoral'\n",
    "))\n",
    "\n",
    "fig_men_dir.add_trace(go.Bar(\n",
    "    name='Same League',\n",
    "    x=men_direction['league'],\n",
    "    y=men_direction['Same League'],\n",
    "    marker_color='lightblue'\n",
    "))\n",
    "\n",
    "fig_men_dir.add_trace(go.Bar(\n",
    "    name='Dating Up',\n",
    "    x=men_direction['league'],\n",
    "    y=men_direction['Dating Up'],\n",
    "    marker_color='lightgreen'\n",
    "))\n",
    "\n",
    "fig_men_dir.update_layout(\n",
    "    barmode='stack',\n",
    "    title={\n",
    "        'text': 'Men: Match Direction by League<br><sub>Percentage of matches with same league, higher league, or lower league partners</sub>',\n",
    "        'x': 0.5,\n",
    "        'xanchor': 'center'\n",
    "    },\n",
    "    xaxis_title=\"Male League\",\n",
    "    yaxis_title=\"Percentage of Matches (%)\",\n",
    "    width=900,\n",
    "    height=500\n",
    ")\n",
    "\n",
    "fig_men_dir.show()"
   ]
  },
  {
   "cell_type": "markdown",
   "id": "64a5de81",
   "metadata": {},
   "source": [
    "### Key Insights Summary"
   ]
  },
  {
   "cell_type": "code",
   "execution_count": null,
   "id": "ffcca88e",
   "metadata": {},
   "outputs": [],
   "source": [
    "# Generate summary statistics\n",
    "print(\"=\" * 80)\n",
    "print(\"CROSS-LEAGUE MATCHING INSIGHTS (Reciprocal Likes)\")\n",
    "print(\"=\" * 80)\n",
    "\n",
    "# Overall match distribution\n",
    "print(\"\\n1. OVERALL MATCH DISTRIBUTION\")\n",
    "print(f\"   Total reciprocal matches analyzed: {len(all_hetero_matches)}\")\n",
    "print(f\"   Total users with leagues: {len(user_info_gdf)}\")\n",
    "\n",
    "# Same-league matching rate\n",
    "same_league_matches = len(all_hetero_matches[\n",
    "    all_hetero_matches['female_league'] == all_hetero_matches['male_league']\n",
    "])\n",
    "print(f\"\\n2. SAME-LEAGUE MATCHES\")\n",
    "print(f\"   Same-league matches: {same_league_matches} ({same_league_matches/len(all_hetero_matches)*100:.1f}%)\")\n",
    "\n",
    "# League mobility\n",
    "print(\"\\n3. LEAGUE MOBILITY (Women)\")\n",
    "for _, row in women_direction.iterrows():\n",
    "    print(f\"   {row['league']:8} - Same: {row['Same League']:5.1f}%, Up: {row['Dating Up']:5.1f}%, Down: {row['Dating Down']:5.1f}%\")\n",
    "\n",
    "print(\"\\n4. LEAGUE MOBILITY (Men)\")\n",
    "for _, row in men_direction.iterrows():\n",
    "    print(f\"   {row['league']:8} - Same: {row['Same League']:5.1f}%, Up: {row['Dating Up']:5.1f}%, Down: {row['Dating Down']:5.1f}%\")\n",
    "\n",
    "# Top cross-league pairs\n",
    "print(\"\\n5. TOP CROSS-LEAGUE COMBINATIONS\")\n",
    "cross_league = all_hetero_matches[\n",
    "    all_hetero_matches['female_league'] != all_hetero_matches['male_league']\n",
    "].copy()\n",
    "cross_league['combo'] = cross_league['female_league'] + ' ♀ + ' + cross_league['male_league'] + ' ♂'\n",
    "top_combos = cross_league['combo'].value_counts().head(10)\n",
    "for combo, count in top_combos.items():\n",
    "    pct = count / len(all_hetero_matches) * 100\n",
    "    print(f\"   {combo:30} - {count:4} matches ({pct:4.1f}%)\")\n",
    "\n",
    "print(\"\\n\" + \"=\" * 80)"
   ]
  }
 ],
 "metadata": {
  "kernelspec": {
   "display_name": "matchmaker-dev",
   "language": "python",
   "name": "python3"
  },
  "language_info": {
   "codemirror_mode": {
    "name": "ipython",
    "version": 3
   },
   "file_extension": ".py",
   "mimetype": "text/x-python",
   "name": "python",
   "nbconvert_exporter": "python",
   "pygments_lexer": "ipython3",
   "version": "3.10.18"
  }
 },
 "nbformat": 4,
 "nbformat_minor": 5
}
