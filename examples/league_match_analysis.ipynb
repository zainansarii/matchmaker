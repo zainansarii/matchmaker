{
 "cells": [
  {
   "cell_type": "markdown",
   "id": "6a190ae5",
   "metadata": {},
   "source": [
    "# League Match Rate Analysis\n",
    "\n",
    "This notebook analyzes match rates across different leagues in the matchmaker system. We'll explore:\n",
    "- How women in each league match with men across different leagues\n",
    "- How men in each league match with women across different leagues\n",
    "- Cross-league matching patterns and visualizations\n",
    "\n",
    "**Note:** Uses GPU-accelerated cudf for fast processing. A match is defined as a **reciprocal like** (both users like each other)."
   ]
  },
  {
   "cell_type": "markdown",
   "id": "72a8db6c",
   "metadata": {},
   "source": [
    "### Setup and Data Loading"
   ]
  },
  {
   "cell_type": "code",
   "execution_count": 1,
   "id": "ac240363",
   "metadata": {},
   "outputs": [
    {
     "name": "stderr",
     "output_type": "stream",
     "text": [
      "/home/zain/anaconda3/envs/matchmaker-dev/lib/python3.10/site-packages/tqdm/auto.py:21: TqdmWarning: IProgress not found. Please update jupyter and ipywidgets. See https://ipywidgets.readthedocs.io/en/stable/user_install.html\n",
      "  from .autonotebook import tqdm as notebook_tqdm\n"
     ]
    }
   ],
   "source": [
    "from matchmaker import MatchingEngine\n",
    "import cudf\n",
    "import pandas as pd\n",
    "import numpy as np\n",
    "import plotly.graph_objects as go\n",
    "import plotly.express as px\n",
    "from plotly.subplots import make_subplots"
   ]
  },
  {
   "cell_type": "code",
   "execution_count": 2,
   "id": "f93e524a",
   "metadata": {},
   "outputs": [],
   "source": [
    "# Initialize the matching engine\n",
    "engine = MatchingEngine()"
   ]
  },
  {
   "cell_type": "code",
   "execution_count": 3,
   "id": "963f46c4",
   "metadata": {},
   "outputs": [
    {
     "name": "stdout",
     "output_type": "stream",
     "text": [
      "Reading data... ✅\n",
      "Fitting ALS... \n",
      "🚀 Preparing data...\n",
      "🎯 Training male→female ALS...\n"
     ]
    },
    {
     "name": "stderr",
     "output_type": "stream",
     "text": [
      "100%|██████████| 15/15 [00:01<00:00, 14.98it/s]\n",
      "100%|██████████| 15/15 [00:01<00:00, 14.98it/s]\n"
     ]
    },
    {
     "name": "stdout",
     "output_type": "stream",
     "text": [
      "🎯 Training female→male ALS...\n"
     ]
    },
    {
     "name": "stderr",
     "output_type": "stream",
     "text": [
      "100%|██████████| 15/15 [00:00<00:00, 233.81it/s]\n",
      "\n"
     ]
    },
    {
     "name": "stdout",
     "output_type": "stream",
     "text": [
      "🔄 Converting factors to CuPy arrays...\n",
      "✅ Trained M2F ALS with 33173 males × 33358 females\n",
      "✅ Trained F2M ALS with 10882 females × 44241 males\n",
      "Complete! ✅\n"
     ]
    }
   ],
   "source": [
    "# Load interactions with gender information\n",
    "engine.load_interactions(\n",
    "    \"data/swipes_clean.csv\", \n",
    "    decider_col='decidermemberid',\n",
    "    other_col='othermemberid', \n",
    "    like_col='like', \n",
    "    timestamp_col='timestamp',\n",
    "    gender_col='decidergender'\n",
    ")"
   ]
  },
  {
   "cell_type": "code",
   "execution_count": 4,
   "id": "fc73cab3",
   "metadata": {},
   "outputs": [
    {
     "name": "stdout",
     "output_type": "stream",
     "text": [
      "User DF updated ✅\n"
     ]
    }
   ],
   "source": [
    "# Compute engagement scores\n",
    "engine.run_engagement()"
   ]
  },
  {
   "cell_type": "code",
   "execution_count": 5,
   "id": "a887932e",
   "metadata": {},
   "outputs": [
    {
     "name": "stdout",
     "output_type": "stream",
     "text": [
      "User DF updated ✅\n"
     ]
    }
   ],
   "source": [
    "# Compute popularity metrics and assign leagues\n",
    "engine.run_elo()"
   ]
  },
  {
   "cell_type": "code",
   "execution_count": 6,
   "id": "9583e3ab",
   "metadata": {},
   "outputs": [
    {
     "name": "stdout",
     "output_type": "stream",
     "text": [
      "Total users: 171012\n",
      "Total interactions: 9827888\n",
      "\n",
      "League distribution:\n",
      "league\n",
      "Bronze      27024\n",
      "Diamond      9010\n",
      "Gold        18017\n",
      "Platinum    18016\n",
      "Silver      18016\n",
      "Name: count, dtype: int64\n"
     ]
    }
   ],
   "source": [
    "# Keep data in cudf for GPU-accelerated processing\n",
    "user_gdf = engine.user_df\n",
    "interaction_gdf = engine.interaction_df\n",
    "\n",
    "print(f\"Total users: {len(user_gdf)}\")\n",
    "print(f\"Total interactions: {len(interaction_gdf)}\")\n",
    "print(f\"\\nLeague distribution:\")\n",
    "league_counts = user_gdf['league'].value_counts().to_pandas().sort_index()\n",
    "print(league_counts)"
   ]
  },
  {
   "cell_type": "markdown",
   "id": "71c5c434",
   "metadata": {},
   "source": [
    "### Prepare Match Data\n",
    "\n",
    "A \"match\" occurs when both users **reciprocally like** each other. We'll identify all matches using GPU-accelerated cudf operations."
   ]
  },
  {
   "cell_type": "code",
   "execution_count": 7,
   "id": "3b29069a",
   "metadata": {},
   "outputs": [
    {
     "name": "stdout",
     "output_type": "stream",
     "text": [
      "Total likes: 3399637\n",
      "Total reciprocal matches: 29774\n",
      "Match rate: 0.88%\n"
     ]
    }
   ],
   "source": [
    "# Filter to likes only (using cudf for speed)\n",
    "likes_gdf = interaction_gdf[interaction_gdf['like'] == 1][['decidermemberid', 'othermemberid']].copy()\n",
    "\n",
    "# A match occurs when:\n",
    "# - User A likes User B (decidermemberid=A, othermemberid=B)\n",
    "# - User B likes User A (decidermemberid=B, othermemberid=A)\n",
    "\n",
    "# Self-join to find reciprocal likes\n",
    "matches_gdf = likes_gdf.merge(\n",
    "    likes_gdf,\n",
    "    left_on=['decidermemberid', 'othermemberid'],\n",
    "    right_on=['othermemberid', 'decidermemberid'],\n",
    "    how='inner',\n",
    "    suffixes=('_1', '_2')\n",
    ")\n",
    "\n",
    "# Keep only unique pairs (avoid counting A->B and B->A as separate matches)\n",
    "# Always put the smaller user_id first\n",
    "matches_gdf['user1'] = cudf.Series.min(\n",
    "    cudf.concat([matches_gdf['decidermemberid_1'], matches_gdf['othermemberid_1']], axis=1),\n",
    "    axis=1\n",
    ")\n",
    "matches_gdf['user2'] = cudf.Series.max(\n",
    "    cudf.concat([matches_gdf['decidermemberid_1'], matches_gdf['othermemberid_1']], axis=1),\n",
    "    axis=1\n",
    ")\n",
    "\n",
    "# Remove duplicates\n",
    "matches_gdf = matches_gdf[['user1', 'user2']].drop_duplicates()\n",
    "\n",
    "total_unique_likes = len(likes_gdf)\n",
    "print(f\"Total likes: {total_unique_likes}\")\n",
    "print(f\"Total reciprocal matches: {len(matches_gdf)}\")\n",
    "print(f\"Match rate: {len(matches_gdf) / total_unique_likes * 100:.2f}%\")"
   ]
  },
  {
   "cell_type": "code",
   "execution_count": 8,
   "id": "0979db7e",
   "metadata": {},
   "outputs": [
    {
     "name": "stdout",
     "output_type": "stream",
     "text": [
      "Matches with league information: 29772\n",
      "\n",
      "Gender combinations in matches:\n",
      "gender_combo\n",
      "M-F    15098\n",
      "F-M    14674\n",
      "Name: count, dtype: int64\n"
     ]
    }
   ],
   "source": [
    "# Merge with user data to get gender and league info (all in cudf)\n",
    "user_info_gdf = user_gdf[['user_id', 'gender', 'league']].dropna(subset=['league'])\n",
    "\n",
    "# Merge user1 info\n",
    "matches_gdf = matches_gdf.merge(\n",
    "    user_info_gdf.rename(columns={'user_id': 'user1', 'gender': 'gender1', 'league': 'league1'}),\n",
    "    on='user1',\n",
    "    how='inner'\n",
    ")\n",
    "\n",
    "# Merge user2 info\n",
    "matches_gdf = matches_gdf.merge(\n",
    "    user_info_gdf.rename(columns={'user_id': 'user2', 'gender': 'gender2', 'league': 'league2'}),\n",
    "    on='user2',\n",
    "    how='inner'\n",
    ")\n",
    "\n",
    "print(f\"Matches with league information: {len(matches_gdf)}\")\n",
    "print(f\"\\nGender combinations in matches:\")\n",
    "matches_gdf['gender_combo'] = matches_gdf['gender1'] + '-' + matches_gdf['gender2']\n",
    "gender_combo_counts = matches_gdf['gender_combo'].value_counts().to_pandas()\n",
    "print(gender_combo_counts)"
   ]
  },
  {
   "cell_type": "markdown",
   "id": "4b091876",
   "metadata": {},
   "source": [
    "### Cross-League Match Analysis\n",
    "\n",
    "Now let's analyze how different leagues match with each other, separated by gender."
   ]
  },
  {
   "cell_type": "code",
   "execution_count": 9,
   "id": "08361bad",
   "metadata": {},
   "outputs": [
    {
     "name": "stdout",
     "output_type": "stream",
     "text": [
      "Total heterosexual matches: 29772\n"
     ]
    }
   ],
   "source": [
    "# Define league order for consistent display\n",
    "league_order = ['Bronze', 'Silver', 'Gold', 'Platinum', 'Diamond']\n",
    "\n",
    "# Filter to heterosexual matches and create standardized format\n",
    "# Ensure we have female_league and male_league columns\n",
    "hetero_f_m = matches_gdf[(matches_gdf['gender1'] == 'F') & (matches_gdf['gender2'] == 'M')][['league1', 'league2']].copy()\n",
    "hetero_f_m.columns = ['female_league', 'male_league']\n",
    "\n",
    "hetero_m_f = matches_gdf[(matches_gdf['gender1'] == 'M') & (matches_gdf['gender2'] == 'F')][['league2', 'league1']].copy()\n",
    "hetero_m_f.columns = ['female_league', 'male_league']\n",
    "\n",
    "# Combine without collapsing repeated league pairings so match counts stay accurate\n",
    "all_hetero_gdf = cudf.concat([hetero_f_m, hetero_m_f], ignore_index=True)\n",
    "\n",
    "print(f\"Total heterosexual matches: {len(all_hetero_gdf)}\")\n",
    "\n",
    "# Convert to pandas only for visualization (crosstab not in cudf)\n",
    "all_hetero_matches = all_hetero_gdf.to_pandas()\n"
   ]
  },
  {
   "cell_type": "code",
   "execution_count": 10,
   "id": "1c478a67",
   "metadata": {},
   "outputs": [],
   "source": [
    "# Consistent league colors (Bronze → Diamond)\n",
    "league_colors = {\n",
    "    'Bronze': 'rgba(205, 127, 50, 0.8)',    # bronze\n",
    "    'Silver': 'rgba(192, 192, 192, 0.8)',   # silver\n",
    "    'Gold': 'rgba(255, 215, 0, 0.8)',       # gold\n",
    "    'Platinum': 'rgba(135, 206, 250, 0.8)', # light blue\n",
    "    'Diamond': 'rgba(0, 71, 171, 0.8)'      # rich blue\n",
    "}"
   ]
  },
  {
   "cell_type": "code",
   "execution_count": 11,
   "id": "6205f23e",
   "metadata": {},
   "outputs": [
    {
     "name": "stdout",
     "output_type": "stream",
     "text": [
      "Men's Match Matrix (rows=male league, cols=female league):\n",
      "female_league  Bronze  Silver  Gold  Platinum  Diamond  Total\n",
      "male_league                                                  \n",
      "Bronze           1417     687   693       832      681   4310\n",
      "Silver           1070     547   586       705      593   3501\n",
      "Gold             1048     548   609       718      618   3541\n",
      "Platinum         1961     947  1109      1334     1094   6445\n",
      "Diamond          2988    1760  2200      2795     2232  11975\n",
      "Total            8484    4489  5197      6384     5218  29772\n"
     ]
    }
   ],
   "source": [
    "# Men's perspective: Men in X league matched with women in Y league\n",
    "men_match_matrix = pd.crosstab(\n",
    "    all_hetero_matches['male_league'], \n",
    "    all_hetero_matches['female_league'],\n",
    "    margins=True,\n",
    "    margins_name='Total'\n",
    ")\n",
    "\n",
    "# Reorder to standard league order\n",
    "men_match_matrix = men_match_matrix.reindex(\n",
    "    index=league_order + ['Total'], \n",
    "    columns=league_order + ['Total'],\n",
    "    fill_value=0\n",
    ")\n",
    "\n",
    "print(\"Men's Match Matrix (rows=male league, cols=female league):\")\n",
    "print(men_match_matrix)"
   ]
  },
  {
   "cell_type": "code",
   "execution_count": 12,
   "id": "38e90c80",
   "metadata": {},
   "outputs": [
    {
     "name": "stdout",
     "output_type": "stream",
     "text": [
      "Women's Match Matrix (rows=female league, cols=male league):\n",
      "male_league    Bronze  Silver  Gold  Platinum  Diamond  Total\n",
      "female_league                                                \n",
      "Bronze           1417    1070  1048      1961     2988   8484\n",
      "Silver            687     547   548       947     1760   4489\n",
      "Gold              693     586   609      1109     2200   5197\n",
      "Platinum          832     705   718      1334     2795   6384\n",
      "Diamond           681     593   618      1094     2232   5218\n",
      "Total            4310    3501  3541      6445    11975  29772\n"
     ]
    }
   ],
   "source": [
    "# Create cross-tabulation matrices for match counts\n",
    "\n",
    "# Women's perspective: Women in X league matched with men in Y league\n",
    "women_match_matrix = pd.crosstab(\n",
    "    all_hetero_matches['female_league'], \n",
    "    all_hetero_matches['male_league'],\n",
    "    margins=True,\n",
    "    margins_name='Total'\n",
    ")\n",
    "\n",
    "# Reorder to standard league order\n",
    "women_match_matrix = women_match_matrix.reindex(\n",
    "    index=league_order + ['Total'], \n",
    "    columns=league_order + ['Total'],\n",
    "    fill_value=0\n",
    ")\n",
    "\n",
    "print(\"Women's Match Matrix (rows=female league, cols=male league):\")\n",
    "print(women_match_matrix)"
   ]
  },
  {
   "cell_type": "code",
   "execution_count": 13,
   "id": "4bf38f55",
   "metadata": {},
   "outputs": [
    {
     "name": "stdout",
     "output_type": "stream",
     "text": [
      "Women's Match Distribution (% of matches for women in each league):\n",
      "male_league    Bronze  Silver  Gold  Platinum  Diamond\n",
      "female_league                                         \n",
      "Bronze           16.7    12.6  12.4      23.1     35.2\n",
      "Silver           15.3    12.2  12.2      21.1     39.2\n",
      "Gold             13.3    11.3  11.7      21.3     42.3\n",
      "Platinum         13.0    11.0  11.2      20.9     43.8\n",
      "Diamond          13.1    11.4  11.8      21.0     42.8\n",
      "\n",
      "Men's Match Distribution (% of matches for men in each league):\n",
      "female_league  Bronze  Silver  Gold  Platinum  Diamond\n",
      "male_league                                           \n",
      "Bronze           32.9    15.9  16.1      19.3     15.8\n",
      "Silver           30.6    15.6  16.7      20.1     16.9\n",
      "Gold             29.6    15.5  17.2      20.3     17.5\n",
      "Platinum         30.4    14.7  17.2      20.7     17.0\n",
      "Diamond          25.0    14.7  18.4      23.3     18.6\n"
     ]
    }
   ],
   "source": [
    "# Calculate percentage distributions for women\n",
    "women_match_pct = women_match_matrix.iloc[:-1, :-1].div(\n",
    "    women_match_matrix.iloc[:-1, -1], \n",
    "    axis=0\n",
    ") * 100\n",
    "\n",
    "# Calculate percentage distributions for men\n",
    "men_match_pct = men_match_matrix.iloc[:-1, :-1].div(\n",
    "    men_match_matrix.iloc[:-1, -1], \n",
    "    axis=0\n",
    ") * 100\n",
    "\n",
    "print(\"Women's Match Distribution (% of matches for women in each league):\")\n",
    "print(women_match_pct.round(1))\n",
    "print(\"\\nMen's Match Distribution (% of matches for men in each league):\")\n",
    "print(men_match_pct.round(1))"
   ]
  },
  {
   "cell_type": "markdown",
   "id": "bc008b30",
   "metadata": {},
   "source": [
    "### Visualisations"
   ]
  },
  {
   "cell_type": "code",
   "execution_count": 14,
   "id": "564b1780",
   "metadata": {},
   "outputs": [
    {
     "name": "stdout",
     "output_type": "stream",
     "text": [
      "Outbound target mix by women (% of likes sent to each male league):\n",
      "other_league    Bronze  Silver  Gold  Platinum  Diamond\n",
      "decider_league                                         \n",
      "Bronze            11.0    12.7  16.0      25.6     34.7\n",
      "Silver            11.2    12.3  15.1      24.4     37.0\n",
      "Gold               9.3    10.9  14.4      26.8     38.6\n",
      "Platinum          10.1    12.1  14.2      24.4     39.2\n",
      "Diamond           10.7    13.2  15.3      24.3     36.6\n",
      "\n",
      "Reciprocity rate (matches per 100 outbound likes), by female x male league:\n",
      "male_league    Bronze  Silver  Gold  Platinum  Diamond\n",
      "female_league                                         \n",
      "Bronze           31.2    20.4  15.9      18.6     20.9\n",
      "Silver           28.4    20.5  16.8      18.0     22.0\n",
      "Gold             34.4    24.7  19.5      19.0     26.2\n",
      "Platinum         34.6    24.5  21.2      23.0     30.1\n",
      "Diamond          33.8    23.8  21.3      23.8     32.3\n",
      "\n",
      "Average inbound likes per woman (by female league):\n",
      "female_league\n",
      "Bronze       79.14\n",
      "Silver       83.57\n",
      "Gold         98.60\n",
      "Platinum    111.07\n",
      "Diamond     151.69\n",
      "Name: inbound_likes, dtype: float64\n",
      "\n",
      "Interpretation guide:\n",
      "- If Silver shows higher outbound focus on higher male leagues plus lower reciprocity, no-match rates can increase.\n",
      "- If inbound attention is lower for Silver than Bronze, fewer opportunities lead to fewer matches despite similar effort.\n"
     ]
    }
   ],
   "source": [
    "# Prepare helpers in cudf for diagnostics\n",
    "# We'll analyze heterosexual interactions only and compute per-female stats\n",
    "\n",
    "# 1) Outbound likes by women (female -> male)\n",
    "likes_f_to_m = interaction_gdf[(interaction_gdf['like'] == 1)]\n",
    "likes_f_to_m = likes_f_to_m.merge(\n",
    "    user_info_gdf.rename(columns={'user_id': 'decidermemberid', 'gender': 'decider_gender', 'league': 'decider_league'}),\n",
    "    on='decidermemberid', how='left'\n",
    ")\n",
    "likes_f_to_m = likes_f_to_m.merge(\n",
    "    user_info_gdf.rename(columns={'user_id': 'othermemberid', 'gender': 'other_gender', 'league': 'other_league'}),\n",
    "    on='othermemberid', how='left'\n",
    ")\n",
    "likes_f_to_m = likes_f_to_m[(likes_f_to_m['decider_gender'] == 'F') & (likes_f_to_m['other_gender'] == 'M')]\n",
    "\n",
    "# 2) Inbound likes to women (male -> female)\n",
    "likes_m_to_f = interaction_gdf[(interaction_gdf['like'] == 1)]\n",
    "likes_m_to_f = likes_m_to_f.merge(\n",
    "    user_info_gdf.rename(columns={'user_id': 'decidermemberid', 'gender': 'decider_gender', 'league': 'decider_league'}),\n",
    "    on='decidermemberid', how='left'\n",
    ")\n",
    "likes_m_to_f = likes_m_to_f.merge(\n",
    "    user_info_gdf.rename(columns={'user_id': 'othermemberid', 'gender': 'other_gender', 'league': 'other_league'}),\n",
    "    on='othermemberid', how='left'\n",
    ")\n",
    "likes_m_to_f = likes_m_to_f[(likes_m_to_f['decider_gender'] == 'M') & (likes_m_to_f['other_gender'] == 'F')]\n",
    "\n",
    "# 3) Matches already computed; convert to female<->male frame for ease\n",
    "fm_matches = cudf.concat([\n",
    "    matches_gdf[(matches_gdf['gender1'] == 'F') & (matches_gdf['gender2'] == 'M')][['user1','league1','user2','league2']].rename(columns={'user1':'female_id','league1':'female_league','user2':'male_id','league2':'male_league'}),\n",
    "    matches_gdf[(matches_gdf['gender1'] == 'M') & (matches_gdf['gender2'] == 'F')][['user2','league2','user1','league1']].rename(columns={'user2':'female_id','league2':'female_league','user1':'male_id','league1':'male_league'})\n",
    "], ignore_index=True)\n",
    "\n",
    "league_order = ['Bronze', 'Silver', 'Gold', 'Platinum', 'Diamond']\n",
    "league_colors = {\n",
    "    'Bronze': 'rgba(205, 127, 50, 0.8)',\n",
    "    'Silver': 'rgba(192, 192, 192, 0.8)',\n",
    "    'Gold': 'rgba(255, 215, 0, 0.8)',\n",
    "    'Platinum': 'rgba(135, 206, 250, 0.8)',\n",
    "    'Diamond': 'rgba(0, 71, 171, 0.8)'\n",
    "}\n",
    "\n",
    "# A) Outbound target mix of women (row-normalized by female league)\n",
    "outbound_counts = likes_f_to_m.groupby(['decider_league','other_league']).size().reset_index(name='cnt')\n",
    "outbound_pivot = outbound_counts.pivot(index='decider_league', columns='other_league', values='cnt').fillna(0)\n",
    "# Normalize rows to percentages (cuDF only supports axis=1; use transpose trick)\n",
    "row_sums = outbound_pivot.sum(axis=1).replace(0, 1)\n",
    "outbound_pct_cudf = (outbound_pivot.T.divide(row_sums, axis=1).T) * 100\n",
    "# Ensure standard league order in pandas for display\n",
    "outbound_pct = outbound_pct_cudf.to_pandas().reindex(index=league_order, columns=league_order, fill_value=0)\n",
    "\n",
    "print(\"Outbound target mix by women (% of likes sent to each male league):\")\n",
    "print(outbound_pct.round(1))\n",
    "\n",
    "# B) Reciprocity rate: matches per outbound like, by female league x male league\n",
    "# Count matches by (female_league, male_league)\n",
    "match_counts = fm_matches.groupby(['female_league','male_league']).size().reset_index(name='m_cnt')\n",
    "# Count outbound likes by (female_league, male_league)\n",
    "like_counts = likes_f_to_m.groupby(['decider_league','other_league']).size().reset_index(name='l_cnt')\n",
    "like_counts = like_counts.rename(columns={'decider_league':'female_league','other_league':'male_league'})\n",
    "\n",
    "recip = like_counts.merge(match_counts, on=['female_league','male_league'], how='left')\n",
    "recip['m_cnt'] = recip['m_cnt'].fillna(0)\n",
    "# Safe division avoiding divide-by-zero: replace 0 with null then fillna\n",
    "den = recip['l_cnt'].astype('float64').replace(0, None)\n",
    "recip['reciprocity'] = ((recip['m_cnt'].astype('float64') * 100) / den).fillna(0)\n",
    "recip_pivot = recip.pivot(index='female_league', columns='male_league', values='reciprocity').fillna(0)\n",
    "recip_pct = recip_pivot.to_pandas().reindex(index=league_order, columns=league_order, fill_value=0)\n",
    "\n",
    "print(\"\\nReciprocity rate (matches per 100 outbound likes), by female x male league:\")\n",
    "print(recip_pct.round(1))\n",
    "\n",
    "# C) Inbound attention: avg inbound likes per woman by female league\n",
    "inbound_counts = likes_m_to_f.groupby('othermemberid').size().reset_index(name='inbound_likes')\n",
    "# Attach female league\n",
    "female_leagues = user_info_gdf[user_info_gdf['gender']=='F'][['user_id','league']].rename(columns={'user_id':'othermemberid','league':'female_league'})\n",
    "inbound_with_league = inbound_counts.merge(female_leagues, on='othermemberid', how='left')\n",
    "\n",
    "avg_inbound = inbound_with_league.groupby('female_league')['inbound_likes'].mean().to_pandas().reindex(index=league_order, fill_value=0)\n",
    "\n",
    "print(\"\\nAverage inbound likes per woman (by female league):\")\n",
    "print(avg_inbound.round(2))\n",
    "\n",
    "# Quick textual interpretation scaffold\n",
    "print(\"\\nInterpretation guide:\")\n",
    "print(\"- If Silver shows higher outbound focus on higher male leagues plus lower reciprocity, no-match rates can increase.\")\n",
    "print(\"- If inbound attention is lower for Silver than Bronze, fewer opportunities lead to fewer matches despite similar effort.\")"
   ]
  },
  {
   "cell_type": "code",
   "execution_count": 15,
   "id": "8f2b4ef3",
   "metadata": {},
   "outputs": [
    {
     "data": {
      "application/vnd.plotly.v1+json": {
       "config": {
        "plotlyServerURL": "https://plot.ly"
       },
       "data": [
        {
         "legendgroup": "male-Bronze",
         "marker": {
          "color": "rgba(205, 127, 50, 0.8)"
         },
         "name": "Men: Bronze",
         "text": {
          "bdata": "AAAAAAAAJkBmZmZmZmYmQJqZmZmZmSJAMzMzMzMzJEBmZmZmZmYlQA==",
          "dtype": "f8"
         },
         "textposition": "inside",
         "texttemplate": "%{text}%",
         "type": "bar",
         "x": [
          "Bronze",
          "Silver",
          "Gold",
          "Platinum",
          "Diamond"
         ],
         "xaxis": "x",
         "y": {
          "bdata": "hfyHrBgFJkC1ULpMqlcmQEiT9HhdiCJAudRjPF0/JEC/QINoP1AlQA==",
          "dtype": "f8"
         },
         "yaxis": "y"
        },
        {
         "legendgroup": "male-Bronze",
         "marker": {
          "color": "rgba(205, 127, 50, 0.8)"
         },
         "name": "Men: Bronze",
         "showlegend": false,
         "text": {
          "bdata": "MzMzMzOzMECamZmZmZkuQJqZmZmZmSpAAAAAAAAAKkAzMzMzMzMqQA==",
          "dtype": "f8"
         },
         "textposition": "inside",
         "texttemplate": "%{text}%",
         "type": "bar",
         "x": [
          "Bronze",
          "Silver",
          "Gold",
          "Platinum",
          "Diamond"
         ],
         "xaxis": "x2",
         "y": {
          "bdata": "zDZqELizMECM1Knur5suQBt+AM5SqypACqErhK4QKkDiKju1GRoqQA==",
          "dtype": "f8"
         },
         "yaxis": "y2"
        },
        {
         "legendgroup": "male-Silver",
         "marker": {
          "color": "rgba(192, 192, 192, 0.8)"
         },
         "name": "Men: Silver",
         "text": {
          "bdata": "ZmZmZmZmKUCamZmZmZkoQM3MzMzMzCVAMzMzMzMzKEBmZmZmZmYqQA==",
          "dtype": "f8"
         },
         "textposition": "inside",
         "texttemplate": "%{text}%",
         "type": "bar",
         "x": [
          "Bronze",
          "Silver",
          "Gold",
          "Platinum",
          "Diamond"
         ],
         "xaxis": "x",
         "y": {
          "bdata": "aQU/hvBuKUBl4OnW/LAoQAyIXZOd2yVAzkj9xEJBKEDBvf3ITF0qQA==",
          "dtype": "f8"
         },
         "yaxis": "y"
        },
        {
         "legendgroup": "male-Silver",
         "marker": {
          "color": "rgba(192, 192, 192, 0.8)"
         },
         "name": "Men: Silver",
         "showlegend": false,
         "text": {
          "bdata": "MzMzMzMzKUBmZmZmZmYoQJqZmZmZmSZAAAAAAAAAJkDNzMzMzMwmQA==",
          "dtype": "f8"
         },
         "textposition": "inside",
         "texttemplate": "%{text}%",
         "type": "bar",
         "x": [
          "Bronze",
          "Silver",
          "Gold",
          "Platinum",
          "Diamond"
         ],
         "xaxis": "x2",
         "y": {
          "bdata": "KCK92VQ5KUChucEj5V4oQPTh6UQtjSZAYqmIpSIWJkAIDkG5oLomQA==",
          "dtype": "f8"
         },
         "yaxis": "y2"
        },
        {
         "legendgroup": "male-Gold",
         "marker": {
          "color": "rgba(255, 215, 0, 0.8)"
         },
         "name": "Men: Gold",
         "text": {
          "bdata": "AAAAAAAAMEAzMzMzMzMuQM3MzMzMzCxAZmZmZmZmLECamZmZmZkuQA==",
          "dtype": "f8"
         },
         "textposition": "inside",
         "texttemplate": "%{text}%",
         "type": "bar",
         "x": [
          "Bronze",
          "Silver",
          "Gold",
          "Platinum",
          "Diamond"
         ],
         "xaxis": "x",
         "y": {
          "bdata": "cSsDuxnuL0C5/oMDVTYuQEAhPNR/xixAHI/YIOJ2LEDBRn+iDpouQA==",
          "dtype": "f8"
         },
         "yaxis": "y"
        },
        {
         "legendgroup": "male-Gold",
         "marker": {
          "color": "rgba(255, 215, 0, 0.8)"
         },
         "name": "Men: Gold",
         "showlegend": false,
         "text": {
          "bdata": "zczMzMzMKEBmZmZmZmYoQGZmZmZmZidAZmZmZmZmJkCamZmZmZknQA==",
          "dtype": "f8"
         },
         "textposition": "inside",
         "texttemplate": "%{text}%",
         "type": "bar",
         "x": [
          "Bronze",
          "Silver",
          "Gold",
          "Platinum",
          "Diamond"
         ],
         "xaxis": "x2",
         "y": {
          "bdata": "lcXDWpC0KEB6Pfr8TGooQKvTk+PEbydA5leZX2V+JkBRMwW77q8nQA==",
          "dtype": "f8"
         },
         "yaxis": "y2"
        },
        {
         "legendgroup": "male-Platinum",
         "marker": {
          "color": "rgba(135, 206, 250, 0.8)"
         },
         "name": "Men: Platinum",
         "text": {
          "bdata": "mpmZmZmZOUBmZmZmZmY4QM3MzMzMzDpAZmZmZmZmOEDNzMzMzEw4QA==",
          "dtype": "f8"
         },
         "textposition": "inside",
         "texttemplate": "%{text}%",
         "type": "bar",
         "x": [
          "Bronze",
          "Silver",
          "Gold",
          "Platinum",
          "Diamond"
         ],
         "xaxis": "x",
         "y": {
          "bdata": "11P9DKmgOUCYFFzHwls4QOK4j8Jq0TpAAvDAbEddOED3nAWvzE04QA==",
          "dtype": "f8"
         },
         "yaxis": "y"
        },
        {
         "legendgroup": "male-Platinum",
         "marker": {
          "color": "rgba(135, 206, 250, 0.8)"
         },
         "name": "Men: Platinum",
         "showlegend": false,
         "text": {
          "bdata": "mpmZmZkZN0CamZmZmRk1QM3MzMzMTDVAZmZmZmbmNEAAAAAAAAA1QA==",
          "dtype": "f8"
         },
         "textposition": "inside",
         "texttemplate": "%{text}%",
         "type": "bar",
         "x": [
          "Bronze",
          "Silver",
          "Gold",
          "Platinum",
          "Diamond"
         ],
         "xaxis": "x2",
         "y": {
          "bdata": "uiMYeDUdN0Cy3gdGlBg1QAkiAQ3YVjVAVuZXmV/lNEA6lhVkRPc0QA==",
          "dtype": "f8"
         },
         "yaxis": "y2"
        },
        {
         "legendgroup": "male-Diamond",
         "marker": {
          "color": "rgba(0, 71, 171, 0.8)"
         },
         "name": "Men: Diamond",
         "text": {
          "bdata": "mpmZmZlZQUAAAAAAAIBCQM3MzMzMTENAmpmZmZmZQ0DNzMzMzExCQA==",
          "dtype": "f8"
         },
         "textposition": "inside",
         "texttemplate": "%{text}%",
         "type": "bar",
         "x": [
          "Bronze",
          "Silver",
          "Gold",
          "Platinum",
          "Diamond"
         ],
         "xaxis": "x",
         "y": {
          "bdata": "vcoOviJXQUC/6YeSX4JCQGqUlOarTENA1xwRwXuTQ0A1IH3zMkdCQA==",
          "dtype": "f8"
         },
         "yaxis": "y"
        },
        {
         "legendgroup": "male-Diamond",
         "marker": {
          "color": "rgba(0, 71, 171, 0.8)"
         },
         "name": "Men: Diamond",
         "showlegend": false,
         "text": {
          "bdata": "mpmZmZmZQUCamZmZmZlDQGZmZmZmJkVAZmZmZmbmRUBmZmZmZmZFQA==",
          "dtype": "f8"
         },
         "textposition": "inside",
         "texttemplate": "%{text}%",
         "type": "bar",
         "x": [
          "Bronze",
          "Silver",
          "Gold",
          "Platinum",
          "Diamond"
         ],
         "xaxis": "x2",
         "y": {
          "bdata": "zpie7g+cQUC+nSJZfZpDQA3i37uCKkVAQKQAkQLkRUDU2ZSDM2NFQA==",
          "dtype": "f8"
         },
         "yaxis": "y2"
        }
       ],
       "layout": {
        "annotations": [
         {
          "font": {
           "size": 16
          },
          "showarrow": false,
          "text": "Women: Outbound Target Mix",
          "x": 0.225,
          "xanchor": "center",
          "xref": "paper",
          "y": 1,
          "yanchor": "bottom",
          "yref": "paper"
         },
         {
          "font": {
           "size": 16
          },
          "showarrow": false,
          "text": "Women: Match Distribution",
          "x": 0.775,
          "xanchor": "center",
          "xref": "paper",
          "y": 1,
          "yanchor": "bottom",
          "yref": "paper"
         }
        ],
        "barmode": "stack",
        "height": 550,
        "legend": {
         "title": {
          "text": "Male League"
         }
        },
        "template": {
         "data": {
          "bar": [
           {
            "error_x": {
             "color": "#2a3f5f"
            },
            "error_y": {
             "color": "#2a3f5f"
            },
            "marker": {
             "line": {
              "color": "#E5ECF6",
              "width": 0.5
             },
             "pattern": {
              "fillmode": "overlay",
              "size": 10,
              "solidity": 0.2
             }
            },
            "type": "bar"
           }
          ],
          "barpolar": [
           {
            "marker": {
             "line": {
              "color": "#E5ECF6",
              "width": 0.5
             },
             "pattern": {
              "fillmode": "overlay",
              "size": 10,
              "solidity": 0.2
             }
            },
            "type": "barpolar"
           }
          ],
          "carpet": [
           {
            "aaxis": {
             "endlinecolor": "#2a3f5f",
             "gridcolor": "white",
             "linecolor": "white",
             "minorgridcolor": "white",
             "startlinecolor": "#2a3f5f"
            },
            "baxis": {
             "endlinecolor": "#2a3f5f",
             "gridcolor": "white",
             "linecolor": "white",
             "minorgridcolor": "white",
             "startlinecolor": "#2a3f5f"
            },
            "type": "carpet"
           }
          ],
          "choropleth": [
           {
            "colorbar": {
             "outlinewidth": 0,
             "ticks": ""
            },
            "type": "choropleth"
           }
          ],
          "contour": [
           {
            "colorbar": {
             "outlinewidth": 0,
             "ticks": ""
            },
            "colorscale": [
             [
              0,
              "#0d0887"
             ],
             [
              0.1111111111111111,
              "#46039f"
             ],
             [
              0.2222222222222222,
              "#7201a8"
             ],
             [
              0.3333333333333333,
              "#9c179e"
             ],
             [
              0.4444444444444444,
              "#bd3786"
             ],
             [
              0.5555555555555556,
              "#d8576b"
             ],
             [
              0.6666666666666666,
              "#ed7953"
             ],
             [
              0.7777777777777778,
              "#fb9f3a"
             ],
             [
              0.8888888888888888,
              "#fdca26"
             ],
             [
              1,
              "#f0f921"
             ]
            ],
            "type": "contour"
           }
          ],
          "contourcarpet": [
           {
            "colorbar": {
             "outlinewidth": 0,
             "ticks": ""
            },
            "type": "contourcarpet"
           }
          ],
          "heatmap": [
           {
            "colorbar": {
             "outlinewidth": 0,
             "ticks": ""
            },
            "colorscale": [
             [
              0,
              "#0d0887"
             ],
             [
              0.1111111111111111,
              "#46039f"
             ],
             [
              0.2222222222222222,
              "#7201a8"
             ],
             [
              0.3333333333333333,
              "#9c179e"
             ],
             [
              0.4444444444444444,
              "#bd3786"
             ],
             [
              0.5555555555555556,
              "#d8576b"
             ],
             [
              0.6666666666666666,
              "#ed7953"
             ],
             [
              0.7777777777777778,
              "#fb9f3a"
             ],
             [
              0.8888888888888888,
              "#fdca26"
             ],
             [
              1,
              "#f0f921"
             ]
            ],
            "type": "heatmap"
           }
          ],
          "histogram": [
           {
            "marker": {
             "pattern": {
              "fillmode": "overlay",
              "size": 10,
              "solidity": 0.2
             }
            },
            "type": "histogram"
           }
          ],
          "histogram2d": [
           {
            "colorbar": {
             "outlinewidth": 0,
             "ticks": ""
            },
            "colorscale": [
             [
              0,
              "#0d0887"
             ],
             [
              0.1111111111111111,
              "#46039f"
             ],
             [
              0.2222222222222222,
              "#7201a8"
             ],
             [
              0.3333333333333333,
              "#9c179e"
             ],
             [
              0.4444444444444444,
              "#bd3786"
             ],
             [
              0.5555555555555556,
              "#d8576b"
             ],
             [
              0.6666666666666666,
              "#ed7953"
             ],
             [
              0.7777777777777778,
              "#fb9f3a"
             ],
             [
              0.8888888888888888,
              "#fdca26"
             ],
             [
              1,
              "#f0f921"
             ]
            ],
            "type": "histogram2d"
           }
          ],
          "histogram2dcontour": [
           {
            "colorbar": {
             "outlinewidth": 0,
             "ticks": ""
            },
            "colorscale": [
             [
              0,
              "#0d0887"
             ],
             [
              0.1111111111111111,
              "#46039f"
             ],
             [
              0.2222222222222222,
              "#7201a8"
             ],
             [
              0.3333333333333333,
              "#9c179e"
             ],
             [
              0.4444444444444444,
              "#bd3786"
             ],
             [
              0.5555555555555556,
              "#d8576b"
             ],
             [
              0.6666666666666666,
              "#ed7953"
             ],
             [
              0.7777777777777778,
              "#fb9f3a"
             ],
             [
              0.8888888888888888,
              "#fdca26"
             ],
             [
              1,
              "#f0f921"
             ]
            ],
            "type": "histogram2dcontour"
           }
          ],
          "mesh3d": [
           {
            "colorbar": {
             "outlinewidth": 0,
             "ticks": ""
            },
            "type": "mesh3d"
           }
          ],
          "parcoords": [
           {
            "line": {
             "colorbar": {
              "outlinewidth": 0,
              "ticks": ""
             }
            },
            "type": "parcoords"
           }
          ],
          "pie": [
           {
            "automargin": true,
            "type": "pie"
           }
          ],
          "scatter": [
           {
            "fillpattern": {
             "fillmode": "overlay",
             "size": 10,
             "solidity": 0.2
            },
            "type": "scatter"
           }
          ],
          "scatter3d": [
           {
            "line": {
             "colorbar": {
              "outlinewidth": 0,
              "ticks": ""
             }
            },
            "marker": {
             "colorbar": {
              "outlinewidth": 0,
              "ticks": ""
             }
            },
            "type": "scatter3d"
           }
          ],
          "scattercarpet": [
           {
            "marker": {
             "colorbar": {
              "outlinewidth": 0,
              "ticks": ""
             }
            },
            "type": "scattercarpet"
           }
          ],
          "scattergeo": [
           {
            "marker": {
             "colorbar": {
              "outlinewidth": 0,
              "ticks": ""
             }
            },
            "type": "scattergeo"
           }
          ],
          "scattergl": [
           {
            "marker": {
             "colorbar": {
              "outlinewidth": 0,
              "ticks": ""
             }
            },
            "type": "scattergl"
           }
          ],
          "scattermap": [
           {
            "marker": {
             "colorbar": {
              "outlinewidth": 0,
              "ticks": ""
             }
            },
            "type": "scattermap"
           }
          ],
          "scattermapbox": [
           {
            "marker": {
             "colorbar": {
              "outlinewidth": 0,
              "ticks": ""
             }
            },
            "type": "scattermapbox"
           }
          ],
          "scatterpolar": [
           {
            "marker": {
             "colorbar": {
              "outlinewidth": 0,
              "ticks": ""
             }
            },
            "type": "scatterpolar"
           }
          ],
          "scatterpolargl": [
           {
            "marker": {
             "colorbar": {
              "outlinewidth": 0,
              "ticks": ""
             }
            },
            "type": "scatterpolargl"
           }
          ],
          "scatterternary": [
           {
            "marker": {
             "colorbar": {
              "outlinewidth": 0,
              "ticks": ""
             }
            },
            "type": "scatterternary"
           }
          ],
          "surface": [
           {
            "colorbar": {
             "outlinewidth": 0,
             "ticks": ""
            },
            "colorscale": [
             [
              0,
              "#0d0887"
             ],
             [
              0.1111111111111111,
              "#46039f"
             ],
             [
              0.2222222222222222,
              "#7201a8"
             ],
             [
              0.3333333333333333,
              "#9c179e"
             ],
             [
              0.4444444444444444,
              "#bd3786"
             ],
             [
              0.5555555555555556,
              "#d8576b"
             ],
             [
              0.6666666666666666,
              "#ed7953"
             ],
             [
              0.7777777777777778,
              "#fb9f3a"
             ],
             [
              0.8888888888888888,
              "#fdca26"
             ],
             [
              1,
              "#f0f921"
             ]
            ],
            "type": "surface"
           }
          ],
          "table": [
           {
            "cells": {
             "fill": {
              "color": "#EBF0F8"
             },
             "line": {
              "color": "white"
             }
            },
            "header": {
             "fill": {
              "color": "#C8D4E3"
             },
             "line": {
              "color": "white"
             }
            },
            "type": "table"
           }
          ]
         },
         "layout": {
          "annotationdefaults": {
           "arrowcolor": "#2a3f5f",
           "arrowhead": 0,
           "arrowwidth": 1
          },
          "autotypenumbers": "strict",
          "coloraxis": {
           "colorbar": {
            "outlinewidth": 0,
            "ticks": ""
           }
          },
          "colorscale": {
           "diverging": [
            [
             0,
             "#8e0152"
            ],
            [
             0.1,
             "#c51b7d"
            ],
            [
             0.2,
             "#de77ae"
            ],
            [
             0.3,
             "#f1b6da"
            ],
            [
             0.4,
             "#fde0ef"
            ],
            [
             0.5,
             "#f7f7f7"
            ],
            [
             0.6,
             "#e6f5d0"
            ],
            [
             0.7,
             "#b8e186"
            ],
            [
             0.8,
             "#7fbc41"
            ],
            [
             0.9,
             "#4d9221"
            ],
            [
             1,
             "#276419"
            ]
           ],
           "sequential": [
            [
             0,
             "#0d0887"
            ],
            [
             0.1111111111111111,
             "#46039f"
            ],
            [
             0.2222222222222222,
             "#7201a8"
            ],
            [
             0.3333333333333333,
             "#9c179e"
            ],
            [
             0.4444444444444444,
             "#bd3786"
            ],
            [
             0.5555555555555556,
             "#d8576b"
            ],
            [
             0.6666666666666666,
             "#ed7953"
            ],
            [
             0.7777777777777778,
             "#fb9f3a"
            ],
            [
             0.8888888888888888,
             "#fdca26"
            ],
            [
             1,
             "#f0f921"
            ]
           ],
           "sequentialminus": [
            [
             0,
             "#0d0887"
            ],
            [
             0.1111111111111111,
             "#46039f"
            ],
            [
             0.2222222222222222,
             "#7201a8"
            ],
            [
             0.3333333333333333,
             "#9c179e"
            ],
            [
             0.4444444444444444,
             "#bd3786"
            ],
            [
             0.5555555555555556,
             "#d8576b"
            ],
            [
             0.6666666666666666,
             "#ed7953"
            ],
            [
             0.7777777777777778,
             "#fb9f3a"
            ],
            [
             0.8888888888888888,
             "#fdca26"
            ],
            [
             1,
             "#f0f921"
            ]
           ]
          },
          "colorway": [
           "#636efa",
           "#EF553B",
           "#00cc96",
           "#ab63fa",
           "#FFA15A",
           "#19d3f3",
           "#FF6692",
           "#B6E880",
           "#FF97FF",
           "#FECB52"
          ],
          "font": {
           "color": "#2a3f5f"
          },
          "geo": {
           "bgcolor": "white",
           "lakecolor": "white",
           "landcolor": "#E5ECF6",
           "showlakes": true,
           "showland": true,
           "subunitcolor": "white"
          },
          "hoverlabel": {
           "align": "left"
          },
          "hovermode": "closest",
          "mapbox": {
           "style": "light"
          },
          "paper_bgcolor": "white",
          "plot_bgcolor": "#E5ECF6",
          "polar": {
           "angularaxis": {
            "gridcolor": "white",
            "linecolor": "white",
            "ticks": ""
           },
           "bgcolor": "#E5ECF6",
           "radialaxis": {
            "gridcolor": "white",
            "linecolor": "white",
            "ticks": ""
           }
          },
          "scene": {
           "xaxis": {
            "backgroundcolor": "#E5ECF6",
            "gridcolor": "white",
            "gridwidth": 2,
            "linecolor": "white",
            "showbackground": true,
            "ticks": "",
            "zerolinecolor": "white"
           },
           "yaxis": {
            "backgroundcolor": "#E5ECF6",
            "gridcolor": "white",
            "gridwidth": 2,
            "linecolor": "white",
            "showbackground": true,
            "ticks": "",
            "zerolinecolor": "white"
           },
           "zaxis": {
            "backgroundcolor": "#E5ECF6",
            "gridcolor": "white",
            "gridwidth": 2,
            "linecolor": "white",
            "showbackground": true,
            "ticks": "",
            "zerolinecolor": "white"
           }
          },
          "shapedefaults": {
           "line": {
            "color": "#2a3f5f"
           }
          },
          "ternary": {
           "aaxis": {
            "gridcolor": "white",
            "linecolor": "white",
            "ticks": ""
           },
           "baxis": {
            "gridcolor": "white",
            "linecolor": "white",
            "ticks": ""
           },
           "bgcolor": "#E5ECF6",
           "caxis": {
            "gridcolor": "white",
            "linecolor": "white",
            "ticks": ""
           }
          },
          "title": {
           "x": 0.05
          },
          "xaxis": {
           "automargin": true,
           "gridcolor": "white",
           "linecolor": "white",
           "ticks": "",
           "title": {
            "standoff": 15
           },
           "zerolinecolor": "white",
           "zerolinewidth": 2
          },
          "yaxis": {
           "automargin": true,
           "gridcolor": "white",
           "linecolor": "white",
           "ticks": "",
           "title": {
            "standoff": 15
           },
           "zerolinecolor": "white",
           "zerolinewidth": 2
          }
         }
        },
        "title": {
         "text": "Women: Outbound vs Matches by League",
         "x": 0.5,
         "xanchor": "center"
        },
        "width": 1100,
        "xaxis": {
         "anchor": "y",
         "domain": [
          0,
          0.45
         ],
         "title": {
          "text": "Female League"
         }
        },
        "xaxis2": {
         "anchor": "y2",
         "domain": [
          0.55,
          1
         ],
         "title": {
          "text": "Female League"
         }
        },
        "yaxis": {
         "anchor": "x",
         "domain": [
          0,
          1
         ],
         "title": {
          "text": "Percentage (%)"
         }
        },
        "yaxis2": {
         "anchor": "x2",
         "domain": [
          0,
          1
         ],
         "title": {
          "text": "Percentage (%)"
         }
        }
       }
      }
     },
     "metadata": {},
     "output_type": "display_data"
    },
    {
     "data": {
      "application/vnd.plotly.v1+json": {
       "config": {
        "plotlyServerURL": "https://plot.ly"
       },
       "data": [
        {
         "legendgroup": "female-Bronze",
         "marker": {
          "color": "rgba(205, 127, 50, 0.8)"
         },
         "name": "Women: Bronze",
         "text": {
          "bdata": "zczMzMzMOUBmZmZmZmY4QAAAAAAAADdAAAAAAACAN0DNzMzMzMw1QA==",
          "dtype": "f8"
         },
         "textposition": "inside",
         "texttemplate": "%{text}%",
         "type": "bar",
         "x": [
          "Bronze",
          "Silver",
          "Gold",
          "Platinum",
          "Diamond"
         ],
         "xaxis": "x",
         "y": {
          "bdata": "Fh/6HJ/TOUDTOcA3j2U4QLAhZTN59jZAmwZTCJJ4N0C3S4LivcU1QA==",
          "dtype": "f8"
         },
         "yaxis": "y"
        },
        {
         "legendgroup": "female-Bronze",
         "marker": {
          "color": "rgba(205, 127, 50, 0.8)"
         },
         "name": "Women: Bronze",
         "showlegend": false,
         "text": {
          "bdata": "MzMzMzNzQECamZmZmZk+QJqZmZmZmT1AZmZmZmZmPkAAAAAAAAA5QA==",
          "dtype": "f8"
         },
         "textposition": "inside",
         "texttemplate": "%{text}%",
         "type": "bar",
         "x": [
          "Bronze",
          "Silver",
          "Gold",
          "Platinum",
          "Diamond"
         ],
         "xaxis": "x2",
         "y": {
          "bdata": "rpU8hkJwQECnUJXeDJA+QHAY9uSdmD1A9FvpYTttPkDEj20ttfM4QA==",
          "dtype": "f8"
         },
         "yaxis": "y2"
        },
        {
         "legendgroup": "female-Silver",
         "marker": {
          "color": "rgba(192, 192, 192, 0.8)"
         },
         "name": "Women: Silver",
         "text": {
          "bdata": "MzMzMzMzMUAAAAAAAAAxQM3MzMzMzDBAMzMzMzMzMUAAAAAAAAAxQA==",
          "dtype": "f8"
         },
         "textposition": "inside",
         "texttemplate": "%{text}%",
         "type": "bar",
         "x": [
          "Bronze",
          "Silver",
          "Gold",
          "Platinum",
          "Diamond"
         ],
         "xaxis": "x",
         "y": {
          "bdata": "CrOBA3kqMUB0zDkw2QUxQBkNv8ntyTBA6livYnMpMUD2mpZnnwQxQA==",
          "dtype": "f8"
         },
         "yaxis": "y"
        },
        {
         "legendgroup": "female-Silver",
         "marker": {
          "color": "rgba(192, 192, 192, 0.8)"
         },
         "name": "Women: Silver",
         "showlegend": false,
         "text": {
          "bdata": "zczMzMzML0AzMzMzMzMvQAAAAAAAAC9AZmZmZmZmLUBmZmZmZmYtQA==",
          "dtype": "f8"
         },
         "textposition": "inside",
         "texttemplate": "%{text}%",
         "type": "bar",
         "x": [
          "Bronze",
          "Silver",
          "Gold",
          "Platinum",
          "Diamond"
         ],
         "xaxis": "x2",
         "y": {
          "bdata": "fIG6Gh3hL0AQOj4Biz8vQMY6Byyj8y5A+uYNahpjLUAChBesAmUtQA==",
          "dtype": "f8"
         },
         "yaxis": "y2"
        },
        {
         "legendgroup": "female-Gold",
         "marker": {
          "color": "rgba(255, 215, 0, 0.8)"
         },
         "name": "Women: Gold",
         "text": {
          "bdata": "AAAAAAAANEAzMzMzMzM0QDMzMzMzMzRAAAAAAACANEAzMzMzM7M0QA==",
          "dtype": "f8"
         },
         "textposition": "inside",
         "texttemplate": "%{text}%",
         "type": "bar",
         "x": [
          "Bronze",
          "Silver",
          "Gold",
          "Platinum",
          "Diamond"
         ],
         "xaxis": "x",
         "y": {
          "bdata": "aGdGeZT5M0Ahfd93ki80QFb568SMMzRAxVp6q0eGNECnt9gHeLw0QA==",
          "dtype": "f8"
         },
         "yaxis": "y"
        },
        {
         "legendgroup": "female-Gold",
         "marker": {
          "color": "rgba(255, 215, 0, 0.8)"
         },
         "name": "Women: Gold",
         "showlegend": false,
         "text": {
          "bdata": "mpmZmZkZMEAzMzMzM7MwQDMzMzMzMzFAMzMzMzMzMUBmZmZmZmYyQA==",
          "dtype": "f8"
         },
         "textposition": "inside",
         "texttemplate": "%{text}%",
         "type": "bar",
         "x": [
          "Bronze",
          "Silver",
          "Gold",
          "Platinum",
          "Diamond"
         ],
         "xaxis": "x2",
         "y": {
          "bdata": "QnCt5DEUMEBQmPF48rwwQLJjqfXSMjFA8et88wY1MUCBso6rIV8yQA==",
          "dtype": "f8"
         },
         "yaxis": "y2"
        },
        {
         "legendgroup": "female-Platinum",
         "marker": {
          "color": "rgba(135, 206, 250, 0.8)"
         },
         "name": "Women: Platinum",
         "text": {
          "bdata": "mpmZmZkZNkCamZmZmZk2QGZmZmZmZjdAMzMzMzMzN0CamZmZmRk4QA==",
          "dtype": "f8"
         },
         "textposition": "inside",
         "texttemplate": "%{text}%",
         "type": "bar",
         "x": [
          "Bronze",
          "Silver",
          "Gold",
          "Platinum",
          "Diamond"
         ],
         "xaxis": "x",
         "y": {
          "bdata": "PVKRWBwiNkDmtn53r5I2QC50fI/EWTdA5HWztyAoN0CrDQ6mfB44QA==",
          "dtype": "f8"
         },
         "yaxis": "y"
        },
        {
         "legendgroup": "female-Platinum",
         "marker": {
          "color": "rgba(135, 206, 250, 0.8)"
         },
         "name": "Women: Platinum",
         "showlegend": false,
         "text": {
          "bdata": "zczMzMxMM0CamZmZmRk0QM3MzMzMTDRAMzMzMzOzNEDNzMzMzEw3QA==",
          "dtype": "f8"
         },
         "textposition": "inside",
         "texttemplate": "%{text}%",
         "type": "bar",
         "x": [
          "Bronze",
          "Silver",
          "Gold",
          "Platinum",
          "Diamond"
         ],
         "xaxis": "x2",
         "y": {
          "bdata": "ahJvS89NM0BIyCE6GSM0QFhMYJzZRjRABMUgQ76yNEAXrAJlHVc3QA==",
          "dtype": "f8"
         },
         "yaxis": "y2"
        },
        {
         "legendgroup": "female-Diamond",
         "marker": {
          "color": "rgba(0, 71, 171, 0.8)"
         },
         "name": "Women: Diamond",
         "text": {
          "bdata": "zczMzMzMLUCamZmZmZkvQDMzMzMzszBAZmZmZmZmL0BmZmZmZmYwQA==",
          "dtype": "f8"
         },
         "textposition": "inside",
         "texttemplate": "%{text}%",
         "type": "bar",
         "x": [
          "Bronze",
          "Silver",
          "Gold",
          "Platinum",
          "Diamond"
         ],
         "xaxis": "x",
         "y": {
          "bdata": "c+hYG27MLUBii09Rq6QvQLRjc65HsjBAoJ+fYyRfL0ABVAAIrlowQA==",
          "dtype": "f8"
         },
         "yaxis": "y"
        },
        {
         "legendgroup": "female-Diamond",
         "marker": {
          "color": "rgba(0, 71, 171, 0.8)"
         },
         "name": "Women: Diamond",
         "showlegend": false,
         "text": {
          "bdata": "mpmZmZmZL0BmZmZmZuYwQAAAAAAAgDFAAAAAAAAAMUCamZmZmZkyQA==",
          "dtype": "f8"
         },
         "textposition": "inside",
         "texttemplate": "%{text}%",
         "type": "bar",
         "x": [
          "Bronze",
          "Silver",
          "Gold",
          "Platinum",
          "Diamond"
         ],
         "xaxis": "x2",
         "y": {
          "bdata": "cyIabNaZL0C5MbjtIfAwQCOa/PLjczFAmv9xMnL5MECiT/VriqMyQA==",
          "dtype": "f8"
         },
         "yaxis": "y2"
        }
       ],
       "layout": {
        "annotations": [
         {
          "font": {
           "size": 16
          },
          "showarrow": false,
          "text": "Men: Outbound Target Mix",
          "x": 0.225,
          "xanchor": "center",
          "xref": "paper",
          "y": 1,
          "yanchor": "bottom",
          "yref": "paper"
         },
         {
          "font": {
           "size": 16
          },
          "showarrow": false,
          "text": "Men: Match Distribution",
          "x": 0.775,
          "xanchor": "center",
          "xref": "paper",
          "y": 1,
          "yanchor": "bottom",
          "yref": "paper"
         }
        ],
        "barmode": "stack",
        "height": 550,
        "legend": {
         "title": {
          "text": "Female League"
         }
        },
        "template": {
         "data": {
          "bar": [
           {
            "error_x": {
             "color": "#2a3f5f"
            },
            "error_y": {
             "color": "#2a3f5f"
            },
            "marker": {
             "line": {
              "color": "#E5ECF6",
              "width": 0.5
             },
             "pattern": {
              "fillmode": "overlay",
              "size": 10,
              "solidity": 0.2
             }
            },
            "type": "bar"
           }
          ],
          "barpolar": [
           {
            "marker": {
             "line": {
              "color": "#E5ECF6",
              "width": 0.5
             },
             "pattern": {
              "fillmode": "overlay",
              "size": 10,
              "solidity": 0.2
             }
            },
            "type": "barpolar"
           }
          ],
          "carpet": [
           {
            "aaxis": {
             "endlinecolor": "#2a3f5f",
             "gridcolor": "white",
             "linecolor": "white",
             "minorgridcolor": "white",
             "startlinecolor": "#2a3f5f"
            },
            "baxis": {
             "endlinecolor": "#2a3f5f",
             "gridcolor": "white",
             "linecolor": "white",
             "minorgridcolor": "white",
             "startlinecolor": "#2a3f5f"
            },
            "type": "carpet"
           }
          ],
          "choropleth": [
           {
            "colorbar": {
             "outlinewidth": 0,
             "ticks": ""
            },
            "type": "choropleth"
           }
          ],
          "contour": [
           {
            "colorbar": {
             "outlinewidth": 0,
             "ticks": ""
            },
            "colorscale": [
             [
              0,
              "#0d0887"
             ],
             [
              0.1111111111111111,
              "#46039f"
             ],
             [
              0.2222222222222222,
              "#7201a8"
             ],
             [
              0.3333333333333333,
              "#9c179e"
             ],
             [
              0.4444444444444444,
              "#bd3786"
             ],
             [
              0.5555555555555556,
              "#d8576b"
             ],
             [
              0.6666666666666666,
              "#ed7953"
             ],
             [
              0.7777777777777778,
              "#fb9f3a"
             ],
             [
              0.8888888888888888,
              "#fdca26"
             ],
             [
              1,
              "#f0f921"
             ]
            ],
            "type": "contour"
           }
          ],
          "contourcarpet": [
           {
            "colorbar": {
             "outlinewidth": 0,
             "ticks": ""
            },
            "type": "contourcarpet"
           }
          ],
          "heatmap": [
           {
            "colorbar": {
             "outlinewidth": 0,
             "ticks": ""
            },
            "colorscale": [
             [
              0,
              "#0d0887"
             ],
             [
              0.1111111111111111,
              "#46039f"
             ],
             [
              0.2222222222222222,
              "#7201a8"
             ],
             [
              0.3333333333333333,
              "#9c179e"
             ],
             [
              0.4444444444444444,
              "#bd3786"
             ],
             [
              0.5555555555555556,
              "#d8576b"
             ],
             [
              0.6666666666666666,
              "#ed7953"
             ],
             [
              0.7777777777777778,
              "#fb9f3a"
             ],
             [
              0.8888888888888888,
              "#fdca26"
             ],
             [
              1,
              "#f0f921"
             ]
            ],
            "type": "heatmap"
           }
          ],
          "histogram": [
           {
            "marker": {
             "pattern": {
              "fillmode": "overlay",
              "size": 10,
              "solidity": 0.2
             }
            },
            "type": "histogram"
           }
          ],
          "histogram2d": [
           {
            "colorbar": {
             "outlinewidth": 0,
             "ticks": ""
            },
            "colorscale": [
             [
              0,
              "#0d0887"
             ],
             [
              0.1111111111111111,
              "#46039f"
             ],
             [
              0.2222222222222222,
              "#7201a8"
             ],
             [
              0.3333333333333333,
              "#9c179e"
             ],
             [
              0.4444444444444444,
              "#bd3786"
             ],
             [
              0.5555555555555556,
              "#d8576b"
             ],
             [
              0.6666666666666666,
              "#ed7953"
             ],
             [
              0.7777777777777778,
              "#fb9f3a"
             ],
             [
              0.8888888888888888,
              "#fdca26"
             ],
             [
              1,
              "#f0f921"
             ]
            ],
            "type": "histogram2d"
           }
          ],
          "histogram2dcontour": [
           {
            "colorbar": {
             "outlinewidth": 0,
             "ticks": ""
            },
            "colorscale": [
             [
              0,
              "#0d0887"
             ],
             [
              0.1111111111111111,
              "#46039f"
             ],
             [
              0.2222222222222222,
              "#7201a8"
             ],
             [
              0.3333333333333333,
              "#9c179e"
             ],
             [
              0.4444444444444444,
              "#bd3786"
             ],
             [
              0.5555555555555556,
              "#d8576b"
             ],
             [
              0.6666666666666666,
              "#ed7953"
             ],
             [
              0.7777777777777778,
              "#fb9f3a"
             ],
             [
              0.8888888888888888,
              "#fdca26"
             ],
             [
              1,
              "#f0f921"
             ]
            ],
            "type": "histogram2dcontour"
           }
          ],
          "mesh3d": [
           {
            "colorbar": {
             "outlinewidth": 0,
             "ticks": ""
            },
            "type": "mesh3d"
           }
          ],
          "parcoords": [
           {
            "line": {
             "colorbar": {
              "outlinewidth": 0,
              "ticks": ""
             }
            },
            "type": "parcoords"
           }
          ],
          "pie": [
           {
            "automargin": true,
            "type": "pie"
           }
          ],
          "scatter": [
           {
            "fillpattern": {
             "fillmode": "overlay",
             "size": 10,
             "solidity": 0.2
            },
            "type": "scatter"
           }
          ],
          "scatter3d": [
           {
            "line": {
             "colorbar": {
              "outlinewidth": 0,
              "ticks": ""
             }
            },
            "marker": {
             "colorbar": {
              "outlinewidth": 0,
              "ticks": ""
             }
            },
            "type": "scatter3d"
           }
          ],
          "scattercarpet": [
           {
            "marker": {
             "colorbar": {
              "outlinewidth": 0,
              "ticks": ""
             }
            },
            "type": "scattercarpet"
           }
          ],
          "scattergeo": [
           {
            "marker": {
             "colorbar": {
              "outlinewidth": 0,
              "ticks": ""
             }
            },
            "type": "scattergeo"
           }
          ],
          "scattergl": [
           {
            "marker": {
             "colorbar": {
              "outlinewidth": 0,
              "ticks": ""
             }
            },
            "type": "scattergl"
           }
          ],
          "scattermap": [
           {
            "marker": {
             "colorbar": {
              "outlinewidth": 0,
              "ticks": ""
             }
            },
            "type": "scattermap"
           }
          ],
          "scattermapbox": [
           {
            "marker": {
             "colorbar": {
              "outlinewidth": 0,
              "ticks": ""
             }
            },
            "type": "scattermapbox"
           }
          ],
          "scatterpolar": [
           {
            "marker": {
             "colorbar": {
              "outlinewidth": 0,
              "ticks": ""
             }
            },
            "type": "scatterpolar"
           }
          ],
          "scatterpolargl": [
           {
            "marker": {
             "colorbar": {
              "outlinewidth": 0,
              "ticks": ""
             }
            },
            "type": "scatterpolargl"
           }
          ],
          "scatterternary": [
           {
            "marker": {
             "colorbar": {
              "outlinewidth": 0,
              "ticks": ""
             }
            },
            "type": "scatterternary"
           }
          ],
          "surface": [
           {
            "colorbar": {
             "outlinewidth": 0,
             "ticks": ""
            },
            "colorscale": [
             [
              0,
              "#0d0887"
             ],
             [
              0.1111111111111111,
              "#46039f"
             ],
             [
              0.2222222222222222,
              "#7201a8"
             ],
             [
              0.3333333333333333,
              "#9c179e"
             ],
             [
              0.4444444444444444,
              "#bd3786"
             ],
             [
              0.5555555555555556,
              "#d8576b"
             ],
             [
              0.6666666666666666,
              "#ed7953"
             ],
             [
              0.7777777777777778,
              "#fb9f3a"
             ],
             [
              0.8888888888888888,
              "#fdca26"
             ],
             [
              1,
              "#f0f921"
             ]
            ],
            "type": "surface"
           }
          ],
          "table": [
           {
            "cells": {
             "fill": {
              "color": "#EBF0F8"
             },
             "line": {
              "color": "white"
             }
            },
            "header": {
             "fill": {
              "color": "#C8D4E3"
             },
             "line": {
              "color": "white"
             }
            },
            "type": "table"
           }
          ]
         },
         "layout": {
          "annotationdefaults": {
           "arrowcolor": "#2a3f5f",
           "arrowhead": 0,
           "arrowwidth": 1
          },
          "autotypenumbers": "strict",
          "coloraxis": {
           "colorbar": {
            "outlinewidth": 0,
            "ticks": ""
           }
          },
          "colorscale": {
           "diverging": [
            [
             0,
             "#8e0152"
            ],
            [
             0.1,
             "#c51b7d"
            ],
            [
             0.2,
             "#de77ae"
            ],
            [
             0.3,
             "#f1b6da"
            ],
            [
             0.4,
             "#fde0ef"
            ],
            [
             0.5,
             "#f7f7f7"
            ],
            [
             0.6,
             "#e6f5d0"
            ],
            [
             0.7,
             "#b8e186"
            ],
            [
             0.8,
             "#7fbc41"
            ],
            [
             0.9,
             "#4d9221"
            ],
            [
             1,
             "#276419"
            ]
           ],
           "sequential": [
            [
             0,
             "#0d0887"
            ],
            [
             0.1111111111111111,
             "#46039f"
            ],
            [
             0.2222222222222222,
             "#7201a8"
            ],
            [
             0.3333333333333333,
             "#9c179e"
            ],
            [
             0.4444444444444444,
             "#bd3786"
            ],
            [
             0.5555555555555556,
             "#d8576b"
            ],
            [
             0.6666666666666666,
             "#ed7953"
            ],
            [
             0.7777777777777778,
             "#fb9f3a"
            ],
            [
             0.8888888888888888,
             "#fdca26"
            ],
            [
             1,
             "#f0f921"
            ]
           ],
           "sequentialminus": [
            [
             0,
             "#0d0887"
            ],
            [
             0.1111111111111111,
             "#46039f"
            ],
            [
             0.2222222222222222,
             "#7201a8"
            ],
            [
             0.3333333333333333,
             "#9c179e"
            ],
            [
             0.4444444444444444,
             "#bd3786"
            ],
            [
             0.5555555555555556,
             "#d8576b"
            ],
            [
             0.6666666666666666,
             "#ed7953"
            ],
            [
             0.7777777777777778,
             "#fb9f3a"
            ],
            [
             0.8888888888888888,
             "#fdca26"
            ],
            [
             1,
             "#f0f921"
            ]
           ]
          },
          "colorway": [
           "#636efa",
           "#EF553B",
           "#00cc96",
           "#ab63fa",
           "#FFA15A",
           "#19d3f3",
           "#FF6692",
           "#B6E880",
           "#FF97FF",
           "#FECB52"
          ],
          "font": {
           "color": "#2a3f5f"
          },
          "geo": {
           "bgcolor": "white",
           "lakecolor": "white",
           "landcolor": "#E5ECF6",
           "showlakes": true,
           "showland": true,
           "subunitcolor": "white"
          },
          "hoverlabel": {
           "align": "left"
          },
          "hovermode": "closest",
          "mapbox": {
           "style": "light"
          },
          "paper_bgcolor": "white",
          "plot_bgcolor": "#E5ECF6",
          "polar": {
           "angularaxis": {
            "gridcolor": "white",
            "linecolor": "white",
            "ticks": ""
           },
           "bgcolor": "#E5ECF6",
           "radialaxis": {
            "gridcolor": "white",
            "linecolor": "white",
            "ticks": ""
           }
          },
          "scene": {
           "xaxis": {
            "backgroundcolor": "#E5ECF6",
            "gridcolor": "white",
            "gridwidth": 2,
            "linecolor": "white",
            "showbackground": true,
            "ticks": "",
            "zerolinecolor": "white"
           },
           "yaxis": {
            "backgroundcolor": "#E5ECF6",
            "gridcolor": "white",
            "gridwidth": 2,
            "linecolor": "white",
            "showbackground": true,
            "ticks": "",
            "zerolinecolor": "white"
           },
           "zaxis": {
            "backgroundcolor": "#E5ECF6",
            "gridcolor": "white",
            "gridwidth": 2,
            "linecolor": "white",
            "showbackground": true,
            "ticks": "",
            "zerolinecolor": "white"
           }
          },
          "shapedefaults": {
           "line": {
            "color": "#2a3f5f"
           }
          },
          "ternary": {
           "aaxis": {
            "gridcolor": "white",
            "linecolor": "white",
            "ticks": ""
           },
           "baxis": {
            "gridcolor": "white",
            "linecolor": "white",
            "ticks": ""
           },
           "bgcolor": "#E5ECF6",
           "caxis": {
            "gridcolor": "white",
            "linecolor": "white",
            "ticks": ""
           }
          },
          "title": {
           "x": 0.05
          },
          "xaxis": {
           "automargin": true,
           "gridcolor": "white",
           "linecolor": "white",
           "ticks": "",
           "title": {
            "standoff": 15
           },
           "zerolinecolor": "white",
           "zerolinewidth": 2
          },
          "yaxis": {
           "automargin": true,
           "gridcolor": "white",
           "linecolor": "white",
           "ticks": "",
           "title": {
            "standoff": 15
           },
           "zerolinecolor": "white",
           "zerolinewidth": 2
          }
         }
        },
        "title": {
         "text": "Men: Outbound vs Matches by League",
         "x": 0.5,
         "xanchor": "center"
        },
        "width": 1100,
        "xaxis": {
         "anchor": "y",
         "domain": [
          0,
          0.45
         ],
         "title": {
          "text": "Male League"
         }
        },
        "xaxis2": {
         "anchor": "y2",
         "domain": [
          0.55,
          1
         ],
         "title": {
          "text": "Male League"
         }
        },
        "yaxis": {
         "anchor": "x",
         "domain": [
          0,
          1
         ],
         "title": {
          "text": "Percentage (%)"
         }
        },
        "yaxis2": {
         "anchor": "x2",
         "domain": [
          0,
          1
         ],
         "title": {
          "text": "Percentage (%)"
         }
        }
       }
      }
     },
     "metadata": {},
     "output_type": "display_data"
    }
   ],
   "source": [
    "# Build outbound target mix matrices for women and men using GPU-safe normalization\n",
    "\n",
    "# Women outbound mix\n",
    "outbound_counts_w = likes_f_to_m.groupby(['decider_league','other_league']).size().reset_index(name='cnt')\n",
    "outbound_pivot_w = outbound_counts_w.pivot(index='decider_league', columns='other_league', values='cnt').fillna(0)\n",
    "row_sums_w = outbound_pivot_w.sum(axis=1).replace(0, 1)\n",
    "outbound_pct_w = (outbound_pivot_w.T.divide(row_sums_w, axis=1).T * 100).to_pandas().reindex(index=league_order, columns=league_order, fill_value=0)\n",
    "\n",
    "# Men outbound mix\n",
    "likes_m_to_f_out = likes_m_to_f  # already filtered male -> female likes\n",
    "outbound_counts_m = likes_m_to_f_out.groupby(['decider_league','other_league']).size().reset_index(name='cnt')\n",
    "outbound_pivot_m = outbound_counts_m.pivot(index='decider_league', columns='other_league', values='cnt').fillna(0)\n",
    "row_sums_m = outbound_pivot_m.sum(axis=1).replace(0, 1)\n",
    "outbound_pct_m = (outbound_pivot_m.T.divide(row_sums_m, axis=1).T * 100).to_pandas().reindex(index=league_order, columns=league_order, fill_value=0)\n",
    "\n",
    "# Create side-by-side stacked bar charts comparing outbound vs matches\n",
    "from plotly.subplots import make_subplots\n",
    "import plotly.graph_objects as go\n",
    "\n",
    "# Women: outbound (left) vs match distribution (right) - colored by male league\n",
    "fig_w_compare = make_subplots(rows=1, cols=2, subplot_titles=(\n",
    "    \"Women: Outbound Target Mix\", \"Women: Match Distribution\"\n",
    "))\n",
    "\n",
    "for m_league in league_order:\n",
    "    color = league_colors[m_league]\n",
    "    fig_w_compare.add_trace(\n",
    "        go.Bar(name=f\"Men: {m_league}\", x=league_order, y=outbound_pct_w[m_league],\n",
    "               marker_color=color, legendgroup=f\"male-{m_league}\",\n",
    "               text=outbound_pct_w[m_league].round(1), texttemplate='%{text}%', textposition='inside'),\n",
    "        row=1, col=1\n",
    "    )\n",
    "    fig_w_compare.add_trace(\n",
    "        go.Bar(name=f\"Men: {m_league}\", x=league_order, y=women_match_pct[m_league],\n",
    "               marker_color=color, legendgroup=f\"male-{m_league}\", showlegend=False,\n",
    "               text=women_match_pct[m_league].round(1), texttemplate='%{text}%', textposition='inside'),\n",
    "        row=1, col=2\n",
    "    )\n",
    "\n",
    "fig_w_compare.update_layout(barmode='stack', width=1100, height=550,\n",
    "    title={\n",
    "        'text': \"Women: Outbound vs Matches by League\",\n",
    "        'x': 0.5,\n",
    "        'xanchor': 'center'\n",
    "    }, legend_title=\"Male League\")\n",
    "fig_w_compare.update_xaxes(title_text=\"Female League\", row=1, col=1)\n",
    "fig_w_compare.update_xaxes(title_text=\"Female League\", row=1, col=2)\n",
    "fig_w_compare.update_yaxes(title_text=\"Percentage (%)\", row=1, col=1)\n",
    "fig_w_compare.update_yaxes(title_text=\"Percentage (%)\", row=1, col=2)\n",
    "fig_w_compare.show()\n",
    "\n",
    "# Men: outbound (left) vs match distribution (right) - colored by female league\n",
    "fig_m_compare = make_subplots(rows=1, cols=2, subplot_titles=(\n",
    "    \"Men: Outbound Target Mix\", \"Men: Match Distribution\"\n",
    "))\n",
    "\n",
    "for f_league in league_order:\n",
    "    color = league_colors[f_league]\n",
    "    fig_m_compare.add_trace(\n",
    "        go.Bar(name=f\"Women: {f_league}\", x=league_order, y=outbound_pct_m[f_league],\n",
    "               marker_color=color, legendgroup=f\"female-{f_league}\",\n",
    "               text=outbound_pct_m[f_league].round(1), texttemplate='%{text}%', textposition='inside'),\n",
    "        row=1, col=1\n",
    "    )\n",
    "    fig_m_compare.add_trace(\n",
    "        go.Bar(name=f\"Women: {f_league}\", x=league_order, y=men_match_pct[f_league],\n",
    "               marker_color=color, legendgroup=f\"female-{f_league}\", showlegend=False,\n",
    "               text=men_match_pct[f_league].round(1), texttemplate='%{text}%', textposition='inside'),\n",
    "        row=1, col=2\n",
    "    )\n",
    "\n",
    "fig_m_compare.update_layout(barmode='stack', width=1100, height=550,\n",
    "    title={\n",
    "        'text': \"Men: Outbound vs Matches by League\",\n",
    "        'x': 0.5,\n",
    "        'xanchor': 'center'\n",
    "    }, legend_title=\"Female League\")\n",
    "fig_m_compare.update_xaxes(title_text=\"Male League\", row=1, col=1)\n",
    "fig_m_compare.update_xaxes(title_text=\"Male League\", row=1, col=2)\n",
    "fig_m_compare.update_yaxes(title_text=\"Percentage (%)\", row=1, col=1)\n",
    "fig_m_compare.update_yaxes(title_text=\"Percentage (%)\", row=1, col=2)\n",
    "fig_m_compare.show()"
   ]
  },
  {
   "cell_type": "code",
   "execution_count": 16,
   "id": "6c10ab6d",
   "metadata": {},
   "outputs": [
    {
     "data": {
      "application/vnd.plotly.v1+json": {
       "config": {
        "plotlyServerURL": "https://plot.ly"
       },
       "data": [
        {
         "marker": {
          "color": [
           "rgba(205, 127, 50, 0.8)",
           "rgba(192, 192, 192, 0.8)",
           "rgba(255, 215, 0, 0.8)",
           "rgba(135, 206, 250, 0.8)",
           "rgba(0, 71, 171, 0.8)"
          ]
         },
         "name": "Women",
         "showlegend": false,
         "text": {
          "bdata": "AAAAAACAMECamZmZmZkyQGZmZmZmZixAZmZmZmZmJUBmZmZmZmYYQA==",
          "dtype": "f8"
         },
         "textposition": "outside",
         "texttemplate": "%{text}%",
         "type": "bar",
         "x": [
          "Bronze",
          "Silver",
          "Gold",
          "Platinum",
          "Diamond"
         ],
         "xaxis": "x",
         "y": {
          "bdata": "QpdSg3mAMECLhTq9YqEyQOzETuzETixAvV8Pelx5JUD7CO4juI8YQA==",
          "dtype": "f8"
         },
         "yaxis": "y"
        },
        {
         "marker": {
          "color": [
           "rgba(205, 127, 50, 0.8)",
           "rgba(192, 192, 192, 0.8)",
           "rgba(255, 215, 0, 0.8)",
           "rgba(135, 206, 250, 0.8)",
           "rgba(0, 71, 171, 0.8)"
          ]
         },
         "name": "Men",
         "showlegend": false,
         "text": {
          "bdata": "AAAAAABAVUAAAAAAAIBOQAAAAAAAQEdAmpmZmZlZQECamZmZmRkyQA==",
          "dtype": "f8"
         },
         "textposition": "outside",
         "texttemplate": "%{text}%",
         "type": "bar",
         "x": [
          "Bronze",
          "Silver",
          "Gold",
          "Platinum",
          "Diamond"
         ],
         "xaxis": "x2",
         "y": {
          "bdata": "ba3IyZxCVUBvdzhpZntOQEpehA3OPkdAFZcMwTpaQEB6lcUZ7R4yQA==",
          "dtype": "f8"
         },
         "yaxis": "y2"
        }
       ],
       "layout": {
        "annotations": [
         {
          "font": {
           "size": 16
          },
          "showarrow": false,
          "text": "Women: % With No Matches",
          "x": 0.225,
          "xanchor": "center",
          "xref": "paper",
          "y": 1,
          "yanchor": "bottom",
          "yref": "paper"
         },
         {
          "font": {
           "size": 16
          },
          "showarrow": false,
          "text": "Men: % With No Matches",
          "x": 0.775,
          "xanchor": "center",
          "xref": "paper",
          "y": 1,
          "yanchor": "bottom",
          "yref": "paper"
         }
        ],
        "height": 500,
        "showlegend": false,
        "template": {
         "data": {
          "bar": [
           {
            "error_x": {
             "color": "#2a3f5f"
            },
            "error_y": {
             "color": "#2a3f5f"
            },
            "marker": {
             "line": {
              "color": "#E5ECF6",
              "width": 0.5
             },
             "pattern": {
              "fillmode": "overlay",
              "size": 10,
              "solidity": 0.2
             }
            },
            "type": "bar"
           }
          ],
          "barpolar": [
           {
            "marker": {
             "line": {
              "color": "#E5ECF6",
              "width": 0.5
             },
             "pattern": {
              "fillmode": "overlay",
              "size": 10,
              "solidity": 0.2
             }
            },
            "type": "barpolar"
           }
          ],
          "carpet": [
           {
            "aaxis": {
             "endlinecolor": "#2a3f5f",
             "gridcolor": "white",
             "linecolor": "white",
             "minorgridcolor": "white",
             "startlinecolor": "#2a3f5f"
            },
            "baxis": {
             "endlinecolor": "#2a3f5f",
             "gridcolor": "white",
             "linecolor": "white",
             "minorgridcolor": "white",
             "startlinecolor": "#2a3f5f"
            },
            "type": "carpet"
           }
          ],
          "choropleth": [
           {
            "colorbar": {
             "outlinewidth": 0,
             "ticks": ""
            },
            "type": "choropleth"
           }
          ],
          "contour": [
           {
            "colorbar": {
             "outlinewidth": 0,
             "ticks": ""
            },
            "colorscale": [
             [
              0,
              "#0d0887"
             ],
             [
              0.1111111111111111,
              "#46039f"
             ],
             [
              0.2222222222222222,
              "#7201a8"
             ],
             [
              0.3333333333333333,
              "#9c179e"
             ],
             [
              0.4444444444444444,
              "#bd3786"
             ],
             [
              0.5555555555555556,
              "#d8576b"
             ],
             [
              0.6666666666666666,
              "#ed7953"
             ],
             [
              0.7777777777777778,
              "#fb9f3a"
             ],
             [
              0.8888888888888888,
              "#fdca26"
             ],
             [
              1,
              "#f0f921"
             ]
            ],
            "type": "contour"
           }
          ],
          "contourcarpet": [
           {
            "colorbar": {
             "outlinewidth": 0,
             "ticks": ""
            },
            "type": "contourcarpet"
           }
          ],
          "heatmap": [
           {
            "colorbar": {
             "outlinewidth": 0,
             "ticks": ""
            },
            "colorscale": [
             [
              0,
              "#0d0887"
             ],
             [
              0.1111111111111111,
              "#46039f"
             ],
             [
              0.2222222222222222,
              "#7201a8"
             ],
             [
              0.3333333333333333,
              "#9c179e"
             ],
             [
              0.4444444444444444,
              "#bd3786"
             ],
             [
              0.5555555555555556,
              "#d8576b"
             ],
             [
              0.6666666666666666,
              "#ed7953"
             ],
             [
              0.7777777777777778,
              "#fb9f3a"
             ],
             [
              0.8888888888888888,
              "#fdca26"
             ],
             [
              1,
              "#f0f921"
             ]
            ],
            "type": "heatmap"
           }
          ],
          "histogram": [
           {
            "marker": {
             "pattern": {
              "fillmode": "overlay",
              "size": 10,
              "solidity": 0.2
             }
            },
            "type": "histogram"
           }
          ],
          "histogram2d": [
           {
            "colorbar": {
             "outlinewidth": 0,
             "ticks": ""
            },
            "colorscale": [
             [
              0,
              "#0d0887"
             ],
             [
              0.1111111111111111,
              "#46039f"
             ],
             [
              0.2222222222222222,
              "#7201a8"
             ],
             [
              0.3333333333333333,
              "#9c179e"
             ],
             [
              0.4444444444444444,
              "#bd3786"
             ],
             [
              0.5555555555555556,
              "#d8576b"
             ],
             [
              0.6666666666666666,
              "#ed7953"
             ],
             [
              0.7777777777777778,
              "#fb9f3a"
             ],
             [
              0.8888888888888888,
              "#fdca26"
             ],
             [
              1,
              "#f0f921"
             ]
            ],
            "type": "histogram2d"
           }
          ],
          "histogram2dcontour": [
           {
            "colorbar": {
             "outlinewidth": 0,
             "ticks": ""
            },
            "colorscale": [
             [
              0,
              "#0d0887"
             ],
             [
              0.1111111111111111,
              "#46039f"
             ],
             [
              0.2222222222222222,
              "#7201a8"
             ],
             [
              0.3333333333333333,
              "#9c179e"
             ],
             [
              0.4444444444444444,
              "#bd3786"
             ],
             [
              0.5555555555555556,
              "#d8576b"
             ],
             [
              0.6666666666666666,
              "#ed7953"
             ],
             [
              0.7777777777777778,
              "#fb9f3a"
             ],
             [
              0.8888888888888888,
              "#fdca26"
             ],
             [
              1,
              "#f0f921"
             ]
            ],
            "type": "histogram2dcontour"
           }
          ],
          "mesh3d": [
           {
            "colorbar": {
             "outlinewidth": 0,
             "ticks": ""
            },
            "type": "mesh3d"
           }
          ],
          "parcoords": [
           {
            "line": {
             "colorbar": {
              "outlinewidth": 0,
              "ticks": ""
             }
            },
            "type": "parcoords"
           }
          ],
          "pie": [
           {
            "automargin": true,
            "type": "pie"
           }
          ],
          "scatter": [
           {
            "fillpattern": {
             "fillmode": "overlay",
             "size": 10,
             "solidity": 0.2
            },
            "type": "scatter"
           }
          ],
          "scatter3d": [
           {
            "line": {
             "colorbar": {
              "outlinewidth": 0,
              "ticks": ""
             }
            },
            "marker": {
             "colorbar": {
              "outlinewidth": 0,
              "ticks": ""
             }
            },
            "type": "scatter3d"
           }
          ],
          "scattercarpet": [
           {
            "marker": {
             "colorbar": {
              "outlinewidth": 0,
              "ticks": ""
             }
            },
            "type": "scattercarpet"
           }
          ],
          "scattergeo": [
           {
            "marker": {
             "colorbar": {
              "outlinewidth": 0,
              "ticks": ""
             }
            },
            "type": "scattergeo"
           }
          ],
          "scattergl": [
           {
            "marker": {
             "colorbar": {
              "outlinewidth": 0,
              "ticks": ""
             }
            },
            "type": "scattergl"
           }
          ],
          "scattermap": [
           {
            "marker": {
             "colorbar": {
              "outlinewidth": 0,
              "ticks": ""
             }
            },
            "type": "scattermap"
           }
          ],
          "scattermapbox": [
           {
            "marker": {
             "colorbar": {
              "outlinewidth": 0,
              "ticks": ""
             }
            },
            "type": "scattermapbox"
           }
          ],
          "scatterpolar": [
           {
            "marker": {
             "colorbar": {
              "outlinewidth": 0,
              "ticks": ""
             }
            },
            "type": "scatterpolar"
           }
          ],
          "scatterpolargl": [
           {
            "marker": {
             "colorbar": {
              "outlinewidth": 0,
              "ticks": ""
             }
            },
            "type": "scatterpolargl"
           }
          ],
          "scatterternary": [
           {
            "marker": {
             "colorbar": {
              "outlinewidth": 0,
              "ticks": ""
             }
            },
            "type": "scatterternary"
           }
          ],
          "surface": [
           {
            "colorbar": {
             "outlinewidth": 0,
             "ticks": ""
            },
            "colorscale": [
             [
              0,
              "#0d0887"
             ],
             [
              0.1111111111111111,
              "#46039f"
             ],
             [
              0.2222222222222222,
              "#7201a8"
             ],
             [
              0.3333333333333333,
              "#9c179e"
             ],
             [
              0.4444444444444444,
              "#bd3786"
             ],
             [
              0.5555555555555556,
              "#d8576b"
             ],
             [
              0.6666666666666666,
              "#ed7953"
             ],
             [
              0.7777777777777778,
              "#fb9f3a"
             ],
             [
              0.8888888888888888,
              "#fdca26"
             ],
             [
              1,
              "#f0f921"
             ]
            ],
            "type": "surface"
           }
          ],
          "table": [
           {
            "cells": {
             "fill": {
              "color": "#EBF0F8"
             },
             "line": {
              "color": "white"
             }
            },
            "header": {
             "fill": {
              "color": "#C8D4E3"
             },
             "line": {
              "color": "white"
             }
            },
            "type": "table"
           }
          ]
         },
         "layout": {
          "annotationdefaults": {
           "arrowcolor": "#2a3f5f",
           "arrowhead": 0,
           "arrowwidth": 1
          },
          "autotypenumbers": "strict",
          "coloraxis": {
           "colorbar": {
            "outlinewidth": 0,
            "ticks": ""
           }
          },
          "colorscale": {
           "diverging": [
            [
             0,
             "#8e0152"
            ],
            [
             0.1,
             "#c51b7d"
            ],
            [
             0.2,
             "#de77ae"
            ],
            [
             0.3,
             "#f1b6da"
            ],
            [
             0.4,
             "#fde0ef"
            ],
            [
             0.5,
             "#f7f7f7"
            ],
            [
             0.6,
             "#e6f5d0"
            ],
            [
             0.7,
             "#b8e186"
            ],
            [
             0.8,
             "#7fbc41"
            ],
            [
             0.9,
             "#4d9221"
            ],
            [
             1,
             "#276419"
            ]
           ],
           "sequential": [
            [
             0,
             "#0d0887"
            ],
            [
             0.1111111111111111,
             "#46039f"
            ],
            [
             0.2222222222222222,
             "#7201a8"
            ],
            [
             0.3333333333333333,
             "#9c179e"
            ],
            [
             0.4444444444444444,
             "#bd3786"
            ],
            [
             0.5555555555555556,
             "#d8576b"
            ],
            [
             0.6666666666666666,
             "#ed7953"
            ],
            [
             0.7777777777777778,
             "#fb9f3a"
            ],
            [
             0.8888888888888888,
             "#fdca26"
            ],
            [
             1,
             "#f0f921"
            ]
           ],
           "sequentialminus": [
            [
             0,
             "#0d0887"
            ],
            [
             0.1111111111111111,
             "#46039f"
            ],
            [
             0.2222222222222222,
             "#7201a8"
            ],
            [
             0.3333333333333333,
             "#9c179e"
            ],
            [
             0.4444444444444444,
             "#bd3786"
            ],
            [
             0.5555555555555556,
             "#d8576b"
            ],
            [
             0.6666666666666666,
             "#ed7953"
            ],
            [
             0.7777777777777778,
             "#fb9f3a"
            ],
            [
             0.8888888888888888,
             "#fdca26"
            ],
            [
             1,
             "#f0f921"
            ]
           ]
          },
          "colorway": [
           "#636efa",
           "#EF553B",
           "#00cc96",
           "#ab63fa",
           "#FFA15A",
           "#19d3f3",
           "#FF6692",
           "#B6E880",
           "#FF97FF",
           "#FECB52"
          ],
          "font": {
           "color": "#2a3f5f"
          },
          "geo": {
           "bgcolor": "white",
           "lakecolor": "white",
           "landcolor": "#E5ECF6",
           "showlakes": true,
           "showland": true,
           "subunitcolor": "white"
          },
          "hoverlabel": {
           "align": "left"
          },
          "hovermode": "closest",
          "mapbox": {
           "style": "light"
          },
          "paper_bgcolor": "white",
          "plot_bgcolor": "#E5ECF6",
          "polar": {
           "angularaxis": {
            "gridcolor": "white",
            "linecolor": "white",
            "ticks": ""
           },
           "bgcolor": "#E5ECF6",
           "radialaxis": {
            "gridcolor": "white",
            "linecolor": "white",
            "ticks": ""
           }
          },
          "scene": {
           "xaxis": {
            "backgroundcolor": "#E5ECF6",
            "gridcolor": "white",
            "gridwidth": 2,
            "linecolor": "white",
            "showbackground": true,
            "ticks": "",
            "zerolinecolor": "white"
           },
           "yaxis": {
            "backgroundcolor": "#E5ECF6",
            "gridcolor": "white",
            "gridwidth": 2,
            "linecolor": "white",
            "showbackground": true,
            "ticks": "",
            "zerolinecolor": "white"
           },
           "zaxis": {
            "backgroundcolor": "#E5ECF6",
            "gridcolor": "white",
            "gridwidth": 2,
            "linecolor": "white",
            "showbackground": true,
            "ticks": "",
            "zerolinecolor": "white"
           }
          },
          "shapedefaults": {
           "line": {
            "color": "#2a3f5f"
           }
          },
          "ternary": {
           "aaxis": {
            "gridcolor": "white",
            "linecolor": "white",
            "ticks": ""
           },
           "baxis": {
            "gridcolor": "white",
            "linecolor": "white",
            "ticks": ""
           },
           "bgcolor": "#E5ECF6",
           "caxis": {
            "gridcolor": "white",
            "linecolor": "white",
            "ticks": ""
           }
          },
          "title": {
           "x": 0.05
          },
          "xaxis": {
           "automargin": true,
           "gridcolor": "white",
           "linecolor": "white",
           "ticks": "",
           "title": {
            "standoff": 15
           },
           "zerolinecolor": "white",
           "zerolinewidth": 2
          },
          "yaxis": {
           "automargin": true,
           "gridcolor": "white",
           "linecolor": "white",
           "ticks": "",
           "title": {
            "standoff": 15
           },
           "zerolinecolor": "white",
           "zerolinewidth": 2
          }
         }
        },
        "title": {
         "text": "Users With No Reciprocal Matches by League<br><sub>Percentage of users (with ≥5 likes) in each league who received zero matches</sub>",
         "x": 0.5,
         "xanchor": "center"
        },
        "width": 1000,
        "xaxis": {
         "anchor": "y",
         "domain": [
          0,
          0.45
         ],
         "title": {
          "text": "League"
         }
        },
        "xaxis2": {
         "anchor": "y2",
         "domain": [
          0.55,
          1
         ],
         "title": {
          "text": "League"
         }
        },
        "yaxis": {
         "anchor": "x",
         "domain": [
          0,
          1
         ],
         "range": [
          0,
          97.79694253241556
         ],
         "title": {
          "text": "% With No Matches"
         }
        },
        "yaxis2": {
         "anchor": "x2",
         "domain": [
          0,
          1
         ],
         "range": [
          0,
          97.79694253241556
         ],
         "title": {
          "text": "% With No Matches"
         }
        }
       }
      }
     },
     "metadata": {},
     "output_type": "display_data"
    },
    {
     "name": "stdout",
     "output_type": "stream",
     "text": [
      "================================================================================\n",
      "USERS WITH NO MATCHES BY LEAGUE (Users with at least 5 likes)\n",
      "================================================================================\n",
      "\n",
      "WOMEN:\n",
      "  League  Total Users  With Matches  No Matches  No Match %\n",
      "  Bronze         1618          1351         267   16.501854\n",
      "  Silver          993           808         185   18.630413\n",
      "    Gold          975           837         138   14.153846\n",
      "Platinum         1099           981         118   10.737034\n",
      " Diamond          684           642          42    6.140351\n",
      "\n",
      "MEN:\n",
      "  League  Total Users  With Matches  No Matches  No Match %\n",
      "  Bronze        12494          1869       10625   85.040820\n",
      "  Silver         4647          1814        2833   60.964063\n",
      "    Gold         3106          1662        1444   46.490663\n",
      "Platinum         3660          2463        1197   32.704918\n",
      " Diamond         3129          2562         567   18.120805\n",
      "\n",
      "================================================================================\n"
     ]
    }
   ],
   "source": [
    "# Calculate proportion of users with no matches by league and gender\n",
    "# Only include users who have made at least 5 likes\n",
    "\n",
    "# Get all users with league info who have made at least 5 likes\n",
    "users_with_leagues = user_info_gdf.merge(\n",
    "  user_gdf[['user_id', 'total_likes']],\n",
    "  on='user_id',\n",
    "  how='inner'\n",
    ").to_pandas()\n",
    "\n",
    "# Filter for users with at least 5 likes\n",
    "users_with_leagues = users_with_leagues[users_with_leagues['total_likes'] >= 5]\n",
    "\n",
    "# Get users who have at least one match\n",
    "users_with_matches_raw = cudf.concat([\n",
    "  matches_gdf[['user1', 'gender1', 'league1']].rename(columns={'user1': 'user_id', 'gender1': 'gender', 'league1': 'league'}),\n",
    "  matches_gdf[['user2', 'gender2', 'league2']].rename(columns={'user2': 'user_id', 'gender2': 'gender', 'league2': 'league'})\n",
    "]).drop_duplicates(subset=['user_id']).to_pandas()\n",
    "\n",
    "# Filter to only include users who have at least 5 likes\n",
    "users_with_matches = users_with_matches_raw[users_with_matches_raw['user_id'].isin(users_with_leagues['user_id'])]\n",
    "\n",
    "# Calculate no-match statistics\n",
    "no_match_stats = []\n",
    "\n",
    "for gender in ['F', 'M']:\n",
    "  for league in league_order:\n",
    "    # Total users in this league and gender (with at least 5 likes)\n",
    "    total = len(users_with_leagues[(users_with_leagues['league'] == league) & (users_with_leagues['gender'] == gender)])\n",
    "    \n",
    "    # Users with at least one match\n",
    "    with_match = len(users_with_matches[(users_with_matches['league'] == league) & (users_with_matches['gender'] == gender)])\n",
    "    \n",
    "    # Users with no matches\n",
    "    no_match = total - with_match\n",
    "    no_match_pct = (no_match / total * 100) if total > 0 else 0\n",
    "    \n",
    "    no_match_stats.append({\n",
    "      'Gender': 'Women' if gender == 'F' else 'Men',\n",
    "      'League': league,\n",
    "      'Total Users': total,\n",
    "      'With Matches': with_match,\n",
    "      'No Matches': no_match,\n",
    "      'No Match %': no_match_pct\n",
    "    })\n",
    "\n",
    "no_match_df = pd.DataFrame(no_match_stats)\n",
    "\n",
    "# Create visualization with league colors\n",
    "fig_no_match = make_subplots(\n",
    "  rows=1, cols=2,\n",
    "  subplot_titles=('Women: % With No Matches', 'Men: % With No Matches'),\n",
    "  specs=[[{'type': 'bar'}, {'type': 'bar'}]]\n",
    ")\n",
    "\n",
    "women_data = no_match_df[no_match_df['Gender'] == 'Women']\n",
    "men_data = no_match_df[no_match_df['Gender'] == 'Men']\n",
    "\n",
    "# Determine the maximum y value across both datasets for consistent scaling\n",
    "max_y = max(women_data['No Match %'].max(), men_data['No Match %'].max())\n",
    "y_range = [0, max_y * 1.15]  # Add 15% padding for text labels\n",
    "\n",
    "# Women's bars - colored by league\n",
    "women_colors = [league_colors[league] for league in women_data['League']]\n",
    "fig_no_match.add_trace(\n",
    "  go.Bar(\n",
    "    x=women_data['League'],\n",
    "    y=women_data['No Match %'],\n",
    "    text=women_data['No Match %'].round(1),\n",
    "    texttemplate='%{text}%',\n",
    "    textposition='outside',\n",
    "    marker_color=women_colors,\n",
    "    showlegend=False,\n",
    "    name='Women'\n",
    "  ),\n",
    "  row=1, col=1\n",
    ")\n",
    "\n",
    "# Men's bars - colored by league\n",
    "men_colors = [league_colors[league] for league in men_data['League']]\n",
    "fig_no_match.add_trace(\n",
    "  go.Bar(\n",
    "    x=men_data['League'],\n",
    "    y=men_data['No Match %'],\n",
    "    text=men_data['No Match %'].round(1),\n",
    "    texttemplate='%{text}%',\n",
    "    textposition='outside',\n",
    "    marker_color=men_colors,\n",
    "    showlegend=False,\n",
    "    name='Men'\n",
    "  ),\n",
    "  row=1, col=2\n",
    ")\n",
    "\n",
    "fig_no_match.update_xaxes(title_text=\"League\", row=1, col=1)\n",
    "fig_no_match.update_xaxes(title_text=\"League\", row=1, col=2)\n",
    "fig_no_match.update_yaxes(title_text=\"% With No Matches\", range=y_range, row=1, col=1)\n",
    "fig_no_match.update_yaxes(title_text=\"% With No Matches\", range=y_range, row=1, col=2)\n",
    "\n",
    "fig_no_match.update_layout(\n",
    "  title={\n",
    "    'text': 'Users With No Reciprocal Matches by League<br><sub>Percentage of users (with ≥5 likes) in each league who received zero matches</sub>',\n",
    "    'x': 0.5,\n",
    "    'xanchor': 'center'\n",
    "  },\n",
    "  showlegend=False,\n",
    "  height=500,\n",
    "  width=1000\n",
    ")\n",
    "\n",
    "fig_no_match.show()\n",
    "\n",
    "# Print detailed statistics\n",
    "print(\"=\" * 80)\n",
    "print(\"USERS WITH NO MATCHES BY LEAGUE (Users with at least 5 likes)\")\n",
    "print(\"=\" * 80)\n",
    "print(\"\\nWOMEN:\")\n",
    "print(women_data[['League', 'Total Users', 'With Matches', 'No Matches', 'No Match %']].to_string(index=False))\n",
    "print(\"\\nMEN:\")\n",
    "print(men_data[['League', 'Total Users', 'With Matches', 'No Matches', 'No Match %']].to_string(index=False))\n",
    "print(\"\\n\" + \"=\" * 80)"
   ]
  },
  {
   "cell_type": "markdown",
   "id": "4c82e6fb",
   "metadata": {},
   "source": [
    "### League Preference Analysis"
   ]
  },
  {
   "cell_type": "code",
   "execution_count": 17,
   "id": "68f7b98f",
   "metadata": {},
   "outputs": [
    {
     "name": "stdout",
     "output_type": "stream",
     "text": [
      "Women's match direction:\n",
      "     league  Same League  Dating Up  Dating Down\n",
      "0    Bronze         16.7       83.3          0.0\n",
      "1    Silver         12.2       72.5         15.3\n",
      "2      Gold         11.7       63.7         24.6\n",
      "3  Platinum         20.9       43.8         35.3\n",
      "4   Diamond         42.8        0.0         57.2\n",
      "\n",
      "Men's match direction:\n",
      "     league  Same League  Dating Up  Dating Down\n",
      "0    Bronze         32.9       67.1          0.0\n",
      "1    Silver         15.6       53.8         30.6\n",
      "2      Gold         17.2       37.7         45.1\n",
      "3  Platinum         20.7       17.0         62.3\n",
      "4   Diamond         18.6        0.0         81.4\n"
     ]
    }
   ],
   "source": [
    "# Calculate \"dating up/down\" statistics using cudf for performance\n",
    "# For each league, what % of matches are with same league, higher league, or lower league?\n",
    "\n",
    "def calculate_league_direction_cudf(gdf, user_league_col, partner_league_col):\n",
    "    \"\"\"Calculate whether matches are same league, up, or down using cudf.\"\"\"\n",
    "    league_rank = {league: i for i, league in enumerate(league_order)}\n",
    "    \n",
    "    # Add rank columns\n",
    "    gdf['user_rank'] = gdf[user_league_col].map(league_rank)\n",
    "    gdf['partner_rank'] = gdf[partner_league_col].map(league_rank)\n",
    "    \n",
    "    results = []\n",
    "    for user_league in league_order:\n",
    "        subset = gdf[gdf[user_league_col] == user_league]\n",
    "        if len(subset) == 0:\n",
    "            continue\n",
    "            \n",
    "        same = len(subset[subset['user_rank'] == subset['partner_rank']])\n",
    "        up = len(subset[subset['partner_rank'] > subset['user_rank']])\n",
    "        down = len(subset[subset['partner_rank'] < subset['user_rank']])\n",
    "        total = len(subset)\n",
    "        \n",
    "        results.append({\n",
    "            'league': user_league,\n",
    "            'Same League': same / total * 100,\n",
    "            'Dating Up': up / total * 100,\n",
    "            'Dating Down': down / total * 100\n",
    "        })\n",
    "    \n",
    "    return pd.DataFrame(results)\n",
    "\n",
    "# Process using cudf\n",
    "women_direction = calculate_league_direction_cudf(all_hetero_gdf.copy(), 'female_league', 'male_league')\n",
    "men_direction = calculate_league_direction_cudf(all_hetero_gdf.copy(), 'male_league', 'female_league')\n",
    "\n",
    "print(\"Women's match direction:\")\n",
    "print(women_direction.round(1))\n",
    "print(\"\\nMen's match direction:\")\n",
    "print(men_direction.round(1))"
   ]
  },
  {
   "cell_type": "code",
   "execution_count": 18,
   "id": "d00a9517",
   "metadata": {},
   "outputs": [
    {
     "data": {
      "application/vnd.plotly.v1+json": {
       "config": {
        "plotlyServerURL": "https://plot.ly"
       },
       "data": [
        {
         "marker": {
          "color": "rgba(255, 127, 127, 0.8)"
         },
         "name": "Dating Down",
         "text": [
          "",
          "15.3%",
          "24.6%",
          "35.3%",
          "57.2%"
         ],
         "textposition": "inside",
         "type": "bar",
         "x": [
          "Bronze",
          "Silver",
          "Gold",
          "Platinum",
          "Diamond"
         ],
         "y": [
          0,
          15.304076631766542,
          24.61035212622667,
          35.32268170426065,
          57.224990417784596
         ]
        },
        {
         "marker": {
          "color": "rgba(144, 238, 144, 0.8)"
         },
         "name": "Same League",
         "text": [
          "16.7%",
          "12.2%",
          "11.7%",
          "20.9%",
          "42.8%"
         ],
         "textposition": "inside",
         "type": "bar",
         "x": [
          "Bronze",
          "Silver",
          "Gold",
          "Platinum",
          "Diamond"
         ],
         "y": [
          16.702027345591702,
          12.185341946981511,
          11.718299018664615,
          20.895989974937343,
          42.775009582215404
         ]
        },
        {
         "marker": {
          "color": "rgba(173, 216, 230, 0.8)"
         },
         "name": "Dating Up",
         "text": [
          "83.3%",
          "72.5%",
          "63.7%",
          "43.8%",
          ""
         ],
         "textposition": "inside",
         "type": "bar",
         "x": [
          "Bronze",
          "Silver",
          "Gold",
          "Platinum",
          "Diamond"
         ],
         "y": [
          83.2979726544083,
          72.51058142125196,
          63.67134885510871,
          43.781328320802004,
          0
         ]
        }
       ],
       "layout": {
        "barmode": "stack",
        "height": 500,
        "template": {
         "data": {
          "bar": [
           {
            "error_x": {
             "color": "#2a3f5f"
            },
            "error_y": {
             "color": "#2a3f5f"
            },
            "marker": {
             "line": {
              "color": "#E5ECF6",
              "width": 0.5
             },
             "pattern": {
              "fillmode": "overlay",
              "size": 10,
              "solidity": 0.2
             }
            },
            "type": "bar"
           }
          ],
          "barpolar": [
           {
            "marker": {
             "line": {
              "color": "#E5ECF6",
              "width": 0.5
             },
             "pattern": {
              "fillmode": "overlay",
              "size": 10,
              "solidity": 0.2
             }
            },
            "type": "barpolar"
           }
          ],
          "carpet": [
           {
            "aaxis": {
             "endlinecolor": "#2a3f5f",
             "gridcolor": "white",
             "linecolor": "white",
             "minorgridcolor": "white",
             "startlinecolor": "#2a3f5f"
            },
            "baxis": {
             "endlinecolor": "#2a3f5f",
             "gridcolor": "white",
             "linecolor": "white",
             "minorgridcolor": "white",
             "startlinecolor": "#2a3f5f"
            },
            "type": "carpet"
           }
          ],
          "choropleth": [
           {
            "colorbar": {
             "outlinewidth": 0,
             "ticks": ""
            },
            "type": "choropleth"
           }
          ],
          "contour": [
           {
            "colorbar": {
             "outlinewidth": 0,
             "ticks": ""
            },
            "colorscale": [
             [
              0,
              "#0d0887"
             ],
             [
              0.1111111111111111,
              "#46039f"
             ],
             [
              0.2222222222222222,
              "#7201a8"
             ],
             [
              0.3333333333333333,
              "#9c179e"
             ],
             [
              0.4444444444444444,
              "#bd3786"
             ],
             [
              0.5555555555555556,
              "#d8576b"
             ],
             [
              0.6666666666666666,
              "#ed7953"
             ],
             [
              0.7777777777777778,
              "#fb9f3a"
             ],
             [
              0.8888888888888888,
              "#fdca26"
             ],
             [
              1,
              "#f0f921"
             ]
            ],
            "type": "contour"
           }
          ],
          "contourcarpet": [
           {
            "colorbar": {
             "outlinewidth": 0,
             "ticks": ""
            },
            "type": "contourcarpet"
           }
          ],
          "heatmap": [
           {
            "colorbar": {
             "outlinewidth": 0,
             "ticks": ""
            },
            "colorscale": [
             [
              0,
              "#0d0887"
             ],
             [
              0.1111111111111111,
              "#46039f"
             ],
             [
              0.2222222222222222,
              "#7201a8"
             ],
             [
              0.3333333333333333,
              "#9c179e"
             ],
             [
              0.4444444444444444,
              "#bd3786"
             ],
             [
              0.5555555555555556,
              "#d8576b"
             ],
             [
              0.6666666666666666,
              "#ed7953"
             ],
             [
              0.7777777777777778,
              "#fb9f3a"
             ],
             [
              0.8888888888888888,
              "#fdca26"
             ],
             [
              1,
              "#f0f921"
             ]
            ],
            "type": "heatmap"
           }
          ],
          "histogram": [
           {
            "marker": {
             "pattern": {
              "fillmode": "overlay",
              "size": 10,
              "solidity": 0.2
             }
            },
            "type": "histogram"
           }
          ],
          "histogram2d": [
           {
            "colorbar": {
             "outlinewidth": 0,
             "ticks": ""
            },
            "colorscale": [
             [
              0,
              "#0d0887"
             ],
             [
              0.1111111111111111,
              "#46039f"
             ],
             [
              0.2222222222222222,
              "#7201a8"
             ],
             [
              0.3333333333333333,
              "#9c179e"
             ],
             [
              0.4444444444444444,
              "#bd3786"
             ],
             [
              0.5555555555555556,
              "#d8576b"
             ],
             [
              0.6666666666666666,
              "#ed7953"
             ],
             [
              0.7777777777777778,
              "#fb9f3a"
             ],
             [
              0.8888888888888888,
              "#fdca26"
             ],
             [
              1,
              "#f0f921"
             ]
            ],
            "type": "histogram2d"
           }
          ],
          "histogram2dcontour": [
           {
            "colorbar": {
             "outlinewidth": 0,
             "ticks": ""
            },
            "colorscale": [
             [
              0,
              "#0d0887"
             ],
             [
              0.1111111111111111,
              "#46039f"
             ],
             [
              0.2222222222222222,
              "#7201a8"
             ],
             [
              0.3333333333333333,
              "#9c179e"
             ],
             [
              0.4444444444444444,
              "#bd3786"
             ],
             [
              0.5555555555555556,
              "#d8576b"
             ],
             [
              0.6666666666666666,
              "#ed7953"
             ],
             [
              0.7777777777777778,
              "#fb9f3a"
             ],
             [
              0.8888888888888888,
              "#fdca26"
             ],
             [
              1,
              "#f0f921"
             ]
            ],
            "type": "histogram2dcontour"
           }
          ],
          "mesh3d": [
           {
            "colorbar": {
             "outlinewidth": 0,
             "ticks": ""
            },
            "type": "mesh3d"
           }
          ],
          "parcoords": [
           {
            "line": {
             "colorbar": {
              "outlinewidth": 0,
              "ticks": ""
             }
            },
            "type": "parcoords"
           }
          ],
          "pie": [
           {
            "automargin": true,
            "type": "pie"
           }
          ],
          "scatter": [
           {
            "fillpattern": {
             "fillmode": "overlay",
             "size": 10,
             "solidity": 0.2
            },
            "type": "scatter"
           }
          ],
          "scatter3d": [
           {
            "line": {
             "colorbar": {
              "outlinewidth": 0,
              "ticks": ""
             }
            },
            "marker": {
             "colorbar": {
              "outlinewidth": 0,
              "ticks": ""
             }
            },
            "type": "scatter3d"
           }
          ],
          "scattercarpet": [
           {
            "marker": {
             "colorbar": {
              "outlinewidth": 0,
              "ticks": ""
             }
            },
            "type": "scattercarpet"
           }
          ],
          "scattergeo": [
           {
            "marker": {
             "colorbar": {
              "outlinewidth": 0,
              "ticks": ""
             }
            },
            "type": "scattergeo"
           }
          ],
          "scattergl": [
           {
            "marker": {
             "colorbar": {
              "outlinewidth": 0,
              "ticks": ""
             }
            },
            "type": "scattergl"
           }
          ],
          "scattermap": [
           {
            "marker": {
             "colorbar": {
              "outlinewidth": 0,
              "ticks": ""
             }
            },
            "type": "scattermap"
           }
          ],
          "scattermapbox": [
           {
            "marker": {
             "colorbar": {
              "outlinewidth": 0,
              "ticks": ""
             }
            },
            "type": "scattermapbox"
           }
          ],
          "scatterpolar": [
           {
            "marker": {
             "colorbar": {
              "outlinewidth": 0,
              "ticks": ""
             }
            },
            "type": "scatterpolar"
           }
          ],
          "scatterpolargl": [
           {
            "marker": {
             "colorbar": {
              "outlinewidth": 0,
              "ticks": ""
             }
            },
            "type": "scatterpolargl"
           }
          ],
          "scatterternary": [
           {
            "marker": {
             "colorbar": {
              "outlinewidth": 0,
              "ticks": ""
             }
            },
            "type": "scatterternary"
           }
          ],
          "surface": [
           {
            "colorbar": {
             "outlinewidth": 0,
             "ticks": ""
            },
            "colorscale": [
             [
              0,
              "#0d0887"
             ],
             [
              0.1111111111111111,
              "#46039f"
             ],
             [
              0.2222222222222222,
              "#7201a8"
             ],
             [
              0.3333333333333333,
              "#9c179e"
             ],
             [
              0.4444444444444444,
              "#bd3786"
             ],
             [
              0.5555555555555556,
              "#d8576b"
             ],
             [
              0.6666666666666666,
              "#ed7953"
             ],
             [
              0.7777777777777778,
              "#fb9f3a"
             ],
             [
              0.8888888888888888,
              "#fdca26"
             ],
             [
              1,
              "#f0f921"
             ]
            ],
            "type": "surface"
           }
          ],
          "table": [
           {
            "cells": {
             "fill": {
              "color": "#EBF0F8"
             },
             "line": {
              "color": "white"
             }
            },
            "header": {
             "fill": {
              "color": "#C8D4E3"
             },
             "line": {
              "color": "white"
             }
            },
            "type": "table"
           }
          ]
         },
         "layout": {
          "annotationdefaults": {
           "arrowcolor": "#2a3f5f",
           "arrowhead": 0,
           "arrowwidth": 1
          },
          "autotypenumbers": "strict",
          "coloraxis": {
           "colorbar": {
            "outlinewidth": 0,
            "ticks": ""
           }
          },
          "colorscale": {
           "diverging": [
            [
             0,
             "#8e0152"
            ],
            [
             0.1,
             "#c51b7d"
            ],
            [
             0.2,
             "#de77ae"
            ],
            [
             0.3,
             "#f1b6da"
            ],
            [
             0.4,
             "#fde0ef"
            ],
            [
             0.5,
             "#f7f7f7"
            ],
            [
             0.6,
             "#e6f5d0"
            ],
            [
             0.7,
             "#b8e186"
            ],
            [
             0.8,
             "#7fbc41"
            ],
            [
             0.9,
             "#4d9221"
            ],
            [
             1,
             "#276419"
            ]
           ],
           "sequential": [
            [
             0,
             "#0d0887"
            ],
            [
             0.1111111111111111,
             "#46039f"
            ],
            [
             0.2222222222222222,
             "#7201a8"
            ],
            [
             0.3333333333333333,
             "#9c179e"
            ],
            [
             0.4444444444444444,
             "#bd3786"
            ],
            [
             0.5555555555555556,
             "#d8576b"
            ],
            [
             0.6666666666666666,
             "#ed7953"
            ],
            [
             0.7777777777777778,
             "#fb9f3a"
            ],
            [
             0.8888888888888888,
             "#fdca26"
            ],
            [
             1,
             "#f0f921"
            ]
           ],
           "sequentialminus": [
            [
             0,
             "#0d0887"
            ],
            [
             0.1111111111111111,
             "#46039f"
            ],
            [
             0.2222222222222222,
             "#7201a8"
            ],
            [
             0.3333333333333333,
             "#9c179e"
            ],
            [
             0.4444444444444444,
             "#bd3786"
            ],
            [
             0.5555555555555556,
             "#d8576b"
            ],
            [
             0.6666666666666666,
             "#ed7953"
            ],
            [
             0.7777777777777778,
             "#fb9f3a"
            ],
            [
             0.8888888888888888,
             "#fdca26"
            ],
            [
             1,
             "#f0f921"
            ]
           ]
          },
          "colorway": [
           "#636efa",
           "#EF553B",
           "#00cc96",
           "#ab63fa",
           "#FFA15A",
           "#19d3f3",
           "#FF6692",
           "#B6E880",
           "#FF97FF",
           "#FECB52"
          ],
          "font": {
           "color": "#2a3f5f"
          },
          "geo": {
           "bgcolor": "white",
           "lakecolor": "white",
           "landcolor": "#E5ECF6",
           "showlakes": true,
           "showland": true,
           "subunitcolor": "white"
          },
          "hoverlabel": {
           "align": "left"
          },
          "hovermode": "closest",
          "mapbox": {
           "style": "light"
          },
          "paper_bgcolor": "white",
          "plot_bgcolor": "#E5ECF6",
          "polar": {
           "angularaxis": {
            "gridcolor": "white",
            "linecolor": "white",
            "ticks": ""
           },
           "bgcolor": "#E5ECF6",
           "radialaxis": {
            "gridcolor": "white",
            "linecolor": "white",
            "ticks": ""
           }
          },
          "scene": {
           "xaxis": {
            "backgroundcolor": "#E5ECF6",
            "gridcolor": "white",
            "gridwidth": 2,
            "linecolor": "white",
            "showbackground": true,
            "ticks": "",
            "zerolinecolor": "white"
           },
           "yaxis": {
            "backgroundcolor": "#E5ECF6",
            "gridcolor": "white",
            "gridwidth": 2,
            "linecolor": "white",
            "showbackground": true,
            "ticks": "",
            "zerolinecolor": "white"
           },
           "zaxis": {
            "backgroundcolor": "#E5ECF6",
            "gridcolor": "white",
            "gridwidth": 2,
            "linecolor": "white",
            "showbackground": true,
            "ticks": "",
            "zerolinecolor": "white"
           }
          },
          "shapedefaults": {
           "line": {
            "color": "#2a3f5f"
           }
          },
          "ternary": {
           "aaxis": {
            "gridcolor": "white",
            "linecolor": "white",
            "ticks": ""
           },
           "baxis": {
            "gridcolor": "white",
            "linecolor": "white",
            "ticks": ""
           },
           "bgcolor": "#E5ECF6",
           "caxis": {
            "gridcolor": "white",
            "linecolor": "white",
            "ticks": ""
           }
          },
          "title": {
           "x": 0.05
          },
          "xaxis": {
           "automargin": true,
           "gridcolor": "white",
           "linecolor": "white",
           "ticks": "",
           "title": {
            "standoff": 15
           },
           "zerolinecolor": "white",
           "zerolinewidth": 2
          },
          "yaxis": {
           "automargin": true,
           "gridcolor": "white",
           "linecolor": "white",
           "ticks": "",
           "title": {
            "standoff": 15
           },
           "zerolinecolor": "white",
           "zerolinewidth": 2
          }
         }
        },
        "title": {
         "text": "Women: Match Direction by League<br><sub>Percentage of matches with same league, higher league, or lower league partners</sub>",
         "x": 0.5,
         "xanchor": "center"
        },
        "width": 900,
        "xaxis": {
         "title": {
          "text": "Female League"
         }
        },
        "yaxis": {
         "title": {
          "text": "Percentage of Matches (%)"
         }
        }
       }
      }
     },
     "metadata": {},
     "output_type": "display_data"
    }
   ],
   "source": [
    "# Stacked bar chart for women's dating direction\n",
    "# Color each league bar with its respective color\n",
    "fig_women_dir = go.Figure()\n",
    "\n",
    "for idx, league in enumerate(league_order):\n",
    "    league_data = women_direction[women_direction['league'] == league]\n",
    "    if len(league_data) > 0:\n",
    "        # Dating Down\n",
    "        fig_women_dir.add_trace(go.Bar(\n",
    "            name=league if idx == 0 else None,  # Only show in legend once\n",
    "            x=[league],\n",
    "            y=league_data['Dating Down'],\n",
    "            marker_color=league_colors[league],\n",
    "            legendgroup=league,\n",
    "            showlegend=False,\n",
    "            text=league_data['Dating Down'].round(1),\n",
    "            texttemplate='%{text}%',\n",
    "            textposition='inside'\n",
    "        ))\n",
    "\n",
    "# Use simpler approach: bars colored by league\n",
    "bars_down = []\n",
    "bars_same = []\n",
    "bars_up = []\n",
    "for league in league_order:\n",
    "    league_data = women_direction[women_direction['league'] == league]\n",
    "    if len(league_data) > 0:\n",
    "        bars_down.append(league_data['Dating Down'].values[0])\n",
    "        bars_same.append(league_data['Same League'].values[0])\n",
    "        bars_up.append(league_data['Dating Up'].values[0])\n",
    "    else:\n",
    "        bars_down.append(0)\n",
    "        bars_same.append(0)\n",
    "        bars_up.append(0)\n",
    "\n",
    "fig_women_dir = go.Figure()\n",
    "\n",
    "fig_women_dir.add_trace(go.Bar(\n",
    "    name='Dating Down',\n",
    "    x=league_order,\n",
    "    y=bars_down,\n",
    "    marker_color='rgba(255, 127, 127, 0.8)',  # light red\n",
    "    text=[f'{v:.1f}%' if v > 0 else '' for v in bars_down],\n",
    "    textposition='inside'\n",
    "))\n",
    "\n",
    "fig_women_dir.add_trace(go.Bar(\n",
    "    name='Same League',\n",
    "    x=league_order,\n",
    "    y=bars_same,\n",
    "    marker_color='rgba(144, 238, 144, 0.8)',  # light green\n",
    "    text=[f'{v:.1f}%' if v > 0 else '' for v in bars_same],\n",
    "    textposition='inside'\n",
    "))\n",
    "\n",
    "fig_women_dir.add_trace(go.Bar(\n",
    "    name='Dating Up',\n",
    "    x=league_order,\n",
    "    y=bars_up,\n",
    "    marker_color='rgba(173, 216, 230, 0.8)',  # light blue\n",
    "    text=[f'{v:.1f}%' if v > 0 else '' for v in bars_up],\n",
    "    textposition='inside'\n",
    "))\n",
    "\n",
    "fig_women_dir.update_layout(\n",
    "    barmode='stack',\n",
    "    title={\n",
    "        'text': 'Women: Match Direction by League<br><sub>Percentage of matches with same league, higher league, or lower league partners</sub>',\n",
    "        'x': 0.5,\n",
    "        'xanchor': 'center'\n",
    "    },\n",
    "    xaxis_title=\"Female League\",\n",
    "    yaxis_title=\"Percentage of Matches (%)\",\n",
    "    width=900,\n",
    "    height=500\n",
    ")\n",
    "\n",
    "fig_women_dir.show()"
   ]
  },
  {
   "cell_type": "code",
   "execution_count": 19,
   "id": "12711c2a",
   "metadata": {},
   "outputs": [
    {
     "data": {
      "application/vnd.plotly.v1+json": {
       "config": {
        "plotlyServerURL": "https://plot.ly"
       },
       "data": [
        {
         "marker": {
          "color": "rgba(255, 127, 127, 0.8)"
         },
         "name": "Dating Down",
         "text": [
          "",
          "30.6%",
          "45.1%",
          "62.3%",
          "81.4%"
         ],
         "textposition": "inside",
         "type": "bar",
         "x": [
          "Bronze",
          "Silver",
          "Gold",
          "Platinum",
          "Diamond"
         ],
         "y": [
          0,
          30.56269637246501,
          45.0720135554928,
          62.32738557020946,
          81.36116910229644
         ]
        },
        {
         "marker": {
          "color": "rgba(144, 238, 144, 0.8)"
         },
         "name": "Same League",
         "text": [
          "32.9%",
          "15.6%",
          "17.2%",
          "20.7%",
          "18.6%"
         ],
         "textposition": "inside",
         "type": "bar",
         "x": [
          "Bronze",
          "Silver",
          "Gold",
          "Platinum",
          "Diamond"
         ],
         "y": [
          32.87703016241299,
          15.62410739788632,
          17.198531488280146,
          20.69821567106284,
          18.63883089770355
         ]
        },
        {
         "marker": {
          "color": "rgba(173, 216, 230, 0.8)"
         },
         "name": "Dating Up",
         "text": [
          "67.1%",
          "53.8%",
          "37.7%",
          "17.0%",
          ""
         ],
         "textposition": "inside",
         "type": "bar",
         "x": [
          "Bronze",
          "Silver",
          "Gold",
          "Platinum",
          "Diamond"
         ],
         "y": [
          67.12296983758701,
          53.813196229648675,
          37.72945495622705,
          16.974398758727695,
          0
         ]
        }
       ],
       "layout": {
        "barmode": "stack",
        "height": 500,
        "template": {
         "data": {
          "bar": [
           {
            "error_x": {
             "color": "#2a3f5f"
            },
            "error_y": {
             "color": "#2a3f5f"
            },
            "marker": {
             "line": {
              "color": "#E5ECF6",
              "width": 0.5
             },
             "pattern": {
              "fillmode": "overlay",
              "size": 10,
              "solidity": 0.2
             }
            },
            "type": "bar"
           }
          ],
          "barpolar": [
           {
            "marker": {
             "line": {
              "color": "#E5ECF6",
              "width": 0.5
             },
             "pattern": {
              "fillmode": "overlay",
              "size": 10,
              "solidity": 0.2
             }
            },
            "type": "barpolar"
           }
          ],
          "carpet": [
           {
            "aaxis": {
             "endlinecolor": "#2a3f5f",
             "gridcolor": "white",
             "linecolor": "white",
             "minorgridcolor": "white",
             "startlinecolor": "#2a3f5f"
            },
            "baxis": {
             "endlinecolor": "#2a3f5f",
             "gridcolor": "white",
             "linecolor": "white",
             "minorgridcolor": "white",
             "startlinecolor": "#2a3f5f"
            },
            "type": "carpet"
           }
          ],
          "choropleth": [
           {
            "colorbar": {
             "outlinewidth": 0,
             "ticks": ""
            },
            "type": "choropleth"
           }
          ],
          "contour": [
           {
            "colorbar": {
             "outlinewidth": 0,
             "ticks": ""
            },
            "colorscale": [
             [
              0,
              "#0d0887"
             ],
             [
              0.1111111111111111,
              "#46039f"
             ],
             [
              0.2222222222222222,
              "#7201a8"
             ],
             [
              0.3333333333333333,
              "#9c179e"
             ],
             [
              0.4444444444444444,
              "#bd3786"
             ],
             [
              0.5555555555555556,
              "#d8576b"
             ],
             [
              0.6666666666666666,
              "#ed7953"
             ],
             [
              0.7777777777777778,
              "#fb9f3a"
             ],
             [
              0.8888888888888888,
              "#fdca26"
             ],
             [
              1,
              "#f0f921"
             ]
            ],
            "type": "contour"
           }
          ],
          "contourcarpet": [
           {
            "colorbar": {
             "outlinewidth": 0,
             "ticks": ""
            },
            "type": "contourcarpet"
           }
          ],
          "heatmap": [
           {
            "colorbar": {
             "outlinewidth": 0,
             "ticks": ""
            },
            "colorscale": [
             [
              0,
              "#0d0887"
             ],
             [
              0.1111111111111111,
              "#46039f"
             ],
             [
              0.2222222222222222,
              "#7201a8"
             ],
             [
              0.3333333333333333,
              "#9c179e"
             ],
             [
              0.4444444444444444,
              "#bd3786"
             ],
             [
              0.5555555555555556,
              "#d8576b"
             ],
             [
              0.6666666666666666,
              "#ed7953"
             ],
             [
              0.7777777777777778,
              "#fb9f3a"
             ],
             [
              0.8888888888888888,
              "#fdca26"
             ],
             [
              1,
              "#f0f921"
             ]
            ],
            "type": "heatmap"
           }
          ],
          "histogram": [
           {
            "marker": {
             "pattern": {
              "fillmode": "overlay",
              "size": 10,
              "solidity": 0.2
             }
            },
            "type": "histogram"
           }
          ],
          "histogram2d": [
           {
            "colorbar": {
             "outlinewidth": 0,
             "ticks": ""
            },
            "colorscale": [
             [
              0,
              "#0d0887"
             ],
             [
              0.1111111111111111,
              "#46039f"
             ],
             [
              0.2222222222222222,
              "#7201a8"
             ],
             [
              0.3333333333333333,
              "#9c179e"
             ],
             [
              0.4444444444444444,
              "#bd3786"
             ],
             [
              0.5555555555555556,
              "#d8576b"
             ],
             [
              0.6666666666666666,
              "#ed7953"
             ],
             [
              0.7777777777777778,
              "#fb9f3a"
             ],
             [
              0.8888888888888888,
              "#fdca26"
             ],
             [
              1,
              "#f0f921"
             ]
            ],
            "type": "histogram2d"
           }
          ],
          "histogram2dcontour": [
           {
            "colorbar": {
             "outlinewidth": 0,
             "ticks": ""
            },
            "colorscale": [
             [
              0,
              "#0d0887"
             ],
             [
              0.1111111111111111,
              "#46039f"
             ],
             [
              0.2222222222222222,
              "#7201a8"
             ],
             [
              0.3333333333333333,
              "#9c179e"
             ],
             [
              0.4444444444444444,
              "#bd3786"
             ],
             [
              0.5555555555555556,
              "#d8576b"
             ],
             [
              0.6666666666666666,
              "#ed7953"
             ],
             [
              0.7777777777777778,
              "#fb9f3a"
             ],
             [
              0.8888888888888888,
              "#fdca26"
             ],
             [
              1,
              "#f0f921"
             ]
            ],
            "type": "histogram2dcontour"
           }
          ],
          "mesh3d": [
           {
            "colorbar": {
             "outlinewidth": 0,
             "ticks": ""
            },
            "type": "mesh3d"
           }
          ],
          "parcoords": [
           {
            "line": {
             "colorbar": {
              "outlinewidth": 0,
              "ticks": ""
             }
            },
            "type": "parcoords"
           }
          ],
          "pie": [
           {
            "automargin": true,
            "type": "pie"
           }
          ],
          "scatter": [
           {
            "fillpattern": {
             "fillmode": "overlay",
             "size": 10,
             "solidity": 0.2
            },
            "type": "scatter"
           }
          ],
          "scatter3d": [
           {
            "line": {
             "colorbar": {
              "outlinewidth": 0,
              "ticks": ""
             }
            },
            "marker": {
             "colorbar": {
              "outlinewidth": 0,
              "ticks": ""
             }
            },
            "type": "scatter3d"
           }
          ],
          "scattercarpet": [
           {
            "marker": {
             "colorbar": {
              "outlinewidth": 0,
              "ticks": ""
             }
            },
            "type": "scattercarpet"
           }
          ],
          "scattergeo": [
           {
            "marker": {
             "colorbar": {
              "outlinewidth": 0,
              "ticks": ""
             }
            },
            "type": "scattergeo"
           }
          ],
          "scattergl": [
           {
            "marker": {
             "colorbar": {
              "outlinewidth": 0,
              "ticks": ""
             }
            },
            "type": "scattergl"
           }
          ],
          "scattermap": [
           {
            "marker": {
             "colorbar": {
              "outlinewidth": 0,
              "ticks": ""
             }
            },
            "type": "scattermap"
           }
          ],
          "scattermapbox": [
           {
            "marker": {
             "colorbar": {
              "outlinewidth": 0,
              "ticks": ""
             }
            },
            "type": "scattermapbox"
           }
          ],
          "scatterpolar": [
           {
            "marker": {
             "colorbar": {
              "outlinewidth": 0,
              "ticks": ""
             }
            },
            "type": "scatterpolar"
           }
          ],
          "scatterpolargl": [
           {
            "marker": {
             "colorbar": {
              "outlinewidth": 0,
              "ticks": ""
             }
            },
            "type": "scatterpolargl"
           }
          ],
          "scatterternary": [
           {
            "marker": {
             "colorbar": {
              "outlinewidth": 0,
              "ticks": ""
             }
            },
            "type": "scatterternary"
           }
          ],
          "surface": [
           {
            "colorbar": {
             "outlinewidth": 0,
             "ticks": ""
            },
            "colorscale": [
             [
              0,
              "#0d0887"
             ],
             [
              0.1111111111111111,
              "#46039f"
             ],
             [
              0.2222222222222222,
              "#7201a8"
             ],
             [
              0.3333333333333333,
              "#9c179e"
             ],
             [
              0.4444444444444444,
              "#bd3786"
             ],
             [
              0.5555555555555556,
              "#d8576b"
             ],
             [
              0.6666666666666666,
              "#ed7953"
             ],
             [
              0.7777777777777778,
              "#fb9f3a"
             ],
             [
              0.8888888888888888,
              "#fdca26"
             ],
             [
              1,
              "#f0f921"
             ]
            ],
            "type": "surface"
           }
          ],
          "table": [
           {
            "cells": {
             "fill": {
              "color": "#EBF0F8"
             },
             "line": {
              "color": "white"
             }
            },
            "header": {
             "fill": {
              "color": "#C8D4E3"
             },
             "line": {
              "color": "white"
             }
            },
            "type": "table"
           }
          ]
         },
         "layout": {
          "annotationdefaults": {
           "arrowcolor": "#2a3f5f",
           "arrowhead": 0,
           "arrowwidth": 1
          },
          "autotypenumbers": "strict",
          "coloraxis": {
           "colorbar": {
            "outlinewidth": 0,
            "ticks": ""
           }
          },
          "colorscale": {
           "diverging": [
            [
             0,
             "#8e0152"
            ],
            [
             0.1,
             "#c51b7d"
            ],
            [
             0.2,
             "#de77ae"
            ],
            [
             0.3,
             "#f1b6da"
            ],
            [
             0.4,
             "#fde0ef"
            ],
            [
             0.5,
             "#f7f7f7"
            ],
            [
             0.6,
             "#e6f5d0"
            ],
            [
             0.7,
             "#b8e186"
            ],
            [
             0.8,
             "#7fbc41"
            ],
            [
             0.9,
             "#4d9221"
            ],
            [
             1,
             "#276419"
            ]
           ],
           "sequential": [
            [
             0,
             "#0d0887"
            ],
            [
             0.1111111111111111,
             "#46039f"
            ],
            [
             0.2222222222222222,
             "#7201a8"
            ],
            [
             0.3333333333333333,
             "#9c179e"
            ],
            [
             0.4444444444444444,
             "#bd3786"
            ],
            [
             0.5555555555555556,
             "#d8576b"
            ],
            [
             0.6666666666666666,
             "#ed7953"
            ],
            [
             0.7777777777777778,
             "#fb9f3a"
            ],
            [
             0.8888888888888888,
             "#fdca26"
            ],
            [
             1,
             "#f0f921"
            ]
           ],
           "sequentialminus": [
            [
             0,
             "#0d0887"
            ],
            [
             0.1111111111111111,
             "#46039f"
            ],
            [
             0.2222222222222222,
             "#7201a8"
            ],
            [
             0.3333333333333333,
             "#9c179e"
            ],
            [
             0.4444444444444444,
             "#bd3786"
            ],
            [
             0.5555555555555556,
             "#d8576b"
            ],
            [
             0.6666666666666666,
             "#ed7953"
            ],
            [
             0.7777777777777778,
             "#fb9f3a"
            ],
            [
             0.8888888888888888,
             "#fdca26"
            ],
            [
             1,
             "#f0f921"
            ]
           ]
          },
          "colorway": [
           "#636efa",
           "#EF553B",
           "#00cc96",
           "#ab63fa",
           "#FFA15A",
           "#19d3f3",
           "#FF6692",
           "#B6E880",
           "#FF97FF",
           "#FECB52"
          ],
          "font": {
           "color": "#2a3f5f"
          },
          "geo": {
           "bgcolor": "white",
           "lakecolor": "white",
           "landcolor": "#E5ECF6",
           "showlakes": true,
           "showland": true,
           "subunitcolor": "white"
          },
          "hoverlabel": {
           "align": "left"
          },
          "hovermode": "closest",
          "mapbox": {
           "style": "light"
          },
          "paper_bgcolor": "white",
          "plot_bgcolor": "#E5ECF6",
          "polar": {
           "angularaxis": {
            "gridcolor": "white",
            "linecolor": "white",
            "ticks": ""
           },
           "bgcolor": "#E5ECF6",
           "radialaxis": {
            "gridcolor": "white",
            "linecolor": "white",
            "ticks": ""
           }
          },
          "scene": {
           "xaxis": {
            "backgroundcolor": "#E5ECF6",
            "gridcolor": "white",
            "gridwidth": 2,
            "linecolor": "white",
            "showbackground": true,
            "ticks": "",
            "zerolinecolor": "white"
           },
           "yaxis": {
            "backgroundcolor": "#E5ECF6",
            "gridcolor": "white",
            "gridwidth": 2,
            "linecolor": "white",
            "showbackground": true,
            "ticks": "",
            "zerolinecolor": "white"
           },
           "zaxis": {
            "backgroundcolor": "#E5ECF6",
            "gridcolor": "white",
            "gridwidth": 2,
            "linecolor": "white",
            "showbackground": true,
            "ticks": "",
            "zerolinecolor": "white"
           }
          },
          "shapedefaults": {
           "line": {
            "color": "#2a3f5f"
           }
          },
          "ternary": {
           "aaxis": {
            "gridcolor": "white",
            "linecolor": "white",
            "ticks": ""
           },
           "baxis": {
            "gridcolor": "white",
            "linecolor": "white",
            "ticks": ""
           },
           "bgcolor": "#E5ECF6",
           "caxis": {
            "gridcolor": "white",
            "linecolor": "white",
            "ticks": ""
           }
          },
          "title": {
           "x": 0.05
          },
          "xaxis": {
           "automargin": true,
           "gridcolor": "white",
           "linecolor": "white",
           "ticks": "",
           "title": {
            "standoff": 15
           },
           "zerolinecolor": "white",
           "zerolinewidth": 2
          },
          "yaxis": {
           "automargin": true,
           "gridcolor": "white",
           "linecolor": "white",
           "ticks": "",
           "title": {
            "standoff": 15
           },
           "zerolinecolor": "white",
           "zerolinewidth": 2
          }
         }
        },
        "title": {
         "text": "Men: Match Direction by League<br><sub>Percentage of matches with same league, higher league, or lower league partners</sub>",
         "x": 0.5,
         "xanchor": "center"
        },
        "width": 900,
        "xaxis": {
         "title": {
          "text": "Male League"
         }
        },
        "yaxis": {
         "title": {
          "text": "Percentage of Matches (%)"
         }
        }
       }
      }
     },
     "metadata": {},
     "output_type": "display_data"
    }
   ],
   "source": [
    "# Stacked bar chart for men's dating direction\n",
    "bars_down = []\n",
    "bars_same = []\n",
    "bars_up = []\n",
    "for league in league_order:\n",
    "    league_data = men_direction[men_direction['league'] == league]\n",
    "    if len(league_data) > 0:\n",
    "        bars_down.append(league_data['Dating Down'].values[0])\n",
    "        bars_same.append(league_data['Same League'].values[0])\n",
    "        bars_up.append(league_data['Dating Up'].values[0])\n",
    "    else:\n",
    "        bars_down.append(0)\n",
    "        bars_same.append(0)\n",
    "        bars_up.append(0)\n",
    "\n",
    "fig_men_dir = go.Figure()\n",
    "\n",
    "fig_men_dir.add_trace(go.Bar(\n",
    "    name='Dating Down',\n",
    "    x=league_order,\n",
    "    y=bars_down,\n",
    "    marker_color='rgba(255, 127, 127, 0.8)',  # light red\n",
    "    text=[f'{v:.1f}%' if v > 0 else '' for v in bars_down],\n",
    "    textposition='inside'\n",
    "))\n",
    "\n",
    "fig_men_dir.add_trace(go.Bar(\n",
    "    name='Same League',\n",
    "    x=league_order,\n",
    "    y=bars_same,\n",
    "    marker_color='rgba(144, 238, 144, 0.8)',  # light green\n",
    "    text=[f'{v:.1f}%' if v > 0 else '' for v in bars_same],\n",
    "    textposition='inside'\n",
    "))\n",
    "\n",
    "fig_men_dir.add_trace(go.Bar(\n",
    "    name='Dating Up',\n",
    "    x=league_order,\n",
    "    y=bars_up,\n",
    "    marker_color='rgba(173, 216, 230, 0.8)',  # light blue\n",
    "    text=[f'{v:.1f}%' if v > 0 else '' for v in bars_up],\n",
    "    textposition='inside'\n",
    "))\n",
    "\n",
    "fig_men_dir.update_layout(\n",
    "    barmode='stack',\n",
    "    title={\n",
    "        'text': 'Men: Match Direction by League<br><sub>Percentage of matches with same league, higher league, or lower league partners</sub>',\n",
    "        'x': 0.5,\n",
    "        'xanchor': 'center'\n",
    "    },\n",
    "    xaxis_title=\"Male League\",\n",
    "    yaxis_title=\"Percentage of Matches (%)\",\n",
    "    width=900,\n",
    "    height=500\n",
    ")\n",
    "\n",
    "fig_men_dir.show()"
   ]
  },
  {
   "cell_type": "markdown",
   "id": "64a5de81",
   "metadata": {},
   "source": [
    "### Key Insights Summary"
   ]
  },
  {
   "cell_type": "code",
   "execution_count": 20,
   "id": "ffcca88e",
   "metadata": {},
   "outputs": [
    {
     "name": "stdout",
     "output_type": "stream",
     "text": [
      "================================================================================\n",
      "CROSS-LEAGUE MATCHING INSIGHTS (Reciprocal Likes)\n",
      "================================================================================\n",
      "\n",
      "1. OVERALL MATCH DISTRIBUTION\n",
      "   Total reciprocal matches analyzed: 29772\n",
      "   Total users with leagues: 90083\n",
      "\n",
      "2. SAME-LEAGUE MATCHES\n",
      "   Same-league matches: 6139 (20.6%)\n",
      "\n",
      "3. LEAGUE MOBILITY (Women)\n",
      "   Bronze   - Same:  16.7%, Up:  83.3%, Down:   0.0%\n",
      "   Silver   - Same:  12.2%, Up:  72.5%, Down:  15.3%\n",
      "   Gold     - Same:  11.7%, Up:  63.7%, Down:  24.6%\n",
      "   Platinum - Same:  20.9%, Up:  43.8%, Down:  35.3%\n",
      "   Diamond  - Same:  42.8%, Up:   0.0%, Down:  57.2%\n",
      "\n",
      "4. LEAGUE MOBILITY (Men)\n",
      "   Bronze   - Same:  32.9%, Up:  67.1%, Down:   0.0%\n",
      "   Silver   - Same:  15.6%, Up:  53.8%, Down:  30.6%\n",
      "   Gold     - Same:  17.2%, Up:  37.7%, Down:  45.1%\n",
      "   Platinum - Same:  20.7%, Up:  17.0%, Down:  62.3%\n",
      "   Diamond  - Same:  18.6%, Up:   0.0%, Down:  81.4%\n",
      "\n",
      "5. TOP CROSS-LEAGUE COMBINATIONS\n",
      "   Bronze ♀ + Diamond ♂           - 2988 matches (10.0%)\n",
      "   Platinum ♀ + Diamond ♂         - 2795 matches ( 9.4%)\n",
      "   Gold ♀ + Diamond ♂             - 2200 matches ( 7.4%)\n",
      "   Bronze ♀ + Platinum ♂          - 1961 matches ( 6.6%)\n",
      "   Silver ♀ + Diamond ♂           - 1760 matches ( 5.9%)\n",
      "   Gold ♀ + Platinum ♂            - 1109 matches ( 3.7%)\n",
      "   Diamond ♀ + Platinum ♂         - 1094 matches ( 3.7%)\n",
      "   Bronze ♀ + Silver ♂            - 1070 matches ( 3.6%)\n",
      "   Bronze ♀ + Gold ♂              - 1048 matches ( 3.5%)\n",
      "   Silver ♀ + Platinum ♂          -  947 matches ( 3.2%)\n",
      "\n",
      "================================================================================\n"
     ]
    }
   ],
   "source": [
    "# Generate summary statistics\n",
    "print(\"=\" * 80)\n",
    "print(\"CROSS-LEAGUE MATCHING INSIGHTS (Reciprocal Likes)\")\n",
    "print(\"=\" * 80)\n",
    "\n",
    "# Overall match distribution\n",
    "print(\"\\n1. OVERALL MATCH DISTRIBUTION\")\n",
    "print(f\"   Total reciprocal matches analyzed: {len(all_hetero_matches)}\")\n",
    "print(f\"   Total users with leagues: {len(user_info_gdf)}\")\n",
    "\n",
    "# Same-league matching rate\n",
    "same_league_matches = len(all_hetero_matches[\n",
    "    all_hetero_matches['female_league'] == all_hetero_matches['male_league']\n",
    "])\n",
    "print(f\"\\n2. SAME-LEAGUE MATCHES\")\n",
    "print(f\"   Same-league matches: {same_league_matches} ({same_league_matches/len(all_hetero_matches)*100:.1f}%)\")\n",
    "\n",
    "# League mobility\n",
    "print(\"\\n3. LEAGUE MOBILITY (Women)\")\n",
    "for _, row in women_direction.iterrows():\n",
    "    print(f\"   {row['league']:8} - Same: {row['Same League']:5.1f}%, Up: {row['Dating Up']:5.1f}%, Down: {row['Dating Down']:5.1f}%\")\n",
    "\n",
    "print(\"\\n4. LEAGUE MOBILITY (Men)\")\n",
    "for _, row in men_direction.iterrows():\n",
    "    print(f\"   {row['league']:8} - Same: {row['Same League']:5.1f}%, Up: {row['Dating Up']:5.1f}%, Down: {row['Dating Down']:5.1f}%\")\n",
    "\n",
    "# Top cross-league pairs\n",
    "print(\"\\n5. TOP CROSS-LEAGUE COMBINATIONS\")\n",
    "cross_league = all_hetero_matches[\n",
    "    all_hetero_matches['female_league'] != all_hetero_matches['male_league']\n",
    "].copy()\n",
    "cross_league['combo'] = cross_league['female_league'] + ' ♀ + ' + cross_league['male_league'] + ' ♂'\n",
    "top_combos = cross_league['combo'].value_counts().head(10)\n",
    "for combo, count in top_combos.items():\n",
    "    pct = count / len(all_hetero_matches) * 100\n",
    "    print(f\"   {combo:30} - {count:4} matches ({pct:4.1f}%)\")\n",
    "\n",
    "print(\"\\n\" + \"=\" * 80)"
   ]
  }
 ],
 "metadata": {
  "kernelspec": {
   "display_name": "matchmaker-dev",
   "language": "python",
   "name": "python3"
  },
  "language_info": {
   "codemirror_mode": {
    "name": "ipython",
    "version": 3
   },
   "file_extension": ".py",
   "mimetype": "text/x-python",
   "name": "python",
   "nbconvert_exporter": "python",
   "pygments_lexer": "ipython3",
   "version": "3.10.18"
  }
 },
 "nbformat": 4,
 "nbformat_minor": 5
}
