{
 "cells": [
  {
   "cell_type": "code",
   "execution_count": 3,
   "id": "b2fb67e6",
   "metadata": {},
   "outputs": [
    {
     "name": "stdout",
     "output_type": "stream",
     "text": [
      "False\n"
     ]
    }
   ],
   "source": [
    "import numba.cuda\n",
    "print(numba.cuda.is_available())"
   ]
  },
  {
   "cell_type": "code",
   "execution_count": null,
   "id": "a9102631",
   "metadata": {},
   "outputs": [],
   "source": [
    "%cd .."
   ]
  },
  {
   "cell_type": "code",
   "execution_count": null,
   "id": "b99fd6f4",
   "metadata": {},
   "outputs": [],
   "source": [
    "import pandas as pd\n",
    "from matchmaker.data import Interactions\n",
    "\n",
    "import cudf\n",
    "import cugraph"
   ]
  },
  {
   "cell_type": "code",
   "execution_count": null,
   "id": "39fc9951",
   "metadata": {},
   "outputs": [],
   "source": [
    "print(\"Importing data...\")\n",
    "df = pd.read_csv(\"examples/data/swipes.csv\")"
   ]
  },
  {
   "cell_type": "code",
   "execution_count": null,
   "id": "bc598b22",
   "metadata": {},
   "outputs": [],
   "source": [
    "print(\"Building swipes...\")\n",
    "swipes = [\n",
    "    (row.decidermemberid, row.othermemberid)\n",
    "    for row in df.itertuples(index=False)\n",
    "    if row.like == 1\n",
    "]\n",
    "\n",
    "i = Interactions(swipes)"
   ]
  },
  {
   "cell_type": "code",
   "execution_count": null,
   "id": "caecb25d",
   "metadata": {},
   "outputs": [],
   "source": [
    "R, indexer = i.build_matrix()"
   ]
  },
  {
   "cell_type": "code",
   "execution_count": null,
   "id": "12eb09ed",
   "metadata": {},
   "outputs": [],
   "source": [
    "R "
   ]
  }
 ],
 "metadata": {
  "kernelspec": {
   "display_name": "rapids-24.08",
   "language": "python",
   "name": "python3"
  },
  "language_info": {
   "codemirror_mode": {
    "name": "ipython",
    "version": 3
   },
   "file_extension": ".py",
   "mimetype": "text/x-python",
   "name": "python",
   "nbconvert_exporter": "python",
   "pygments_lexer": "ipython3",
   "version": "3.11.13"
  }
 },
 "nbformat": 4,
 "nbformat_minor": 5
}
