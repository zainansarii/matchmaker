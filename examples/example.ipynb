{
 "cells": [
  {
   "cell_type": "code",
   "execution_count": 1,
   "id": "a9102631",
   "metadata": {},
   "outputs": [
    {
     "name": "stdout",
     "output_type": "stream",
     "text": [
      "/home/zain/projects/matchmaker\n"
     ]
    }
   ],
   "source": [
    "%cd .."
   ]
  },
  {
   "cell_type": "code",
   "execution_count": 11,
   "id": "b99fd6f4",
   "metadata": {},
   "outputs": [],
   "source": [
    "import pandas as pd\n",
    "from matchmaker.data import Interactions\n",
    "\n",
    "import cudf\n",
    "import cugraph\n",
    "import cupy as cp\n",
    "import itertools\n",
    "from tqdm import tqdm "
   ]
  },
  {
   "cell_type": "code",
   "execution_count": 3,
   "id": "39fc9951",
   "metadata": {},
   "outputs": [
    {
     "name": "stdout",
     "output_type": "stream",
     "text": [
      "Importing data...\n"
     ]
    }
   ],
   "source": [
    "print(\"Importing data...\")\n",
    "df = pd.read_csv(\"examples/data/swipes.csv\")"
   ]
  },
  {
   "cell_type": "code",
   "execution_count": 4,
   "id": "6a5fc66f",
   "metadata": {},
   "outputs": [],
   "source": [
    "# load pandas dataframe into a GPU dataframe\n",
    "gdf = cudf.DataFrame.from_pandas(df)"
   ]
  },
  {
   "cell_type": "code",
   "execution_count": null,
   "id": "9d575e16",
   "metadata": {},
   "outputs": [],
   "source": [
    "# Only keep relevant columns for graph\n",
    "edges = gdf[['decidermemberid', 'othermemberid', 'like']]\n",
    "\n",
    "G = cugraph.Graph(directed=True)\n",
    "\n",
    "# Pick 'like' as edge weight\n",
    "G.from_cudf_edgelist(\n",
    "    gdf,\n",
    "    source=\"decidermemberid\",\n",
    "    destination=\"othermemberid\",\n",
    "    edge_attr=\"like\",  # only one column allowed\n",
    "    store_transposed=True)"
   ]
  },
  {
   "cell_type": "code",
   "execution_count": 16,
   "id": "819114b3",
   "metadata": {},
   "outputs": [],
   "source": [
    "# Compute PageRank on GPU\n",
    "pr = cugraph.pagerank(G, alpha=0.85)"
   ]
  },
  {
   "cell_type": "code",
   "execution_count": 17,
   "id": "78095032",
   "metadata": {},
   "outputs": [],
   "source": [
    "# Likes received per user\n",
    "likes_received = edges.groupby('othermemberid')['like'].sum().reset_index()\n",
    "likes_received = likes_received.rename(columns={'othermemberid':'vertex', 'like':'likes_received'})\n",
    "\n",
    "# Likes given per user\n",
    "likes_given = edges.groupby('decidermemberid')['like'].sum().reset_index()\n",
    "likes_given = likes_given.rename(columns={'decidermemberid':'vertex', 'like':'likes_given'})\n",
    "\n",
    "# Merge stats with PageRank\n",
    "stats = pr.merge(likes_received, on='vertex', how='left') \\\n",
    "          .merge(likes_given, on='vertex', how='left')\n",
    "\n",
    "# Fill NaNs with 0\n",
    "stats = stats.fillna(0)\n",
    "\n",
    "# Compute like ratio (add small epsilon to avoid div by 0)\n",
    "stats['like_ratio'] = stats['likes_received'] / (stats['likes_given'] + 1e-6)\n"
   ]
  },
  {
   "cell_type": "code",
   "execution_count": 18,
   "id": "324232b6",
   "metadata": {},
   "outputs": [],
   "source": [
    "# Map user -> gender\n",
    "decider_gender = gdf[['decidermemberid', 'decidergender']].rename(\n",
    "    columns={'decidermemberid': 'vertex', 'decidergender': 'gender'}\n",
    ")\n",
    "other_gender = gdf[['othermemberid', 'othergender']].rename(\n",
    "    columns={'othermemberid': 'vertex', 'othergender': 'gender'}\n",
    ")\n",
    "\n",
    "# Combine (take first non-null)\n",
    "gender_map = cudf.concat([decider_gender, other_gender]).drop_duplicates(subset='vertex', keep='first')\n",
    "\n",
    "# Merge gender with stats\n",
    "stats = stats.merge(gender_map, on='vertex', how='left')"
   ]
  },
  {
   "cell_type": "code",
   "execution_count": 19,
   "id": "e9a92d1c",
   "metadata": {},
   "outputs": [
    {
     "name": "stdout",
     "output_type": "stream",
     "text": [
      "        vertex  pagerank  likes_received  likes_given  like_ratio gender\n",
      "23473   371545  0.002049              15        17850    0.000840      M\n",
      "23477   100243  0.001795               6        19316    0.000311      M\n",
      "23478   498532  0.001494              20        13327    0.001501      M\n",
      "23479   679634  0.001454              49        12903    0.003798      M\n",
      "23482   147887  0.001429              14        12159    0.001151      M\n",
      "17497  3811977  0.001380             353          847    0.416765      F\n",
      "23483   855632  0.001322               8        11482    0.000697      M\n",
      "28053  3866975  0.001182              87         1177    0.073917      F\n",
      "23484   315033  0.001141              73         9417    0.007752      M\n",
      "22530  1624195  0.000869              15         7723    0.001942      M\n"
     ]
    }
   ],
   "source": [
    "top_users = stats.sort_values('pagerank', ascending=False).head(10)\n",
    "print(top_users)\n"
   ]
  }
 ],
 "metadata": {
  "kernelspec": {
   "display_name": "matchmaker",
   "language": "python",
   "name": "python3"
  },
  "language_info": {
   "codemirror_mode": {
    "name": "ipython",
    "version": 3
   },
   "file_extension": ".py",
   "mimetype": "text/x-python",
   "name": "python",
   "nbconvert_exporter": "python",
   "pygments_lexer": "ipython3",
   "version": "3.10.18"
  }
 },
 "nbformat": 4,
 "nbformat_minor": 5
}
